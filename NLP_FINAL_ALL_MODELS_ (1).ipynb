{
  "nbformat": 4,
  "nbformat_minor": 0,
  "metadata": {
    "colab": {
      "provenance": [],
      "collapsed_sections": [
        "GVCLruyQJ-Ng",
        "GBz7wiMVdpOx",
        "2Z2RL09IJ9_6",
        "59qCcpNhJ90s",
        "QzjpYsrdLI3l",
        "k7grf0aDNpv3",
        "nfHPnmmCOYpX",
        "rJB7Q_7eRy8A",
        "oUgbk_OCSX4b",
        "Nm6fpW6pe6aJ",
        "FQCJKWz4kTYg",
        "pTazwt6zTMEc",
        "DCZNCG9QT8PI",
        "BN9fotyqT_nX"
      ],
      "gpuType": "T4"
    },
    "kernelspec": {
      "name": "python3",
      "display_name": "Python 3"
    },
    "language_info": {
      "name": "python"
    },
    "accelerator": "GPU"
  },
  "cells": [
    {
      "cell_type": "markdown",
      "source": [
        "# import the necessary libraries"
      ],
      "metadata": {
        "id": "GVCLruyQJ-Ng"
      }
    },
    {
      "cell_type": "code",
      "source": [
        "import pandas as pd\n",
        "from sklearn.model_selection import train_test_split\n",
        "from sklearn.feature_extraction.text import TfidfVectorizer\n",
        "from sklearn.naive_bayes import MultinomialNB, GaussianNB\n",
        "from sklearn.metrics import accuracy_score, classification_report\n",
        "from sklearn.preprocessing import LabelEncoder\n",
        "import pandas as pd\n",
        "import os\n",
        "import numpy as np\n",
        "from sklearn.metrics import accuracy_score, precision_score, recall_score, f1_score, confusion_matrix\n",
        "from tensorflow.keras.utils import to_categorical\n",
        "import torch.nn as nn\n",
        "import torch.optim as optim\n",
        "from transformers import AdamW\n",
        "from transformers import AutoTokenizer, BertTokenizer, BertModel\n",
        "import torch\n",
        "from transformers import GPT2Tokenizer, GPT2ForSequenceClassification, AdamW\n",
        "import torch\n",
        "import torch.nn as nn\n",
        "from sklearn.metrics import accuracy_score, classification_report\n",
        "import tensorflow as tf\n",
        "from tensorflow.keras.preprocessing.sequence import pad_sequences\n",
        "from tensorflow.keras.layers import Embedding, LSTM, Dense, Bidirectional,GRU,SimpleRNN\n",
        "from tensorflow.keras.preprocessing.text import Tokenizer\n",
        "from tensorflow.keras.models import Sequential\n",
        "from tensorflow.keras.optimizers import Adam\n",
        "from transformers import BertTokenizer, BertForSequenceClassification, BertModel\n",
        "device = torch.device('cuda' if torch.cuda.is_available() else 'cpu')\n",
        "print(\"Using device:\", device)\n"
      ],
      "metadata": {
        "id": "EG_zh3hGKYIv",
        "colab": {
          "base_uri": "https://localhost:8080/"
        },
        "outputId": "48a78a5f-8aaa-4ae5-ca3f-b70d7a893123"
      },
      "execution_count": null,
      "outputs": [
        {
          "output_type": "stream",
          "name": "stdout",
          "text": [
            "Using device: cpu\n"
          ]
        }
      ]
    },
    {
      "cell_type": "code",
      "source": [
        "from google.colab import drive\n",
        "drive.mount('/content/drive')"
      ],
      "metadata": {
        "id": "7YoHv0auKYFc",
        "colab": {
          "base_uri": "https://localhost:8080/"
        },
        "outputId": "9d7c70ea-32a3-4a48-f509-c53a8f59c8e5"
      },
      "execution_count": null,
      "outputs": [
        {
          "output_type": "stream",
          "name": "stdout",
          "text": [
            "Drive already mounted at /content/drive; to attempt to forcibly remount, call drive.mount(\"/content/drive\", force_remount=True).\n"
          ]
        }
      ]
    },
    {
      "cell_type": "code",
      "source": [
        "df_train=pd.read_excel(\"/content/drive/MyDrive/NLP files-20240522T143610Z-001/NLP files/preprocessed_data_train2.xlsx\")\n",
        "df_test=pd.read_excel(\"/content/drive/MyDrive/NLP files-20240522T143610Z-001/NLP files/preprocessed_data_test2.xlsx\")"
      ],
      "metadata": {
        "id": "nOKmpWXOKoKo"
      },
      "execution_count": null,
      "outputs": []
    },
    {
      "cell_type": "code",
      "source": [
        "df_train.head()"
      ],
      "metadata": {
        "id": "YnmTgPs3KrfP",
        "colab": {
          "base_uri": "https://localhost:8080/"
        },
        "outputId": "63c811f0-f8f7-4643-c9e6-63067d3dea13"
      },
      "execution_count": null,
      "outputs": [
        {
          "output_type": "execute_result",
          "data": {
            "text/plain": [
              "       Type                                               News  \\\n",
              "0  politics  اشتباك الحريري-عون.. اتهامات لباسيل بالتمسك با...   \n",
              "1  politics                     عون: الحريري أصبح غريب الأطوار   \n",
              "2  politics  وزير الخارجية الأمريكي: ندرس سحب كامل قواتنا م...   \n",
              "3  politics  أفغانستان.. استعدادات حثيثة لاجتماع تركيا وكاب...   \n",
              "4  politics  أندبندنت‮:‬ ‬مفاوضات ‬سرّية ‬‬كادت ‬تنقذ ‬القذافي   \n",
              "\n",
              "                                      processed_text  \n",
              "0  اشتباك حريري عون اتهام باسيل تمسك ثلث معطل بقا...  \n",
              "1                          عون حريري أصبح غريب اطوار  \n",
              "2   وزير خارجيه أمريكي درس سحب كامل قوة أفغانستان حل  \n",
              "3  أفغانستان استعداد حثيث اجتماع تركيا كابل اتهم ...  \n",
              "4               اندبندنت مفاوضة سر يه كاد أنقذ قذافي  "
            ],
            "text/html": [
              "\n",
              "  <div id=\"df-96efec60-b75b-4f7e-9933-18b7ff0651c1\" class=\"colab-df-container\">\n",
              "    <div>\n",
              "<style scoped>\n",
              "    .dataframe tbody tr th:only-of-type {\n",
              "        vertical-align: middle;\n",
              "    }\n",
              "\n",
              "    .dataframe tbody tr th {\n",
              "        vertical-align: top;\n",
              "    }\n",
              "\n",
              "    .dataframe thead th {\n",
              "        text-align: right;\n",
              "    }\n",
              "</style>\n",
              "<table border=\"1\" class=\"dataframe\">\n",
              "  <thead>\n",
              "    <tr style=\"text-align: right;\">\n",
              "      <th></th>\n",
              "      <th>Type</th>\n",
              "      <th>News</th>\n",
              "      <th>processed_text</th>\n",
              "    </tr>\n",
              "  </thead>\n",
              "  <tbody>\n",
              "    <tr>\n",
              "      <th>0</th>\n",
              "      <td>politics</td>\n",
              "      <td>اشتباك الحريري-عون.. اتهامات لباسيل بالتمسك با...</td>\n",
              "      <td>اشتباك حريري عون اتهام باسيل تمسك ثلث معطل بقا...</td>\n",
              "    </tr>\n",
              "    <tr>\n",
              "      <th>1</th>\n",
              "      <td>politics</td>\n",
              "      <td>عون: الحريري أصبح غريب الأطوار</td>\n",
              "      <td>عون حريري أصبح غريب اطوار</td>\n",
              "    </tr>\n",
              "    <tr>\n",
              "      <th>2</th>\n",
              "      <td>politics</td>\n",
              "      <td>وزير الخارجية الأمريكي: ندرس سحب كامل قواتنا م...</td>\n",
              "      <td>وزير خارجيه أمريكي درس سحب كامل قوة أفغانستان حل</td>\n",
              "    </tr>\n",
              "    <tr>\n",
              "      <th>3</th>\n",
              "      <td>politics</td>\n",
              "      <td>أفغانستان.. استعدادات حثيثة لاجتماع تركيا وكاب...</td>\n",
              "      <td>أفغانستان استعداد حثيث اجتماع تركيا كابل اتهم ...</td>\n",
              "    </tr>\n",
              "    <tr>\n",
              "      <th>4</th>\n",
              "      <td>politics</td>\n",
              "      <td>أندبندنت‮:‬ ‬مفاوضات ‬سرّية ‬‬كادت ‬تنقذ ‬القذافي</td>\n",
              "      <td>اندبندنت مفاوضة سر يه كاد أنقذ قذافي</td>\n",
              "    </tr>\n",
              "  </tbody>\n",
              "</table>\n",
              "</div>\n",
              "    <div class=\"colab-df-buttons\">\n",
              "\n",
              "  <div class=\"colab-df-container\">\n",
              "    <button class=\"colab-df-convert\" onclick=\"convertToInteractive('df-96efec60-b75b-4f7e-9933-18b7ff0651c1')\"\n",
              "            title=\"Convert this dataframe to an interactive table.\"\n",
              "            style=\"display:none;\">\n",
              "\n",
              "  <svg xmlns=\"http://www.w3.org/2000/svg\" height=\"24px\" viewBox=\"0 -960 960 960\">\n",
              "    <path d=\"M120-120v-720h720v720H120Zm60-500h600v-160H180v160Zm220 220h160v-160H400v160Zm0 220h160v-160H400v160ZM180-400h160v-160H180v160Zm440 0h160v-160H620v160ZM180-180h160v-160H180v160Zm440 0h160v-160H620v160Z\"/>\n",
              "  </svg>\n",
              "    </button>\n",
              "\n",
              "  <style>\n",
              "    .colab-df-container {\n",
              "      display:flex;\n",
              "      gap: 12px;\n",
              "    }\n",
              "\n",
              "    .colab-df-convert {\n",
              "      background-color: #E8F0FE;\n",
              "      border: none;\n",
              "      border-radius: 50%;\n",
              "      cursor: pointer;\n",
              "      display: none;\n",
              "      fill: #1967D2;\n",
              "      height: 32px;\n",
              "      padding: 0 0 0 0;\n",
              "      width: 32px;\n",
              "    }\n",
              "\n",
              "    .colab-df-convert:hover {\n",
              "      background-color: #E2EBFA;\n",
              "      box-shadow: 0px 1px 2px rgba(60, 64, 67, 0.3), 0px 1px 3px 1px rgba(60, 64, 67, 0.15);\n",
              "      fill: #174EA6;\n",
              "    }\n",
              "\n",
              "    .colab-df-buttons div {\n",
              "      margin-bottom: 4px;\n",
              "    }\n",
              "\n",
              "    [theme=dark] .colab-df-convert {\n",
              "      background-color: #3B4455;\n",
              "      fill: #D2E3FC;\n",
              "    }\n",
              "\n",
              "    [theme=dark] .colab-df-convert:hover {\n",
              "      background-color: #434B5C;\n",
              "      box-shadow: 0px 1px 3px 1px rgba(0, 0, 0, 0.15);\n",
              "      filter: drop-shadow(0px 1px 2px rgba(0, 0, 0, 0.3));\n",
              "      fill: #FFFFFF;\n",
              "    }\n",
              "  </style>\n",
              "\n",
              "    <script>\n",
              "      const buttonEl =\n",
              "        document.querySelector('#df-96efec60-b75b-4f7e-9933-18b7ff0651c1 button.colab-df-convert');\n",
              "      buttonEl.style.display =\n",
              "        google.colab.kernel.accessAllowed ? 'block' : 'none';\n",
              "\n",
              "      async function convertToInteractive(key) {\n",
              "        const element = document.querySelector('#df-96efec60-b75b-4f7e-9933-18b7ff0651c1');\n",
              "        const dataTable =\n",
              "          await google.colab.kernel.invokeFunction('convertToInteractive',\n",
              "                                                    [key], {});\n",
              "        if (!dataTable) return;\n",
              "\n",
              "        const docLinkHtml = 'Like what you see? Visit the ' +\n",
              "          '<a target=\"_blank\" href=https://colab.research.google.com/notebooks/data_table.ipynb>data table notebook</a>'\n",
              "          + ' to learn more about interactive tables.';\n",
              "        element.innerHTML = '';\n",
              "        dataTable['output_type'] = 'display_data';\n",
              "        await google.colab.output.renderOutput(dataTable, element);\n",
              "        const docLink = document.createElement('div');\n",
              "        docLink.innerHTML = docLinkHtml;\n",
              "        element.appendChild(docLink);\n",
              "      }\n",
              "    </script>\n",
              "  </div>\n",
              "\n",
              "\n",
              "<div id=\"df-dfb5d910-e40c-4fe5-93aa-6674216f5c77\">\n",
              "  <button class=\"colab-df-quickchart\" onclick=\"quickchart('df-dfb5d910-e40c-4fe5-93aa-6674216f5c77')\"\n",
              "            title=\"Suggest charts\"\n",
              "            style=\"display:none;\">\n",
              "\n",
              "<svg xmlns=\"http://www.w3.org/2000/svg\" height=\"24px\"viewBox=\"0 0 24 24\"\n",
              "     width=\"24px\">\n",
              "    <g>\n",
              "        <path d=\"M19 3H5c-1.1 0-2 .9-2 2v14c0 1.1.9 2 2 2h14c1.1 0 2-.9 2-2V5c0-1.1-.9-2-2-2zM9 17H7v-7h2v7zm4 0h-2V7h2v10zm4 0h-2v-4h2v4z\"/>\n",
              "    </g>\n",
              "</svg>\n",
              "  </button>\n",
              "\n",
              "<style>\n",
              "  .colab-df-quickchart {\n",
              "      --bg-color: #E8F0FE;\n",
              "      --fill-color: #1967D2;\n",
              "      --hover-bg-color: #E2EBFA;\n",
              "      --hover-fill-color: #174EA6;\n",
              "      --disabled-fill-color: #AAA;\n",
              "      --disabled-bg-color: #DDD;\n",
              "  }\n",
              "\n",
              "  [theme=dark] .colab-df-quickchart {\n",
              "      --bg-color: #3B4455;\n",
              "      --fill-color: #D2E3FC;\n",
              "      --hover-bg-color: #434B5C;\n",
              "      --hover-fill-color: #FFFFFF;\n",
              "      --disabled-bg-color: #3B4455;\n",
              "      --disabled-fill-color: #666;\n",
              "  }\n",
              "\n",
              "  .colab-df-quickchart {\n",
              "    background-color: var(--bg-color);\n",
              "    border: none;\n",
              "    border-radius: 50%;\n",
              "    cursor: pointer;\n",
              "    display: none;\n",
              "    fill: var(--fill-color);\n",
              "    height: 32px;\n",
              "    padding: 0;\n",
              "    width: 32px;\n",
              "  }\n",
              "\n",
              "  .colab-df-quickchart:hover {\n",
              "    background-color: var(--hover-bg-color);\n",
              "    box-shadow: 0 1px 2px rgba(60, 64, 67, 0.3), 0 1px 3px 1px rgba(60, 64, 67, 0.15);\n",
              "    fill: var(--button-hover-fill-color);\n",
              "  }\n",
              "\n",
              "  .colab-df-quickchart-complete:disabled,\n",
              "  .colab-df-quickchart-complete:disabled:hover {\n",
              "    background-color: var(--disabled-bg-color);\n",
              "    fill: var(--disabled-fill-color);\n",
              "    box-shadow: none;\n",
              "  }\n",
              "\n",
              "  .colab-df-spinner {\n",
              "    border: 2px solid var(--fill-color);\n",
              "    border-color: transparent;\n",
              "    border-bottom-color: var(--fill-color);\n",
              "    animation:\n",
              "      spin 1s steps(1) infinite;\n",
              "  }\n",
              "\n",
              "  @keyframes spin {\n",
              "    0% {\n",
              "      border-color: transparent;\n",
              "      border-bottom-color: var(--fill-color);\n",
              "      border-left-color: var(--fill-color);\n",
              "    }\n",
              "    20% {\n",
              "      border-color: transparent;\n",
              "      border-left-color: var(--fill-color);\n",
              "      border-top-color: var(--fill-color);\n",
              "    }\n",
              "    30% {\n",
              "      border-color: transparent;\n",
              "      border-left-color: var(--fill-color);\n",
              "      border-top-color: var(--fill-color);\n",
              "      border-right-color: var(--fill-color);\n",
              "    }\n",
              "    40% {\n",
              "      border-color: transparent;\n",
              "      border-right-color: var(--fill-color);\n",
              "      border-top-color: var(--fill-color);\n",
              "    }\n",
              "    60% {\n",
              "      border-color: transparent;\n",
              "      border-right-color: var(--fill-color);\n",
              "    }\n",
              "    80% {\n",
              "      border-color: transparent;\n",
              "      border-right-color: var(--fill-color);\n",
              "      border-bottom-color: var(--fill-color);\n",
              "    }\n",
              "    90% {\n",
              "      border-color: transparent;\n",
              "      border-bottom-color: var(--fill-color);\n",
              "    }\n",
              "  }\n",
              "</style>\n",
              "\n",
              "  <script>\n",
              "    async function quickchart(key) {\n",
              "      const quickchartButtonEl =\n",
              "        document.querySelector('#' + key + ' button');\n",
              "      quickchartButtonEl.disabled = true;  // To prevent multiple clicks.\n",
              "      quickchartButtonEl.classList.add('colab-df-spinner');\n",
              "      try {\n",
              "        const charts = await google.colab.kernel.invokeFunction(\n",
              "            'suggestCharts', [key], {});\n",
              "      } catch (error) {\n",
              "        console.error('Error during call to suggestCharts:', error);\n",
              "      }\n",
              "      quickchartButtonEl.classList.remove('colab-df-spinner');\n",
              "      quickchartButtonEl.classList.add('colab-df-quickchart-complete');\n",
              "    }\n",
              "    (() => {\n",
              "      let quickchartButtonEl =\n",
              "        document.querySelector('#df-dfb5d910-e40c-4fe5-93aa-6674216f5c77 button');\n",
              "      quickchartButtonEl.style.display =\n",
              "        google.colab.kernel.accessAllowed ? 'block' : 'none';\n",
              "    })();\n",
              "  </script>\n",
              "</div>\n",
              "\n",
              "    </div>\n",
              "  </div>\n"
            ],
            "application/vnd.google.colaboratory.intrinsic+json": {
              "type": "dataframe",
              "variable_name": "df_train",
              "summary": "{\n  \"name\": \"df_train\",\n  \"rows\": 5000,\n  \"fields\": [\n    {\n      \"column\": \"Type\",\n      \"properties\": {\n        \"dtype\": \"category\",\n        \"num_unique_values\": 4,\n        \"samples\": [\n          \"economic\",\n          \"tech\",\n          \"politics\"\n        ],\n        \"semantic_type\": \"\",\n        \"description\": \"\"\n      }\n    },\n    {\n      \"column\": \"News\",\n      \"properties\": {\n        \"dtype\": \"string\",\n        \"num_unique_values\": 4951,\n        \"samples\": [\n          \"\\u0648\\u0641\\u0627\\u0629 \\u0631\\u0626\\u064a\\u0633 \\u062a\\u0646\\u0632\\u0627\\u0646\\u064a\\u0627 \\u0628\\u0639\\u062f \\u0641\\u062a\\u0631\\u0629 \\u063a\\u064a\\u0627\\u0628 \\u063a\\u0627\\u0645\\u0636\\u0629 \\u0639\\u0646 \\u0639\\u0645\\u0631 \\u0646\\u0627\\u0647\\u0632 61 \\u0639\\u0627\\u0645\\u0627\",\n          \"\\u0627\\u0644\\u0648\\u062f\\u0627\\u062f \\u064a\\u062a\\u0623\\u0647\\u0644 \\u0631\\u0633\\u0645\\u064a\\u064b\\u0627 \\u0625\\u0644\\u0649 \\u0631\\u0628\\u0639 \\u0646\\u0647\\u0627\\u0626\\u0649 \\u062f\\u0648\\u0631\\u0649 \\u0623\\u0628\\u0637\\u0627\\u0644 \\u0625\\u0641\\u0631\\u064a\\u0642\\u064a\\u0627 \\u0628\\u0639\\u062f \\u0627\\u0644\\u062a\\u0639\\u0627\\u062f\\u0644 \\u0645\\u0639 \\u062d\\u0648\\u0631\\u064a\\u0627\",\n          \"\\u062a\\u0634\\u064a\\u0644\\u0633\\u064a \\u064a\\u0647\\u0632\\u0645 \\u0648\\u0633\\u062a \\u0647\\u0627\\u0645 \\u0648\\u064a\\u0639\\u0632\\u0632 \\u0645\\u0648\\u0642\\u0639\\u0647 \\u062f\\u0627\\u062e\\u0644 \\u0627\\u0644\\u0645\\u0631\\u0628\\u0639 \\u0627\\u0644\\u0630\\u0647\\u0628\\u064a \\u0644\\u0640\\u00ab\\u0628\\u0631\\u064a\\u0645\\u064a\\u0631\\u0644\\u064a\\u062c\\u00bb\"\n        ],\n        \"semantic_type\": \"\",\n        \"description\": \"\"\n      }\n    },\n    {\n      \"column\": \"processed_text\",\n      \"properties\": {\n        \"dtype\": \"string\",\n        \"num_unique_values\": 4944,\n        \"samples\": [\n          \"\\u0643\\u0648\\u0641\\u064a\\u062f \\u0645\\u0646\\u0638\\u0645 \\u0635\\u062d\\u0647 \\u0627\\u0644\\u0639\\u0627\\u0644\\u0645\\u064a\\u0647 \\u0648\\u0627\\u0635\\u0644 \\u0645\\u0631\\u0627\\u0642\\u0628 \\u0644\\u0642\\u0627\\u062d \\u0627\\u0633\\u062a\\u0631\\u0627\\u0632\\u064a\\u0646\\u064a\\u0643\\u0627 \\u0623\\u062c\\u0627\\u0632 \\u0627\\u0633\\u062a\\u062e\\u062f\\u0627\\u0645 \\u062c\\u0648\\u0646\\u0633\\u0648\\u0646 \\u0623\\u0646\\u062f \\u062c\\u0648\\u0646\\u0633\\u0648\\u0646\",\n          \"\\u0623\\u0645\\u0629 \\u0627\\u0644\\u0645\\u062a\\u062d\\u062f\\u0647 \\u062a\\u0639\\u0631\\u0636 \\u062a\\u062f\\u062e\\u0644 \\u0645\\u0641\\u0627\\u0648\\u0636\\u0629 \\u0633\\u062f \\u0627\\u062b\\u064a\\u0648\\u0628\\u064a\\u0627 \\u0627\\u0633\\u062a\\u062c\\u0627\\u0628 \\u0645\\u0635\\u0631 \\u0633\\u0648\\u062f\\u0627\\u0646\",\n          \"\\u0631\\u0621\\u0627\\u0633\\u0647 \\u0639\\u0631\\u0627\\u0642\\u064a\\u0647 \\u0646\\u0641\\u0649 \\u062a\\u0635\\u0631\\u064a\\u062d \\u062d\\u0648\\u0644 \\u0639\\u0642\\u062f \\u0627\\u062a\\u0641\\u0627\\u0642 \\u0627\\u062d\\u062a\\u0644\\u0627\\u0644\"\n        ],\n        \"semantic_type\": \"\",\n        \"description\": \"\"\n      }\n    }\n  ]\n}"
            }
          },
          "metadata": {},
          "execution_count": 25
        }
      ]
    },
    {
      "cell_type": "code",
      "execution_count": null,
      "metadata": {
        "id": "c9jMyzoVJXdF"
      },
      "outputs": [],
      "source": [
        "train_df, val_df = train_test_split(df_train, test_size=0.2, random_state=0)"
      ]
    },
    {
      "cell_type": "code",
      "source": [
        "from sklearn.preprocessing import LabelEncoder\n",
        "from tensorflow.keras.utils import to_categorical\n",
        "\n",
        "label_encoder=LabelEncoder()\n",
        "y_train=label_encoder.fit_transform(train_df['Type'])\n",
        "y_val=label_encoder.transform(val_df['Type'])\n",
        "y_test=label_encoder.transform(df_test['Type'])\n",
        "\n",
        "\n",
        "y_train_one_hot_encoded=to_categorical(y_train)\n",
        "y_val_one_hot_encoded=to_categorical(y_val)\n",
        "y_test_one_hot_encoded=to_categorical(y_test)"
      ],
      "metadata": {
        "id": "3FmpXJkdZKrQ"
      },
      "execution_count": null,
      "outputs": []
    },
    {
      "cell_type": "markdown",
      "source": [
        "# Inputs for Neural network"
      ],
      "metadata": {
        "id": "GBz7wiMVdpOx"
      }
    },
    {
      "cell_type": "code",
      "source": [
        "tokenizer = Tokenizer(oov_token='<oov>') # For those words which are not found in word_index\n",
        "all_text=df_train['processed_text'].tolist()\n",
        "tokenizer.fit_on_texts(all_text)\n",
        "total_words = len(tokenizer.word_index) + 1\n",
        "\n",
        "print(\"Total number of words: \", total_words)\n",
        "print(\"Word: ID\")\n",
        "print(\"------------\")\n",
        "print(\"<oov>: \", tokenizer.word_index['<oov>'])\n",
        "print(\"غريب: \", tokenizer.word_index['غريب'])\n",
        "print(\"كره: \", tokenizer.word_index['كره'])\n",
        "print(\"اطوار: \", tokenizer.word_index['اطوار'])"
      ],
      "metadata": {
        "id": "fvHQ430rLSGD",
        "colab": {
          "base_uri": "https://localhost:8080/"
        },
        "outputId": "68d6b6ae-3439-4a3f-8e80-971f2e4bda17"
      },
      "execution_count": null,
      "outputs": [
        {
          "output_type": "stream",
          "name": "stdout",
          "text": [
            "Total number of words:  5972\n",
            "Word: ID\n",
            "------------\n",
            "<oov>:  1\n",
            "غريب:  2076\n",
            "كره:  65\n",
            "اطوار:  3539\n"
          ]
        }
      ]
    },
    {
      "cell_type": "code",
      "source": [
        "train_sequences = tokenizer.texts_to_sequences(train_df['processed_text'])\n",
        "val_sequences = tokenizer.texts_to_sequences(val_df['processed_text'])\n",
        "test_sequences = tokenizer.texts_to_sequences(df_test['processed_text'])"
      ],
      "metadata": {
        "id": "_7jY2RulXcbP"
      },
      "execution_count": null,
      "outputs": []
    },
    {
      "cell_type": "code",
      "source": [
        "max_sequence_len = max(len(seq) for seq in train_sequences)"
      ],
      "metadata": {
        "id": "7nUOIKkSXd3G"
      },
      "execution_count": null,
      "outputs": []
    },
    {
      "cell_type": "code",
      "source": [
        "padded_train = pad_sequences(train_sequences, maxlen=max_sequence_len, padding='pre')\n",
        "padded_val = pad_sequences(val_sequences, maxlen=max_sequence_len, padding='pre',truncating='pre')\n",
        "padded_test = pad_sequences(test_sequences, maxlen=max_sequence_len, padding='pre',truncating='pre')\n"
      ],
      "metadata": {
        "id": "zhnf0xZuXfa-"
      },
      "execution_count": null,
      "outputs": []
    },
    {
      "cell_type": "code",
      "source": [
        "result={}"
      ],
      "metadata": {
        "id": "UkAmCjUxBEjD"
      },
      "execution_count": null,
      "outputs": []
    },
    {
      "cell_type": "markdown",
      "source": [
        "# basic encoding\n",
        "\n"
      ],
      "metadata": {
        "id": "2Z2RL09IJ9_6"
      }
    },
    {
      "cell_type": "markdown",
      "source": [
        "## TF-IDF\n",
        "\n",
        "\n",
        "\n"
      ],
      "metadata": {
        "id": "59qCcpNhJ90s"
      }
    },
    {
      "cell_type": "code",
      "source": [
        "tf_results={}"
      ],
      "metadata": {
        "id": "FqQexUu-BZva"
      },
      "execution_count": null,
      "outputs": []
    },
    {
      "cell_type": "code",
      "source": [
        "vectorizer_tf = TfidfVectorizer(max_features=300)\n",
        "X_train_tfidf = vectorizer_tf.fit_transform(train_df['processed_text']).toarray()\n",
        "X_val_tfidf = vectorizer_tf.fit_transform(val_df['processed_text']).toarray()\n",
        "X_test_tfidf = vectorizer_tf.fit_transform(df_test['processed_text']).toarray()\n",
        "\n",
        "tfidf_train_feature = pd.DataFrame(X_train_tfidf, columns=vectorizer_tf.get_feature_names_out())\n",
        "tfidf_val_feature = pd.DataFrame(X_val_tfidf, columns=vectorizer_tf.get_feature_names_out())\n",
        "tfidf_test_feature = pd.DataFrame(X_test_tfidf, columns=vectorizer_tf.get_feature_names_out())"
      ],
      "metadata": {
        "id": "qeAR-8Z0UWlg"
      },
      "execution_count": null,
      "outputs": []
    },
    {
      "cell_type": "markdown",
      "source": [
        "### Traditional models"
      ],
      "metadata": {
        "id": "yXRjEN1RKwEv"
      }
    },
    {
      "cell_type": "markdown",
      "source": [
        "#### naive bayes\n"
      ],
      "metadata": {
        "id": "V3Af8GWYK2DQ"
      }
    },
    {
      "cell_type": "code",
      "source": [
        "clf_nb_tf =GaussianNB()\n",
        "clf_nb_tf.fit(X_train_tfidf ,train_df['Type'])\n",
        "y_pred_nb_val_tf = clf_nb_tf.predict(X_val_tfidf)\n",
        "accuracy_nb_val_tf = accuracy_score(val_df['Type'], y_pred_nb_val_tf)\n",
        "precision_nb_val_tf = precision_score(val_df['Type'], y_pred_nb_val_tf, average='weighted')\n",
        "recall_nb_val_tf = recall_score(val_df['Type'], y_pred_nb_val_tf, average='weighted')\n",
        "f1_nb_val_tf = f1_score(val_df['Type'], y_pred_nb_val_tf, average='weighted')\n",
        "\n",
        "print(f\"Accuracy validation: {accuracy_nb_val_tf:.2f}\")\n",
        "print(f\"Precision validation: {precision_nb_val_tf:.2f}\")\n",
        "print(f\"Recall validation: {recall_nb_val_tf :.2f}\")\n",
        "print(f\"F1 Score validation: {f1_nb_val_tf:.2f}\")\n",
        "print(\"Classification Report for validation:\")\n",
        "print(classification_report(val_df['Type'], y_pred_nb_val_tf))\n",
        "\n",
        "tf_results['Naive Bayes Accuracy tf val']=accuracy_nb_val_tf\n",
        "tf_results['Naive Bayes Precision tf val']=precision_nb_val_tf\n",
        "tf_results['Naive Bayes Recall tf val']=recall_nb_val_tf\n",
        "tf_results['Naive Bayes F1 tf val']=f1_nb_val_tf\n"
      ],
      "metadata": {
        "id": "hHrZ1tj0K7X5",
        "colab": {
          "base_uri": "https://localhost:8080/"
        },
        "outputId": "9bb9cc8f-1a86-4c8f-9540-77481154dee6"
      },
      "execution_count": null,
      "outputs": [
        {
          "output_type": "stream",
          "name": "stdout",
          "text": [
            "Accuracy validation: 0.41\n",
            "Precision validation: 0.52\n",
            "Recall validation: 0.41\n",
            "F1 Score validation: 0.44\n",
            "Classification Report for validation:\n",
            "              precision    recall  f1-score   support\n",
            "\n",
            "    economic       0.18      0.31      0.23       180\n",
            "    politics       0.71      0.46      0.56       601\n",
            "       sport       0.27      0.34      0.30       198\n",
            "        tech       0.15      0.43      0.22        21\n",
            "\n",
            "    accuracy                           0.41      1000\n",
            "   macro avg       0.33      0.38      0.33      1000\n",
            "weighted avg       0.52      0.41      0.44      1000\n",
            "\n"
          ]
        }
      ]
    },
    {
      "cell_type": "code",
      "source": [
        "y_pred_nb_test_tf = clf_nb_tf.predict(X_test_tfidf)\n",
        "\n",
        "accuracy_nb_test_tf = accuracy_score(df_test['Type'], y_pred_nb_test_tf)\n",
        "precision_nb_test_tf = precision_score(df_test['Type'], y_pred_nb_test_tf, average='weighted')\n",
        "recall_nb_test_tf = recall_score(df_test['Type'], y_pred_nb_test_tf, average='weighted')\n",
        "f1_nb_test_tf = f1_score(df_test['Type'], y_pred_nb_test_tf, average='weighted')\n",
        "\n",
        "print(f\"Accuracy for test: {accuracy_nb_test_tf:.2f}\")\n",
        "print(f\"Precision for test: {precision_nb_test_tf:.2f}\")\n",
        "print(f\"Recall for test: {recall_nb_test_tf:.2f}\")\n",
        "print(f\"F1 Score for test: {f1_nb_test_tf:.2f}\")\n",
        "print(\"Classification Report for test:\")\n",
        "print(classification_report(df_test['Type'], y_pred_nb_test_tf))\n",
        "\n",
        "tf_results['Naive Bayes Accuracy tf test']=accuracy_nb_test_tf\n",
        "tf_results['Naive Bayes Precision tf test']=precision_nb_test_tf\n",
        "tf_results['Naive Bayes Recall tf test']=recall_nb_test_tf\n",
        "tf_results['Naive Bayes F1 tf test']=f1_nb_test_tf"
      ],
      "metadata": {
        "id": "dpT2RUF_U7KT",
        "colab": {
          "base_uri": "https://localhost:8080/"
        },
        "outputId": "738f4cc6-aaa4-4599-8f48-46eaaecef7a9"
      },
      "execution_count": null,
      "outputs": [
        {
          "output_type": "stream",
          "name": "stdout",
          "text": [
            "Accuracy for test: 0.39\n",
            "Precision for test: 0.40\n",
            "Recall for test: 0.39\n",
            "F1 Score for test: 0.39\n",
            "Classification Report for test:\n",
            "              precision    recall  f1-score   support\n",
            "\n",
            "    economic       0.18      0.21      0.19       200\n",
            "    politics       0.60      0.56      0.58       512\n",
            "       sport       0.19      0.22      0.21       200\n",
            "        tech       0.27      0.15      0.19        88\n",
            "\n",
            "    accuracy                           0.39      1000\n",
            "   macro avg       0.31      0.29      0.29      1000\n",
            "weighted avg       0.40      0.39      0.39      1000\n",
            "\n"
          ]
        }
      ]
    },
    {
      "cell_type": "markdown",
      "source": [
        "#### Logistic Regression"
      ],
      "metadata": {
        "id": "uc5IFnkrK-A7"
      }
    },
    {
      "cell_type": "code",
      "source": [
        "\n",
        "from sklearn.linear_model import LogisticRegression\n",
        "\n",
        "clf_lr_tf = LogisticRegression(random_state=0)\n",
        "clf_lr_tf.fit(X_train_tfidf, train_df['Type'])\n",
        "\n",
        "y_pred_val_lr_tf = clf_lr_tf.predict(X_val_tfidf)\n",
        "accuracy_val_lr_tf = accuracy_score(val_df['Type'], y_pred_val_lr_tf )\n",
        "precision_val_lr_tf = precision_score(val_df['Type'], y_pred_val_lr_tf , average='weighted')\n",
        "recall_val_lr_tf = recall_score(val_df['Type'],y_pred_val_lr_tf , average='weighted')\n",
        "f1_val_lr_tf = f1_score(val_df['Type'],y_pred_val_lr_tf , average='weighted')\n",
        "\n",
        "print(f\"Accuracy validation: {accuracy_val_lr_tf:.2f}\")\n",
        "print(f\"Precision validation: {precision_val_lr_tf:.2f}\")\n",
        "print(f\"Recall validation: {recall_val_lr_tf:.2f}\")\n",
        "print(f\"F1 Score validation: {f1_val_lr_tf:.2f}\")\n",
        "print(\"Classification Report for validation:\")\n",
        "print(classification_report(val_df['Type'], y_pred_val_lr_tf ))\n",
        "\n",
        "tf_results['Logistic Regression Accuracy tf val']=accuracy_val_lr_tf\n",
        "tf_results['Logistic Regression Precision tf val']=precision_val_lr_tf\n",
        "tf_results['Logistic Regression Recall tf val']=recall_val_lr_tf\n",
        "tf_results['Logistic Regression F1 tf val']=f1_val_lr_tf\n"
      ],
      "metadata": {
        "id": "ugibPkBnVMfD",
        "colab": {
          "base_uri": "https://localhost:8080/"
        },
        "outputId": "846b5d88-444a-4292-9ec3-c33574d11708"
      },
      "execution_count": null,
      "outputs": [
        {
          "output_type": "stream",
          "name": "stdout",
          "text": [
            "Accuracy validation: 0.51\n",
            "Precision validation: 0.45\n",
            "Recall validation: 0.51\n",
            "F1 Score validation: 0.47\n",
            "Classification Report for validation:\n",
            "              precision    recall  f1-score   support\n",
            "\n",
            "    economic       0.21      0.14      0.17       180\n",
            "    politics       0.61      0.76      0.68       601\n",
            "       sport       0.23      0.15      0.18       198\n",
            "        tech       0.00      0.00      0.00        21\n",
            "\n",
            "    accuracy                           0.51      1000\n",
            "   macro avg       0.26      0.26      0.26      1000\n",
            "weighted avg       0.45      0.51      0.47      1000\n",
            "\n"
          ]
        },
        {
          "output_type": "stream",
          "name": "stderr",
          "text": [
            "/usr/local/lib/python3.10/dist-packages/sklearn/metrics/_classification.py:1344: UndefinedMetricWarning: Precision is ill-defined and being set to 0.0 in labels with no predicted samples. Use `zero_division` parameter to control this behavior.\n",
            "  _warn_prf(average, modifier, msg_start, len(result))\n",
            "/usr/local/lib/python3.10/dist-packages/sklearn/metrics/_classification.py:1344: UndefinedMetricWarning: Precision and F-score are ill-defined and being set to 0.0 in labels with no predicted samples. Use `zero_division` parameter to control this behavior.\n",
            "  _warn_prf(average, modifier, msg_start, len(result))\n",
            "/usr/local/lib/python3.10/dist-packages/sklearn/metrics/_classification.py:1344: UndefinedMetricWarning: Precision and F-score are ill-defined and being set to 0.0 in labels with no predicted samples. Use `zero_division` parameter to control this behavior.\n",
            "  _warn_prf(average, modifier, msg_start, len(result))\n",
            "/usr/local/lib/python3.10/dist-packages/sklearn/metrics/_classification.py:1344: UndefinedMetricWarning: Precision and F-score are ill-defined and being set to 0.0 in labels with no predicted samples. Use `zero_division` parameter to control this behavior.\n",
            "  _warn_prf(average, modifier, msg_start, len(result))\n"
          ]
        }
      ]
    },
    {
      "cell_type": "code",
      "source": [
        "y_pred_test_lr_test = clf_lr_tf.predict(X_test_tfidf)\n",
        "\n",
        "y_pred_test_lr_tf = clf_lr_tf.predict(X_test_tfidf)\n",
        "accuracy_test_lr_tf = accuracy_score(df_test['Type'], y_pred_test_lr_tf )\n",
        "precision_test_lr_tf = precision_score(df_test['Type'], y_pred_test_lr_tf , average='weighted')\n",
        "recall_test_lr_tf = recall_score(df_test['Type'],y_pred_test_lr_tf , average='weighted')\n",
        "f1_test_lr_tf = f1_score(df_test['Type'],y_pred_test_lr_tf , average='weighted')\n",
        "\n",
        "print(f\"Accuracy test: {accuracy_test_lr_tf:.2f}\")\n",
        "print(f\"Precision test: {precision_test_lr_tf:.2f}\")\n",
        "print(f\"Recall test: {recall_test_lr_tf:.2f}\")\n",
        "print(f\"F1 Score test: {f1_test_lr_tf:.2f}\")\n",
        "print(\"Classification Report for test:\")\n",
        "print(classification_report(df_test['Type'], y_pred_test_lr_tf ))\n",
        "tf_results['Logistic Regression Accuracy tf test']=accuracy_test_lr_tf\n",
        "tf_results['Logistic Regression Precision tf test']=precision_test_lr_tf\n",
        "tf_results['Logistic Regression Recall tf test']=recall_test_lr_tf\n",
        "tf_results['Logistic Regression F1 tf test']=f1_test_lr_tf"
      ],
      "metadata": {
        "id": "2WBpkBfjVg50",
        "colab": {
          "base_uri": "https://localhost:8080/"
        },
        "outputId": "68e9d33f-edfb-4289-cd07-3a2634d8da0c"
      },
      "execution_count": null,
      "outputs": [
        {
          "output_type": "stream",
          "name": "stdout",
          "text": [
            "Accuracy test: 0.47\n",
            "Precision test: 0.37\n",
            "Recall test: 0.47\n",
            "F1 Score test: 0.40\n",
            "Classification Report for test:\n",
            "              precision    recall  f1-score   support\n",
            "\n",
            "    economic       0.29      0.15      0.20       200\n",
            "    politics       0.53      0.80      0.64       512\n",
            "       sport       0.22      0.13      0.16       200\n",
            "        tech       0.00      0.00      0.00        88\n",
            "\n",
            "    accuracy                           0.47      1000\n",
            "   macro avg       0.26      0.27      0.25      1000\n",
            "weighted avg       0.37      0.47      0.40      1000\n",
            "\n"
          ]
        },
        {
          "output_type": "stream",
          "name": "stderr",
          "text": [
            "/usr/local/lib/python3.10/dist-packages/sklearn/metrics/_classification.py:1344: UndefinedMetricWarning: Precision is ill-defined and being set to 0.0 in labels with no predicted samples. Use `zero_division` parameter to control this behavior.\n",
            "  _warn_prf(average, modifier, msg_start, len(result))\n",
            "/usr/local/lib/python3.10/dist-packages/sklearn/metrics/_classification.py:1344: UndefinedMetricWarning: Precision and F-score are ill-defined and being set to 0.0 in labels with no predicted samples. Use `zero_division` parameter to control this behavior.\n",
            "  _warn_prf(average, modifier, msg_start, len(result))\n",
            "/usr/local/lib/python3.10/dist-packages/sklearn/metrics/_classification.py:1344: UndefinedMetricWarning: Precision and F-score are ill-defined and being set to 0.0 in labels with no predicted samples. Use `zero_division` parameter to control this behavior.\n",
            "  _warn_prf(average, modifier, msg_start, len(result))\n",
            "/usr/local/lib/python3.10/dist-packages/sklearn/metrics/_classification.py:1344: UndefinedMetricWarning: Precision and F-score are ill-defined and being set to 0.0 in labels with no predicted samples. Use `zero_division` parameter to control this behavior.\n",
            "  _warn_prf(average, modifier, msg_start, len(result))\n"
          ]
        }
      ]
    },
    {
      "cell_type": "markdown",
      "source": [
        "### Neural Networks"
      ],
      "metadata": {
        "id": "QzjpYsrdLI3l"
      }
    },
    {
      "cell_type": "markdown",
      "source": [
        "#### embeddings_weights"
      ],
      "metadata": {
        "id": "I_KIVCIGeKm5"
      }
    },
    {
      "cell_type": "code",
      "source": [
        "vectorizer_n_tf = TfidfVectorizer(max_features=300)\n",
        "vectorizer_n_tf.fit(all_text)"
      ],
      "metadata": {
        "id": "yxw33LP2XiP-",
        "colab": {
          "base_uri": "https://localhost:8080/",
          "height": 75
        },
        "outputId": "cddce40c-b22d-43e9-8c43-4d1bfb788433"
      },
      "execution_count": null,
      "outputs": [
        {
          "output_type": "execute_result",
          "data": {
            "text/plain": [
              "TfidfVectorizer(max_features=300)"
            ],
            "text/html": [
              "<style>#sk-container-id-1 {color: black;background-color: white;}#sk-container-id-1 pre{padding: 0;}#sk-container-id-1 div.sk-toggleable {background-color: white;}#sk-container-id-1 label.sk-toggleable__label {cursor: pointer;display: block;width: 100%;margin-bottom: 0;padding: 0.3em;box-sizing: border-box;text-align: center;}#sk-container-id-1 label.sk-toggleable__label-arrow:before {content: \"▸\";float: left;margin-right: 0.25em;color: #696969;}#sk-container-id-1 label.sk-toggleable__label-arrow:hover:before {color: black;}#sk-container-id-1 div.sk-estimator:hover label.sk-toggleable__label-arrow:before {color: black;}#sk-container-id-1 div.sk-toggleable__content {max-height: 0;max-width: 0;overflow: hidden;text-align: left;background-color: #f0f8ff;}#sk-container-id-1 div.sk-toggleable__content pre {margin: 0.2em;color: black;border-radius: 0.25em;background-color: #f0f8ff;}#sk-container-id-1 input.sk-toggleable__control:checked~div.sk-toggleable__content {max-height: 200px;max-width: 100%;overflow: auto;}#sk-container-id-1 input.sk-toggleable__control:checked~label.sk-toggleable__label-arrow:before {content: \"▾\";}#sk-container-id-1 div.sk-estimator input.sk-toggleable__control:checked~label.sk-toggleable__label {background-color: #d4ebff;}#sk-container-id-1 div.sk-label input.sk-toggleable__control:checked~label.sk-toggleable__label {background-color: #d4ebff;}#sk-container-id-1 input.sk-hidden--visually {border: 0;clip: rect(1px 1px 1px 1px);clip: rect(1px, 1px, 1px, 1px);height: 1px;margin: -1px;overflow: hidden;padding: 0;position: absolute;width: 1px;}#sk-container-id-1 div.sk-estimator {font-family: monospace;background-color: #f0f8ff;border: 1px dotted black;border-radius: 0.25em;box-sizing: border-box;margin-bottom: 0.5em;}#sk-container-id-1 div.sk-estimator:hover {background-color: #d4ebff;}#sk-container-id-1 div.sk-parallel-item::after {content: \"\";width: 100%;border-bottom: 1px solid gray;flex-grow: 1;}#sk-container-id-1 div.sk-label:hover label.sk-toggleable__label {background-color: #d4ebff;}#sk-container-id-1 div.sk-serial::before {content: \"\";position: absolute;border-left: 1px solid gray;box-sizing: border-box;top: 0;bottom: 0;left: 50%;z-index: 0;}#sk-container-id-1 div.sk-serial {display: flex;flex-direction: column;align-items: center;background-color: white;padding-right: 0.2em;padding-left: 0.2em;position: relative;}#sk-container-id-1 div.sk-item {position: relative;z-index: 1;}#sk-container-id-1 div.sk-parallel {display: flex;align-items: stretch;justify-content: center;background-color: white;position: relative;}#sk-container-id-1 div.sk-item::before, #sk-container-id-1 div.sk-parallel-item::before {content: \"\";position: absolute;border-left: 1px solid gray;box-sizing: border-box;top: 0;bottom: 0;left: 50%;z-index: -1;}#sk-container-id-1 div.sk-parallel-item {display: flex;flex-direction: column;z-index: 1;position: relative;background-color: white;}#sk-container-id-1 div.sk-parallel-item:first-child::after {align-self: flex-end;width: 50%;}#sk-container-id-1 div.sk-parallel-item:last-child::after {align-self: flex-start;width: 50%;}#sk-container-id-1 div.sk-parallel-item:only-child::after {width: 0;}#sk-container-id-1 div.sk-dashed-wrapped {border: 1px dashed gray;margin: 0 0.4em 0.5em 0.4em;box-sizing: border-box;padding-bottom: 0.4em;background-color: white;}#sk-container-id-1 div.sk-label label {font-family: monospace;font-weight: bold;display: inline-block;line-height: 1.2em;}#sk-container-id-1 div.sk-label-container {text-align: center;}#sk-container-id-1 div.sk-container {/* jupyter's `normalize.less` sets `[hidden] { display: none; }` but bootstrap.min.css set `[hidden] { display: none !important; }` so we also need the `!important` here to be able to override the default hidden behavior on the sphinx rendered scikit-learn.org. See: https://github.com/scikit-learn/scikit-learn/issues/21755 */display: inline-block !important;position: relative;}#sk-container-id-1 div.sk-text-repr-fallback {display: none;}</style><div id=\"sk-container-id-1\" class=\"sk-top-container\"><div class=\"sk-text-repr-fallback\"><pre>TfidfVectorizer(max_features=300)</pre><b>In a Jupyter environment, please rerun this cell to show the HTML representation or trust the notebook. <br />On GitHub, the HTML representation is unable to render, please try loading this page with nbviewer.org.</b></div><div class=\"sk-container\" hidden><div class=\"sk-item\"><div class=\"sk-estimator sk-toggleable\"><input class=\"sk-toggleable__control sk-hidden--visually\" id=\"sk-estimator-id-1\" type=\"checkbox\" checked><label for=\"sk-estimator-id-1\" class=\"sk-toggleable__label sk-toggleable__label-arrow\">TfidfVectorizer</label><div class=\"sk-toggleable__content\"><pre>TfidfVectorizer(max_features=300)</pre></div></div></div></div></div>"
            ]
          },
          "metadata": {},
          "execution_count": 25
        }
      ]
    },
    {
      "cell_type": "code",
      "source": [
        "tfidf_max_features=vectorizer_n_tf.max_features"
      ],
      "metadata": {
        "id": "AL1M9BIAZA8W"
      },
      "execution_count": null,
      "outputs": []
    },
    {
      "cell_type": "code",
      "source": [
        "tfidf_embedding_matrix=np.zeros((total_words,tfidf_max_features))\n",
        "for word,i in tokenizer.word_index.items():\n",
        "  if word in vectorizer_n_tf.vocabulary_:\n",
        "    tfidf_embedding=vectorizer_n_tf.transform([word]).toarray()[0]\n",
        "    tfidf_embedding_matrix[i]=tfidf_embedding\n",
        "  else:\n",
        "    tfidf_embedding_matrix[i]=np.random.uniform(-25,25)"
      ],
      "metadata": {
        "id": "dp6Fy1VfZGiC"
      },
      "execution_count": null,
      "outputs": []
    },
    {
      "cell_type": "markdown",
      "source": [
        "#### LSTM"
      ],
      "metadata": {
        "id": "kdQ2HW29LSl3"
      }
    },
    {
      "cell_type": "code",
      "source": [
        "model_LSTM_tfidf=Sequential()\n",
        "model_LSTM_tfidf.add(Embedding(input_dim=total_words,\n",
        "                    output_dim=300,\n",
        "                    input_length=max_sequence_len\n",
        "                    ,weights=[tfidf_embedding_matrix],trainable=False))\n",
        "model_LSTM_tfidf.add(LSTM(100))\n",
        "model_LSTM_tfidf.add(Dense(4,activation='softmax'))\n",
        "adam=Adam(learning_rate=0.01)\n",
        "model_LSTM_tfidf.compile(loss='categorical_crossentropy',optimizer=adam,metrics=['accuracy'])\n",
        "model_LSTM_tfidf.fit(padded_train,y_train_one_hot_encoded,epochs=10,verbose=1)"
      ],
      "metadata": {
        "id": "rqw41kBRLYoR",
        "colab": {
          "base_uri": "https://localhost:8080/"
        },
        "outputId": "3ec42696-86c0-423c-889f-22b1f874c32d"
      },
      "execution_count": null,
      "outputs": [
        {
          "output_type": "stream",
          "name": "stdout",
          "text": [
            "Epoch 1/10\n",
            "125/125 [==============================] - 4s 4ms/step - loss: 0.9896 - accuracy: 0.6212\n",
            "Epoch 2/10\n",
            "125/125 [==============================] - 1s 4ms/step - loss: 0.7725 - accuracy: 0.7035\n",
            "Epoch 3/10\n",
            "125/125 [==============================] - 1s 4ms/step - loss: 0.6588 - accuracy: 0.7460\n",
            "Epoch 4/10\n",
            "125/125 [==============================] - 1s 4ms/step - loss: 0.6081 - accuracy: 0.7753\n",
            "Epoch 5/10\n",
            "125/125 [==============================] - 1s 4ms/step - loss: 0.5397 - accuracy: 0.8043\n",
            "Epoch 6/10\n",
            "125/125 [==============================] - 1s 4ms/step - loss: 0.5217 - accuracy: 0.8085\n",
            "Epoch 7/10\n",
            "125/125 [==============================] - 1s 4ms/step - loss: 0.4926 - accuracy: 0.8123\n",
            "Epoch 8/10\n",
            "125/125 [==============================] - 1s 4ms/step - loss: 0.4830 - accuracy: 0.8240\n",
            "Epoch 9/10\n",
            "125/125 [==============================] - 1s 4ms/step - loss: 0.4480 - accuracy: 0.8332\n",
            "Epoch 10/10\n",
            "125/125 [==============================] - 1s 4ms/step - loss: 0.4289 - accuracy: 0.8405\n"
          ]
        },
        {
          "output_type": "execute_result",
          "data": {
            "text/plain": [
              "<keras.src.callbacks.History at 0x7f8d642fb9a0>"
            ]
          },
          "metadata": {},
          "execution_count": 28
        }
      ]
    },
    {
      "cell_type": "code",
      "source": [
        "val_loss_tf_lstm, val_accuracy_tf_lstm = model_LSTM_tfidf.evaluate(padded_val, y_val_one_hot_encoded, verbose=1)\n",
        "print(f'Validation Accuracy: {val_accuracy_tf_lstm}')\n",
        "\n",
        "y_pred = model_LSTM_tfidf.predict(padded_val)\n",
        "y_pred_lstm_tf_val = np.argmax(y_pred, axis=1)\n",
        "accuracy_lstm_tf_val = accuracy_score(y_val, y_pred_lstm_tf_val)\n",
        "precision_lstm_tf_val = precision_score(y_val ,y_pred_lstm_tf_val, average='weighted')\n",
        "recall_lstm_tf_val = recall_score(y_val, y_pred_lstm_tf_val, average='weighted')\n",
        "f1_lstm_tf_val = f1_score(y_val, y_pred_lstm_tf_val, average='weighted')\n",
        "print(f'Accuracy: {accuracy_lstm_tf_val:.4f}')\n",
        "print(f'Precision: {precision_lstm_tf_val:.4f}')\n",
        "print(f'Recall: {recall_lstm_tf_val:.4f}')\n",
        "print(f'F1 Score: {f1_lstm_tf_val:.4f}')\n",
        "print(\"Classification Report:\")\n",
        "print(classification_report(y_val, y_pred_lstm_tf_val))\n",
        "tf_results['LSTM Accuracy tf val']=accuracy_lstm_tf_val\n",
        "tf_results['LSTM Precision tf val']=precision_lstm_tf_val\n",
        "tf_results['LSTM Recall tf val']=recall_lstm_tf_val\n",
        "tf_results['LSTM F1 tf val']=f1_lstm_tf_val\n"
      ],
      "metadata": {
        "id": "ERwoZIOZc1B8",
        "colab": {
          "base_uri": "https://localhost:8080/"
        },
        "outputId": "474dd5d6-efb8-427a-eeee-551a6824fc25"
      },
      "execution_count": null,
      "outputs": [
        {
          "output_type": "stream",
          "name": "stdout",
          "text": [
            "32/32 [==============================] - 1s 5ms/step - loss: 0.7350 - accuracy: 0.7500\n",
            "Validation Accuracy: 0.75\n",
            "32/32 [==============================] - 1s 3ms/step\n",
            "Accuracy: 0.7500\n",
            "Precision: 0.7406\n",
            "Recall: 0.7500\n",
            "F1 Score: 0.7364\n",
            "Classification Report:\n",
            "              precision    recall  f1-score   support\n",
            "\n",
            "           0       0.59      0.57      0.58       180\n",
            "           1       0.77      0.89      0.83       601\n",
            "           2       0.87      0.57      0.69       198\n",
            "           3       0.00      0.00      0.00        21\n",
            "\n",
            "    accuracy                           0.75      1000\n",
            "   macro avg       0.56      0.51      0.52      1000\n",
            "weighted avg       0.74      0.75      0.74      1000\n",
            "\n"
          ]
        }
      ]
    },
    {
      "cell_type": "code",
      "source": [
        "test_loss_tf_lstm, test_accuracy_tf_lstm = model_LSTM_tfidf.evaluate(padded_test, y_test_one_hot_encoded, verbose=1)\n",
        "print(f'Test Accuracy: {test_accuracy_tf_lstm}')\n",
        "\n",
        "y_pred = model_LSTM_tfidf.predict(padded_test)\n",
        "y_pred_lstm_tf_test = np.argmax(y_pred, axis=1)\n",
        "accuracy_lstm_tf_test = accuracy_score(y_test, y_pred_lstm_tf_test)\n",
        "precision_lstm_tf_test = precision_score(y_test,y_pred_lstm_tf_test, average='weighted')\n",
        "recall_lstm_tf_test = recall_score(y_test,y_pred_lstm_tf_test, average='weighted')\n",
        "f1_lstm_tf_test = f1_score(y_test, y_pred_lstm_tf_test, average='weighted')\n",
        "\n",
        "print(f'Accuracy: {accuracy_lstm_tf_test:.4f}')\n",
        "print(f'Precision: {precision_lstm_tf_test:.4f}')\n",
        "print(f'Recall: {recall_lstm_tf_test:.4f}')\n",
        "print(f'F1 Score: {f1_lstm_tf_test:.4f}')\n",
        "print(\"Classification Report:\")\n",
        "print(classification_report(y_test, y_pred_lstm_tf_test))\n",
        "tf_results['LSTM Accuracy tf test']=accuracy_lstm_tf_test\n",
        "tf_results['LSTM Precision tf test']=precision_lstm_tf_test\n",
        "tf_results['LSTM Recall tf test']=recall_lstm_tf_test\n",
        "tf_results['LSTM F1 tf test']=f1_lstm_tf_test\n"
      ],
      "metadata": {
        "colab": {
          "base_uri": "https://localhost:8080/"
        },
        "id": "-klwPPFp3Shz",
        "outputId": "5b9e136d-67af-4608-ea67-82b73f3f1e8b"
      },
      "execution_count": null,
      "outputs": [
        {
          "output_type": "stream",
          "name": "stdout",
          "text": [
            "32/32 [==============================] - 0s 4ms/step - loss: 1.0099 - accuracy: 0.6850\n",
            "Test Accuracy: 0.6850000023841858\n",
            "32/32 [==============================] - 0s 3ms/step\n",
            "Accuracy: 0.6850\n",
            "Precision: 0.7286\n",
            "Recall: 0.6850\n",
            "F1 Score: 0.6596\n",
            "Classification Report:\n",
            "              precision    recall  f1-score   support\n",
            "\n",
            "           0       0.51      0.60      0.55       200\n",
            "           1       0.69      0.82      0.75       512\n",
            "           2       0.92      0.71      0.81       200\n",
            "           3       1.00      0.02      0.04        88\n",
            "\n",
            "    accuracy                           0.69      1000\n",
            "   macro avg       0.78      0.54      0.54      1000\n",
            "weighted avg       0.73      0.69      0.66      1000\n",
            "\n"
          ]
        }
      ]
    },
    {
      "cell_type": "markdown",
      "source": [
        "#### RNN"
      ],
      "metadata": {
        "id": "grJv6j66LZIE"
      }
    },
    {
      "cell_type": "code",
      "source": [
        "model_rnn_tfidf=Sequential()\n",
        "model_rnn_tfidf.add(Embedding(input_dim=total_words,\n",
        "                    output_dim=300,\n",
        "                    input_length=max_sequence_len\n",
        "                    ,weights=[tfidf_embedding_matrix],trainable=False))\n",
        "model_rnn_tfidf.add(SimpleRNN(100))\n",
        "model_rnn_tfidf.add(Dense(4,activation='softmax'))\n",
        "adam=Adam(learning_rate=0.01)\n",
        "model_rnn_tfidf.compile(loss='categorical_crossentropy',optimizer=adam,metrics=['accuracy'])\n",
        "model_rnn_tfidf.fit(padded_train,y_train_one_hot_encoded,epochs=10,verbose=1)"
      ],
      "metadata": {
        "id": "ilqZg2aMLbCD",
        "colab": {
          "base_uri": "https://localhost:8080/"
        },
        "outputId": "75a618ad-3e8c-4f4a-d4be-d0f08665c91c"
      },
      "execution_count": null,
      "outputs": [
        {
          "output_type": "stream",
          "name": "stdout",
          "text": [
            "Epoch 1/10\n",
            "125/125 [==============================] - 3s 12ms/step - loss: 1.2492 - accuracy: 0.5278\n",
            "Epoch 2/10\n",
            "125/125 [==============================] - 1s 12ms/step - loss: 1.0107 - accuracy: 0.6133\n",
            "Epoch 3/10\n",
            "125/125 [==============================] - 1s 12ms/step - loss: 0.9176 - accuracy: 0.6535\n",
            "Epoch 4/10\n",
            "125/125 [==============================] - 2s 12ms/step - loss: 0.8928 - accuracy: 0.6540\n",
            "Epoch 5/10\n",
            "125/125 [==============================] - 2s 12ms/step - loss: 0.8939 - accuracy: 0.6525\n",
            "Epoch 6/10\n",
            "125/125 [==============================] - 2s 12ms/step - loss: 0.8403 - accuracy: 0.6823\n",
            "Epoch 7/10\n",
            "125/125 [==============================] - 2s 16ms/step - loss: 0.8509 - accuracy: 0.6758\n",
            "Epoch 8/10\n",
            "125/125 [==============================] - 3s 20ms/step - loss: 0.8258 - accuracy: 0.6850\n",
            "Epoch 9/10\n",
            "125/125 [==============================] - 2s 15ms/step - loss: 0.8107 - accuracy: 0.6895\n",
            "Epoch 10/10\n",
            "125/125 [==============================] - 2s 12ms/step - loss: 0.7917 - accuracy: 0.7048\n"
          ]
        },
        {
          "output_type": "execute_result",
          "data": {
            "text/plain": [
              "<keras.src.callbacks.History at 0x7f8d582f1e70>"
            ]
          },
          "metadata": {},
          "execution_count": 31
        }
      ]
    },
    {
      "cell_type": "code",
      "source": [
        "val_loss_tf_rnn, val_accuracy_tf_rnn = model_rnn_tfidf.evaluate(padded_val, y_val_one_hot_encoded, verbose=1)\n",
        "print(f'Validation Accuracy: {val_accuracy_tf_rnn}')\n",
        "y_pred = model_rnn_tfidf.predict(padded_val)\n",
        "y_pred_rnn_tf_val = np.argmax(y_pred, axis=1)\n",
        "accuracy_rnn_tf_val = accuracy_score(y_val, y_pred_rnn_tf_val)\n",
        "precision_rnn_tf_val = precision_score(y_val, y_pred_rnn_tf_val, average='weighted')\n",
        "recall_rnn_tf_val = recall_score(y_val, y_pred_rnn_tf_val, average='weighted')\n",
        "f1_rnn_tf_val = f1_score(y_val,y_pred_rnn_tf_val, average='weighted')\n",
        "\n",
        "print(f'Accuracy: {accuracy_rnn_tf_val:.4f}')\n",
        "print(f'Precision: {precision_rnn_tf_val:.4f}')\n",
        "print(f'Recall: {recall_rnn_tf_val:.4f}')\n",
        "print(f'F1 Score: {f1_rnn_tf_val:.4f}')\n",
        "print(\"Classification Report:\")\n",
        "print(classification_report(y_val, y_pred_rnn_tf_val))\n",
        "tf_results['RNN Accuracy tf val']=accuracy_rnn_tf_val\n",
        "tf_results['RNN Precision tf val']=precision_rnn_tf_val\n",
        "tf_results['RNN  Recall tf val']=recall_rnn_tf_val\n",
        "tf_results['RNN  F1 tf val']=f1_rnn_tf_val"
      ],
      "metadata": {
        "colab": {
          "base_uri": "https://localhost:8080/"
        },
        "id": "SziVGIDy3kOk",
        "outputId": "a9d1edbe-d650-46e2-ac5b-e9b308c1a90f"
      },
      "execution_count": null,
      "outputs": [
        {
          "output_type": "stream",
          "name": "stdout",
          "text": [
            "32/32 [==============================] - 0s 4ms/step - loss: 0.8768 - accuracy: 0.6550\n",
            "Validation Accuracy: 0.6549999713897705\n",
            "32/32 [==============================] - 0s 3ms/step\n",
            "Accuracy: 0.6550\n",
            "Precision: 0.6659\n",
            "Recall: 0.6550\n",
            "F1 Score: 0.6006\n",
            "Classification Report:\n",
            "              precision    recall  f1-score   support\n",
            "\n",
            "           0       0.46      0.25      0.32       180\n",
            "           1       0.66      0.93      0.77       601\n",
            "           2       0.94      0.25      0.39       198\n",
            "           3       0.00      0.00      0.00        21\n",
            "\n",
            "    accuracy                           0.66      1000\n",
            "   macro avg       0.52      0.36      0.37      1000\n",
            "weighted avg       0.67      0.66      0.60      1000\n",
            "\n"
          ]
        },
        {
          "output_type": "stream",
          "name": "stderr",
          "text": [
            "/usr/local/lib/python3.10/dist-packages/sklearn/metrics/_classification.py:1344: UndefinedMetricWarning: Precision is ill-defined and being set to 0.0 in labels with no predicted samples. Use `zero_division` parameter to control this behavior.\n",
            "  _warn_prf(average, modifier, msg_start, len(result))\n",
            "/usr/local/lib/python3.10/dist-packages/sklearn/metrics/_classification.py:1344: UndefinedMetricWarning: Precision and F-score are ill-defined and being set to 0.0 in labels with no predicted samples. Use `zero_division` parameter to control this behavior.\n",
            "  _warn_prf(average, modifier, msg_start, len(result))\n",
            "/usr/local/lib/python3.10/dist-packages/sklearn/metrics/_classification.py:1344: UndefinedMetricWarning: Precision and F-score are ill-defined and being set to 0.0 in labels with no predicted samples. Use `zero_division` parameter to control this behavior.\n",
            "  _warn_prf(average, modifier, msg_start, len(result))\n",
            "/usr/local/lib/python3.10/dist-packages/sklearn/metrics/_classification.py:1344: UndefinedMetricWarning: Precision and F-score are ill-defined and being set to 0.0 in labels with no predicted samples. Use `zero_division` parameter to control this behavior.\n",
            "  _warn_prf(average, modifier, msg_start, len(result))\n"
          ]
        }
      ]
    },
    {
      "cell_type": "code",
      "source": [
        "test_loss_tf_rnn, test_accuracy_tf_rnn = model_rnn_tfidf.evaluate(padded_test, y_test_one_hot_encoded, verbose=1)\n",
        "print(f'Test Accuracy: {test_accuracy_tf_rnn}')\n",
        "y_pred = model_rnn_tfidf.predict(padded_test)\n",
        "y_pred_rnn_tf_test = np.argmax(y_pred, axis=1)\n",
        "accuracy_rnn_tf_test = accuracy_score(y_test, y_pred_rnn_tf_test)\n",
        "precision_rnn_tf_test = precision_score(y_test, y_pred_rnn_tf_test, average='weighted')\n",
        "recall_rnn_tf_test = recall_score(y_test, y_pred_rnn_tf_test, average='weighted')\n",
        "f1_rnn_tf_test = f1_score(y_test,y_pred_rnn_tf_test, average='weighted')\n",
        "\n",
        "print(f'Accuracy: {accuracy_rnn_tf_test:.4f}')\n",
        "print(f'Precision: {precision_rnn_tf_test:.4f}')\n",
        "print(f'Recall: {recall_rnn_tf_test:.4f}')\n",
        "print(f'F1 Score: {f1_rnn_tf_test:.4f}')\n",
        "print(\"Classification Report:\")\n",
        "print(classification_report(y_test, y_pred_rnn_tf_test))\n",
        "\n",
        "tf_results['RNN Accuracy tf test']=accuracy_rnn_tf_test\n",
        "tf_results['RNN Precision tf test']=precision_rnn_tf_test\n",
        "tf_results['RNN  Recall tf test']=recall_rnn_tf_test\n",
        "tf_results['RNN  F1 tf test']=f1_rnn_tf_test"
      ],
      "metadata": {
        "colab": {
          "base_uri": "https://localhost:8080/"
        },
        "id": "S6GNMEbJ3kAW",
        "outputId": "4a18fdd0-f79b-4004-9f32-68bfbb061b3f"
      },
      "execution_count": null,
      "outputs": [
        {
          "output_type": "stream",
          "name": "stdout",
          "text": [
            "32/32 [==============================] - 0s 4ms/step - loss: 1.1349 - accuracy: 0.5950\n",
            "Test Accuracy: 0.5950000286102295\n",
            "32/32 [==============================] - 0s 3ms/step\n",
            "Accuracy: 0.5950\n",
            "Precision: 0.5591\n",
            "Recall: 0.5950\n",
            "F1 Score: 0.5303\n",
            "Classification Report:\n",
            "              precision    recall  f1-score   support\n",
            "\n",
            "           0       0.44      0.20      0.27       200\n",
            "           1       0.58      0.93      0.71       512\n",
            "           2       0.87      0.41      0.55       200\n",
            "           3       0.00      0.00      0.00        88\n",
            "\n",
            "    accuracy                           0.59      1000\n",
            "   macro avg       0.47      0.38      0.38      1000\n",
            "weighted avg       0.56      0.59      0.53      1000\n",
            "\n"
          ]
        },
        {
          "output_type": "stream",
          "name": "stderr",
          "text": [
            "/usr/local/lib/python3.10/dist-packages/sklearn/metrics/_classification.py:1344: UndefinedMetricWarning: Precision is ill-defined and being set to 0.0 in labels with no predicted samples. Use `zero_division` parameter to control this behavior.\n",
            "  _warn_prf(average, modifier, msg_start, len(result))\n",
            "/usr/local/lib/python3.10/dist-packages/sklearn/metrics/_classification.py:1344: UndefinedMetricWarning: Precision and F-score are ill-defined and being set to 0.0 in labels with no predicted samples. Use `zero_division` parameter to control this behavior.\n",
            "  _warn_prf(average, modifier, msg_start, len(result))\n",
            "/usr/local/lib/python3.10/dist-packages/sklearn/metrics/_classification.py:1344: UndefinedMetricWarning: Precision and F-score are ill-defined and being set to 0.0 in labels with no predicted samples. Use `zero_division` parameter to control this behavior.\n",
            "  _warn_prf(average, modifier, msg_start, len(result))\n",
            "/usr/local/lib/python3.10/dist-packages/sklearn/metrics/_classification.py:1344: UndefinedMetricWarning: Precision and F-score are ill-defined and being set to 0.0 in labels with no predicted samples. Use `zero_division` parameter to control this behavior.\n",
            "  _warn_prf(average, modifier, msg_start, len(result))\n"
          ]
        }
      ]
    },
    {
      "cell_type": "markdown",
      "source": [
        "### Evaluation of TF-IDF across Different models"
      ],
      "metadata": {
        "id": "EgEiK-H2LlQ1"
      }
    },
    {
      "cell_type": "code",
      "source": [
        "tf_results"
      ],
      "metadata": {
        "colab": {
          "base_uri": "https://localhost:8080/"
        },
        "id": "VUGmIdmlMIOq",
        "outputId": "516d6795-a95f-42dc-b8f0-2bffbd87086e"
      },
      "execution_count": null,
      "outputs": [
        {
          "output_type": "execute_result",
          "data": {
            "text/plain": [
              "{'Naive Bayes Accuracy tf val': 0.409,\n",
              " 'Naive Bayes Precision tf val': 0.5162214560870199,\n",
              " 'Naive Bayes Recall tf val': 0.409,\n",
              " 'Naive Bayes F1 tf val': 0.4419061282952751,\n",
              " 'Naive Bayes Accuracy tf test': 0.387,\n",
              " 'Naive Bayes Precision tf test': 0.4038090595340811,\n",
              " 'Naive Bayes Recall tf test': 0.387,\n",
              " 'Naive Bayes F1 tf test': 0.3929418279937353,\n",
              " 'Logistic Regression Accuracy tf val': 0.512,\n",
              " 'Logistic Regression Precision tf val': 0.45003550911557744,\n",
              " 'Logistic Regression Recall tf val': 0.512,\n",
              " 'Logistic Regression F1 tf val': 0.4734265872685527,\n",
              " 'Logistic Regression Accuracy tf test': 0.468,\n",
              " 'Logistic Regression Precision tf test': 0.3734102513462627,\n",
              " 'Logistic Regression Recall tf test': 0.468,\n",
              " 'Logistic Regression F1 tf test': 0.39992889663995884,\n",
              " 'LSTM Accuracy tf val': 0.75,\n",
              " 'LSTM Precision tf val': 0.7405548022616081,\n",
              " 'LSTM Recall tf val': 0.75,\n",
              " 'LSTM F1 tf val': 0.7363694814728727,\n",
              " 'LSTM Accuracy tf test': 0.685,\n",
              " 'LSTM Precision tf test': 0.728633436965583,\n",
              " 'LSTM Recall tf test': 0.685,\n",
              " 'LSTM F1 tf test': 0.6595646295741405,\n",
              " 'RNN Accuracy tf val': 0.655,\n",
              " 'RNN Precision tf val': 0.6658899843014129,\n",
              " 'RNN  Recall tf val': 0.655,\n",
              " 'RNN  F1 tf val': 0.6006185336037166,\n",
              " 'RNN Accuracy tf test': 0.595,\n",
              " 'RNN Precision tf test': 0.5591445112727317,\n",
              " 'RNN  Recall tf test': 0.595,\n",
              " 'RNN  F1 tf test': 0.530273729246768}"
            ]
          },
          "metadata": {},
          "execution_count": 34
        }
      ]
    },
    {
      "cell_type": "code",
      "source": [
        "tf_results_list=[{'performance metric & model':k,\"results\":v} for k,v in tf_results.items()]\n",
        "tf_df_results=pd.DataFrame(tf_results_list)\n",
        "tf_df_results"
      ],
      "metadata": {
        "id": "GAayPHbSL6l0",
        "colab": {
          "base_uri": "https://localhost:8080/",
          "height": 1000
        },
        "outputId": "e1724fef-921b-46bd-9e3e-df83922a3087"
      },
      "execution_count": null,
      "outputs": [
        {
          "output_type": "execute_result",
          "data": {
            "text/plain": [
              "               performance metric & model   results\n",
              "0             Naive Bayes Accuracy tf val  0.409000\n",
              "1            Naive Bayes Precision tf val  0.516221\n",
              "2               Naive Bayes Recall tf val  0.409000\n",
              "3                   Naive Bayes F1 tf val  0.441906\n",
              "4            Naive Bayes Accuracy tf test  0.387000\n",
              "5           Naive Bayes Precision tf test  0.403809\n",
              "6              Naive Bayes Recall tf test  0.387000\n",
              "7                  Naive Bayes F1 tf test  0.392942\n",
              "8     Logistic Regression Accuracy tf val  0.512000\n",
              "9    Logistic Regression Precision tf val  0.450036\n",
              "10      Logistic Regression Recall tf val  0.512000\n",
              "11          Logistic Regression F1 tf val  0.473427\n",
              "12   Logistic Regression Accuracy tf test  0.468000\n",
              "13  Logistic Regression Precision tf test  0.373410\n",
              "14     Logistic Regression Recall tf test  0.468000\n",
              "15         Logistic Regression F1 tf test  0.399929\n",
              "16                   LSTM Accuracy tf val  0.750000\n",
              "17                  LSTM Precision tf val  0.740555\n",
              "18                     LSTM Recall tf val  0.750000\n",
              "19                         LSTM F1 tf val  0.736369\n",
              "20                  LSTM Accuracy tf test  0.685000\n",
              "21                 LSTM Precision tf test  0.728633\n",
              "22                    LSTM Recall tf test  0.685000\n",
              "23                        LSTM F1 tf test  0.659565\n",
              "24                    RNN Accuracy tf val  0.655000\n",
              "25                   RNN Precision tf val  0.665890\n",
              "26                     RNN  Recall tf val  0.655000\n",
              "27                         RNN  F1 tf val  0.600619\n",
              "28                   RNN Accuracy tf test  0.595000\n",
              "29                  RNN Precision tf test  0.559145\n",
              "30                    RNN  Recall tf test  0.595000\n",
              "31                        RNN  F1 tf test  0.530274"
            ],
            "text/html": [
              "\n",
              "  <div id=\"df-1c637ad4-38ae-472d-8879-0e5faffebdb7\" class=\"colab-df-container\">\n",
              "    <div>\n",
              "<style scoped>\n",
              "    .dataframe tbody tr th:only-of-type {\n",
              "        vertical-align: middle;\n",
              "    }\n",
              "\n",
              "    .dataframe tbody tr th {\n",
              "        vertical-align: top;\n",
              "    }\n",
              "\n",
              "    .dataframe thead th {\n",
              "        text-align: right;\n",
              "    }\n",
              "</style>\n",
              "<table border=\"1\" class=\"dataframe\">\n",
              "  <thead>\n",
              "    <tr style=\"text-align: right;\">\n",
              "      <th></th>\n",
              "      <th>performance metric &amp; model</th>\n",
              "      <th>results</th>\n",
              "    </tr>\n",
              "  </thead>\n",
              "  <tbody>\n",
              "    <tr>\n",
              "      <th>0</th>\n",
              "      <td>Naive Bayes Accuracy tf val</td>\n",
              "      <td>0.409000</td>\n",
              "    </tr>\n",
              "    <tr>\n",
              "      <th>1</th>\n",
              "      <td>Naive Bayes Precision tf val</td>\n",
              "      <td>0.516221</td>\n",
              "    </tr>\n",
              "    <tr>\n",
              "      <th>2</th>\n",
              "      <td>Naive Bayes Recall tf val</td>\n",
              "      <td>0.409000</td>\n",
              "    </tr>\n",
              "    <tr>\n",
              "      <th>3</th>\n",
              "      <td>Naive Bayes F1 tf val</td>\n",
              "      <td>0.441906</td>\n",
              "    </tr>\n",
              "    <tr>\n",
              "      <th>4</th>\n",
              "      <td>Naive Bayes Accuracy tf test</td>\n",
              "      <td>0.387000</td>\n",
              "    </tr>\n",
              "    <tr>\n",
              "      <th>5</th>\n",
              "      <td>Naive Bayes Precision tf test</td>\n",
              "      <td>0.403809</td>\n",
              "    </tr>\n",
              "    <tr>\n",
              "      <th>6</th>\n",
              "      <td>Naive Bayes Recall tf test</td>\n",
              "      <td>0.387000</td>\n",
              "    </tr>\n",
              "    <tr>\n",
              "      <th>7</th>\n",
              "      <td>Naive Bayes F1 tf test</td>\n",
              "      <td>0.392942</td>\n",
              "    </tr>\n",
              "    <tr>\n",
              "      <th>8</th>\n",
              "      <td>Logistic Regression Accuracy tf val</td>\n",
              "      <td>0.512000</td>\n",
              "    </tr>\n",
              "    <tr>\n",
              "      <th>9</th>\n",
              "      <td>Logistic Regression Precision tf val</td>\n",
              "      <td>0.450036</td>\n",
              "    </tr>\n",
              "    <tr>\n",
              "      <th>10</th>\n",
              "      <td>Logistic Regression Recall tf val</td>\n",
              "      <td>0.512000</td>\n",
              "    </tr>\n",
              "    <tr>\n",
              "      <th>11</th>\n",
              "      <td>Logistic Regression F1 tf val</td>\n",
              "      <td>0.473427</td>\n",
              "    </tr>\n",
              "    <tr>\n",
              "      <th>12</th>\n",
              "      <td>Logistic Regression Accuracy tf test</td>\n",
              "      <td>0.468000</td>\n",
              "    </tr>\n",
              "    <tr>\n",
              "      <th>13</th>\n",
              "      <td>Logistic Regression Precision tf test</td>\n",
              "      <td>0.373410</td>\n",
              "    </tr>\n",
              "    <tr>\n",
              "      <th>14</th>\n",
              "      <td>Logistic Regression Recall tf test</td>\n",
              "      <td>0.468000</td>\n",
              "    </tr>\n",
              "    <tr>\n",
              "      <th>15</th>\n",
              "      <td>Logistic Regression F1 tf test</td>\n",
              "      <td>0.399929</td>\n",
              "    </tr>\n",
              "    <tr>\n",
              "      <th>16</th>\n",
              "      <td>LSTM Accuracy tf val</td>\n",
              "      <td>0.750000</td>\n",
              "    </tr>\n",
              "    <tr>\n",
              "      <th>17</th>\n",
              "      <td>LSTM Precision tf val</td>\n",
              "      <td>0.740555</td>\n",
              "    </tr>\n",
              "    <tr>\n",
              "      <th>18</th>\n",
              "      <td>LSTM Recall tf val</td>\n",
              "      <td>0.750000</td>\n",
              "    </tr>\n",
              "    <tr>\n",
              "      <th>19</th>\n",
              "      <td>LSTM F1 tf val</td>\n",
              "      <td>0.736369</td>\n",
              "    </tr>\n",
              "    <tr>\n",
              "      <th>20</th>\n",
              "      <td>LSTM Accuracy tf test</td>\n",
              "      <td>0.685000</td>\n",
              "    </tr>\n",
              "    <tr>\n",
              "      <th>21</th>\n",
              "      <td>LSTM Precision tf test</td>\n",
              "      <td>0.728633</td>\n",
              "    </tr>\n",
              "    <tr>\n",
              "      <th>22</th>\n",
              "      <td>LSTM Recall tf test</td>\n",
              "      <td>0.685000</td>\n",
              "    </tr>\n",
              "    <tr>\n",
              "      <th>23</th>\n",
              "      <td>LSTM F1 tf test</td>\n",
              "      <td>0.659565</td>\n",
              "    </tr>\n",
              "    <tr>\n",
              "      <th>24</th>\n",
              "      <td>RNN Accuracy tf val</td>\n",
              "      <td>0.655000</td>\n",
              "    </tr>\n",
              "    <tr>\n",
              "      <th>25</th>\n",
              "      <td>RNN Precision tf val</td>\n",
              "      <td>0.665890</td>\n",
              "    </tr>\n",
              "    <tr>\n",
              "      <th>26</th>\n",
              "      <td>RNN  Recall tf val</td>\n",
              "      <td>0.655000</td>\n",
              "    </tr>\n",
              "    <tr>\n",
              "      <th>27</th>\n",
              "      <td>RNN  F1 tf val</td>\n",
              "      <td>0.600619</td>\n",
              "    </tr>\n",
              "    <tr>\n",
              "      <th>28</th>\n",
              "      <td>RNN Accuracy tf test</td>\n",
              "      <td>0.595000</td>\n",
              "    </tr>\n",
              "    <tr>\n",
              "      <th>29</th>\n",
              "      <td>RNN Precision tf test</td>\n",
              "      <td>0.559145</td>\n",
              "    </tr>\n",
              "    <tr>\n",
              "      <th>30</th>\n",
              "      <td>RNN  Recall tf test</td>\n",
              "      <td>0.595000</td>\n",
              "    </tr>\n",
              "    <tr>\n",
              "      <th>31</th>\n",
              "      <td>RNN  F1 tf test</td>\n",
              "      <td>0.530274</td>\n",
              "    </tr>\n",
              "  </tbody>\n",
              "</table>\n",
              "</div>\n",
              "    <div class=\"colab-df-buttons\">\n",
              "\n",
              "  <div class=\"colab-df-container\">\n",
              "    <button class=\"colab-df-convert\" onclick=\"convertToInteractive('df-1c637ad4-38ae-472d-8879-0e5faffebdb7')\"\n",
              "            title=\"Convert this dataframe to an interactive table.\"\n",
              "            style=\"display:none;\">\n",
              "\n",
              "  <svg xmlns=\"http://www.w3.org/2000/svg\" height=\"24px\" viewBox=\"0 -960 960 960\">\n",
              "    <path d=\"M120-120v-720h720v720H120Zm60-500h600v-160H180v160Zm220 220h160v-160H400v160Zm0 220h160v-160H400v160ZM180-400h160v-160H180v160Zm440 0h160v-160H620v160ZM180-180h160v-160H180v160Zm440 0h160v-160H620v160Z\"/>\n",
              "  </svg>\n",
              "    </button>\n",
              "\n",
              "  <style>\n",
              "    .colab-df-container {\n",
              "      display:flex;\n",
              "      gap: 12px;\n",
              "    }\n",
              "\n",
              "    .colab-df-convert {\n",
              "      background-color: #E8F0FE;\n",
              "      border: none;\n",
              "      border-radius: 50%;\n",
              "      cursor: pointer;\n",
              "      display: none;\n",
              "      fill: #1967D2;\n",
              "      height: 32px;\n",
              "      padding: 0 0 0 0;\n",
              "      width: 32px;\n",
              "    }\n",
              "\n",
              "    .colab-df-convert:hover {\n",
              "      background-color: #E2EBFA;\n",
              "      box-shadow: 0px 1px 2px rgba(60, 64, 67, 0.3), 0px 1px 3px 1px rgba(60, 64, 67, 0.15);\n",
              "      fill: #174EA6;\n",
              "    }\n",
              "\n",
              "    .colab-df-buttons div {\n",
              "      margin-bottom: 4px;\n",
              "    }\n",
              "\n",
              "    [theme=dark] .colab-df-convert {\n",
              "      background-color: #3B4455;\n",
              "      fill: #D2E3FC;\n",
              "    }\n",
              "\n",
              "    [theme=dark] .colab-df-convert:hover {\n",
              "      background-color: #434B5C;\n",
              "      box-shadow: 0px 1px 3px 1px rgba(0, 0, 0, 0.15);\n",
              "      filter: drop-shadow(0px 1px 2px rgba(0, 0, 0, 0.3));\n",
              "      fill: #FFFFFF;\n",
              "    }\n",
              "  </style>\n",
              "\n",
              "    <script>\n",
              "      const buttonEl =\n",
              "        document.querySelector('#df-1c637ad4-38ae-472d-8879-0e5faffebdb7 button.colab-df-convert');\n",
              "      buttonEl.style.display =\n",
              "        google.colab.kernel.accessAllowed ? 'block' : 'none';\n",
              "\n",
              "      async function convertToInteractive(key) {\n",
              "        const element = document.querySelector('#df-1c637ad4-38ae-472d-8879-0e5faffebdb7');\n",
              "        const dataTable =\n",
              "          await google.colab.kernel.invokeFunction('convertToInteractive',\n",
              "                                                    [key], {});\n",
              "        if (!dataTable) return;\n",
              "\n",
              "        const docLinkHtml = 'Like what you see? Visit the ' +\n",
              "          '<a target=\"_blank\" href=https://colab.research.google.com/notebooks/data_table.ipynb>data table notebook</a>'\n",
              "          + ' to learn more about interactive tables.';\n",
              "        element.innerHTML = '';\n",
              "        dataTable['output_type'] = 'display_data';\n",
              "        await google.colab.output.renderOutput(dataTable, element);\n",
              "        const docLink = document.createElement('div');\n",
              "        docLink.innerHTML = docLinkHtml;\n",
              "        element.appendChild(docLink);\n",
              "      }\n",
              "    </script>\n",
              "  </div>\n",
              "\n",
              "\n",
              "<div id=\"df-1c83122a-af56-448b-99d1-ef89f61d1c33\">\n",
              "  <button class=\"colab-df-quickchart\" onclick=\"quickchart('df-1c83122a-af56-448b-99d1-ef89f61d1c33')\"\n",
              "            title=\"Suggest charts\"\n",
              "            style=\"display:none;\">\n",
              "\n",
              "<svg xmlns=\"http://www.w3.org/2000/svg\" height=\"24px\"viewBox=\"0 0 24 24\"\n",
              "     width=\"24px\">\n",
              "    <g>\n",
              "        <path d=\"M19 3H5c-1.1 0-2 .9-2 2v14c0 1.1.9 2 2 2h14c1.1 0 2-.9 2-2V5c0-1.1-.9-2-2-2zM9 17H7v-7h2v7zm4 0h-2V7h2v10zm4 0h-2v-4h2v4z\"/>\n",
              "    </g>\n",
              "</svg>\n",
              "  </button>\n",
              "\n",
              "<style>\n",
              "  .colab-df-quickchart {\n",
              "      --bg-color: #E8F0FE;\n",
              "      --fill-color: #1967D2;\n",
              "      --hover-bg-color: #E2EBFA;\n",
              "      --hover-fill-color: #174EA6;\n",
              "      --disabled-fill-color: #AAA;\n",
              "      --disabled-bg-color: #DDD;\n",
              "  }\n",
              "\n",
              "  [theme=dark] .colab-df-quickchart {\n",
              "      --bg-color: #3B4455;\n",
              "      --fill-color: #D2E3FC;\n",
              "      --hover-bg-color: #434B5C;\n",
              "      --hover-fill-color: #FFFFFF;\n",
              "      --disabled-bg-color: #3B4455;\n",
              "      --disabled-fill-color: #666;\n",
              "  }\n",
              "\n",
              "  .colab-df-quickchart {\n",
              "    background-color: var(--bg-color);\n",
              "    border: none;\n",
              "    border-radius: 50%;\n",
              "    cursor: pointer;\n",
              "    display: none;\n",
              "    fill: var(--fill-color);\n",
              "    height: 32px;\n",
              "    padding: 0;\n",
              "    width: 32px;\n",
              "  }\n",
              "\n",
              "  .colab-df-quickchart:hover {\n",
              "    background-color: var(--hover-bg-color);\n",
              "    box-shadow: 0 1px 2px rgba(60, 64, 67, 0.3), 0 1px 3px 1px rgba(60, 64, 67, 0.15);\n",
              "    fill: var(--button-hover-fill-color);\n",
              "  }\n",
              "\n",
              "  .colab-df-quickchart-complete:disabled,\n",
              "  .colab-df-quickchart-complete:disabled:hover {\n",
              "    background-color: var(--disabled-bg-color);\n",
              "    fill: var(--disabled-fill-color);\n",
              "    box-shadow: none;\n",
              "  }\n",
              "\n",
              "  .colab-df-spinner {\n",
              "    border: 2px solid var(--fill-color);\n",
              "    border-color: transparent;\n",
              "    border-bottom-color: var(--fill-color);\n",
              "    animation:\n",
              "      spin 1s steps(1) infinite;\n",
              "  }\n",
              "\n",
              "  @keyframes spin {\n",
              "    0% {\n",
              "      border-color: transparent;\n",
              "      border-bottom-color: var(--fill-color);\n",
              "      border-left-color: var(--fill-color);\n",
              "    }\n",
              "    20% {\n",
              "      border-color: transparent;\n",
              "      border-left-color: var(--fill-color);\n",
              "      border-top-color: var(--fill-color);\n",
              "    }\n",
              "    30% {\n",
              "      border-color: transparent;\n",
              "      border-left-color: var(--fill-color);\n",
              "      border-top-color: var(--fill-color);\n",
              "      border-right-color: var(--fill-color);\n",
              "    }\n",
              "    40% {\n",
              "      border-color: transparent;\n",
              "      border-right-color: var(--fill-color);\n",
              "      border-top-color: var(--fill-color);\n",
              "    }\n",
              "    60% {\n",
              "      border-color: transparent;\n",
              "      border-right-color: var(--fill-color);\n",
              "    }\n",
              "    80% {\n",
              "      border-color: transparent;\n",
              "      border-right-color: var(--fill-color);\n",
              "      border-bottom-color: var(--fill-color);\n",
              "    }\n",
              "    90% {\n",
              "      border-color: transparent;\n",
              "      border-bottom-color: var(--fill-color);\n",
              "    }\n",
              "  }\n",
              "</style>\n",
              "\n",
              "  <script>\n",
              "    async function quickchart(key) {\n",
              "      const quickchartButtonEl =\n",
              "        document.querySelector('#' + key + ' button');\n",
              "      quickchartButtonEl.disabled = true;  // To prevent multiple clicks.\n",
              "      quickchartButtonEl.classList.add('colab-df-spinner');\n",
              "      try {\n",
              "        const charts = await google.colab.kernel.invokeFunction(\n",
              "            'suggestCharts', [key], {});\n",
              "      } catch (error) {\n",
              "        console.error('Error during call to suggestCharts:', error);\n",
              "      }\n",
              "      quickchartButtonEl.classList.remove('colab-df-spinner');\n",
              "      quickchartButtonEl.classList.add('colab-df-quickchart-complete');\n",
              "    }\n",
              "    (() => {\n",
              "      let quickchartButtonEl =\n",
              "        document.querySelector('#df-1c83122a-af56-448b-99d1-ef89f61d1c33 button');\n",
              "      quickchartButtonEl.style.display =\n",
              "        google.colab.kernel.accessAllowed ? 'block' : 'none';\n",
              "    })();\n",
              "  </script>\n",
              "</div>\n",
              "\n",
              "  <div id=\"id_6cde898a-40f8-4836-9cde-a0a7e8e06865\">\n",
              "    <style>\n",
              "      .colab-df-generate {\n",
              "        background-color: #E8F0FE;\n",
              "        border: none;\n",
              "        border-radius: 50%;\n",
              "        cursor: pointer;\n",
              "        display: none;\n",
              "        fill: #1967D2;\n",
              "        height: 32px;\n",
              "        padding: 0 0 0 0;\n",
              "        width: 32px;\n",
              "      }\n",
              "\n",
              "      .colab-df-generate:hover {\n",
              "        background-color: #E2EBFA;\n",
              "        box-shadow: 0px 1px 2px rgba(60, 64, 67, 0.3), 0px 1px 3px 1px rgba(60, 64, 67, 0.15);\n",
              "        fill: #174EA6;\n",
              "      }\n",
              "\n",
              "      [theme=dark] .colab-df-generate {\n",
              "        background-color: #3B4455;\n",
              "        fill: #D2E3FC;\n",
              "      }\n",
              "\n",
              "      [theme=dark] .colab-df-generate:hover {\n",
              "        background-color: #434B5C;\n",
              "        box-shadow: 0px 1px 3px 1px rgba(0, 0, 0, 0.15);\n",
              "        filter: drop-shadow(0px 1px 2px rgba(0, 0, 0, 0.3));\n",
              "        fill: #FFFFFF;\n",
              "      }\n",
              "    </style>\n",
              "    <button class=\"colab-df-generate\" onclick=\"generateWithVariable('tf_df_results')\"\n",
              "            title=\"Generate code using this dataframe.\"\n",
              "            style=\"display:none;\">\n",
              "\n",
              "  <svg xmlns=\"http://www.w3.org/2000/svg\" height=\"24px\"viewBox=\"0 0 24 24\"\n",
              "       width=\"24px\">\n",
              "    <path d=\"M7,19H8.4L18.45,9,17,7.55,7,17.6ZM5,21V16.75L18.45,3.32a2,2,0,0,1,2.83,0l1.4,1.43a1.91,1.91,0,0,1,.58,1.4,1.91,1.91,0,0,1-.58,1.4L9.25,21ZM18.45,9,17,7.55Zm-12,3A5.31,5.31,0,0,0,4.9,8.1,5.31,5.31,0,0,0,1,6.5,5.31,5.31,0,0,0,4.9,4.9,5.31,5.31,0,0,0,6.5,1,5.31,5.31,0,0,0,8.1,4.9,5.31,5.31,0,0,0,12,6.5,5.46,5.46,0,0,0,6.5,12Z\"/>\n",
              "  </svg>\n",
              "    </button>\n",
              "    <script>\n",
              "      (() => {\n",
              "      const buttonEl =\n",
              "        document.querySelector('#id_6cde898a-40f8-4836-9cde-a0a7e8e06865 button.colab-df-generate');\n",
              "      buttonEl.style.display =\n",
              "        google.colab.kernel.accessAllowed ? 'block' : 'none';\n",
              "\n",
              "      buttonEl.onclick = () => {\n",
              "        google.colab.notebook.generateWithVariable('tf_df_results');\n",
              "      }\n",
              "      })();\n",
              "    </script>\n",
              "  </div>\n",
              "\n",
              "    </div>\n",
              "  </div>\n"
            ],
            "application/vnd.google.colaboratory.intrinsic+json": {
              "type": "dataframe",
              "variable_name": "tf_df_results",
              "summary": "{\n  \"name\": \"tf_df_results\",\n  \"rows\": 32,\n  \"fields\": [\n    {\n      \"column\": \"performance metric & model\",\n      \"properties\": {\n        \"dtype\": \"string\",\n        \"num_unique_values\": 32,\n        \"samples\": [\n          \"RNN Precision tf test\",\n          \"Logistic Regression F1 tf test\",\n          \"RNN Accuracy tf val\"\n        ],\n        \"semantic_type\": \"\",\n        \"description\": \"\"\n      }\n    },\n    {\n      \"column\": \"results\",\n      \"properties\": {\n        \"dtype\": \"number\",\n        \"std\": 0.12846935508449187,\n        \"min\": 0.3734102513462627,\n        \"max\": 0.75,\n        \"num_unique_values\": 24,\n        \"samples\": [\n          0.4734265872685527,\n          0.728633436965583,\n          0.409\n        ],\n        \"semantic_type\": \"\",\n        \"description\": \"\"\n      }\n    }\n  ]\n}"
            }
          },
          "metadata": {},
          "execution_count": 35
        }
      ]
    },
    {
      "cell_type": "markdown",
      "source": [
        "## Bag of Words"
      ],
      "metadata": {
        "id": "oSowdAdGL7Gz"
      }
    },
    {
      "cell_type": "code",
      "source": [
        "bow_results={}"
      ],
      "metadata": {
        "id": "_dxQ2aaftVZc"
      },
      "execution_count": null,
      "outputs": []
    },
    {
      "cell_type": "code",
      "source": [
        "from sklearn.feature_extraction.text import CountVectorizer\n",
        "\n",
        "vectorizer = cv_uni_vec = CountVectorizer(max_features=300,ngram_range=(1,1))\n",
        "X_train_uni = cv_uni_vec.fit_transform(train_df['processed_text'])\n",
        "X_val_uni = cv_uni_vec.fit_transform(val_df['processed_text'])\n",
        "X_test_uni = cv_uni_vec.fit_transform(df_test['processed_text'])\n",
        "uni_train_feature = pd.DataFrame(X_train_uni.toarray(), columns=cv_uni_vec.get_feature_names_out())\n",
        "uni_val_feature = pd.DataFrame(X_val_uni.toarray(), columns=cv_uni_vec.get_feature_names_out())\n",
        "uni_test_feature = pd.DataFrame(X_test_uni.toarray(), columns=cv_uni_vec.get_feature_names_out())\n"
      ],
      "metadata": {
        "id": "I9XkG3sFM6LY"
      },
      "execution_count": null,
      "outputs": []
    },
    {
      "cell_type": "markdown",
      "source": [
        "### Traditional Models"
      ],
      "metadata": {
        "id": "aVYWwrhLM6t_"
      }
    },
    {
      "cell_type": "markdown",
      "source": [
        "#### Naive Bayes"
      ],
      "metadata": {
        "id": "gqjn9MB_NDXb"
      }
    },
    {
      "cell_type": "code",
      "source": [
        "clf_nb_bow = GaussianNB()\n",
        "clf_nb_bow.fit(uni_train_feature.values, y_train)\n",
        "\n",
        "y_pred_nb_bow_val = clf_nb_bow.predict(uni_val_feature.values)\n",
        "\n",
        "accuracy_nb_bow_val = accuracy_score(y_val, y_pred_nb_bow_val)\n",
        "print(f\"Accuracy: {accuracy_nb_bow_val:.2f}\")\n",
        "precision_nb_bow_val = precision_score(y_val, y_pred_nb_bow_val, average='weighted')\n",
        "recall_nb_bow_val = recall_score(y_val, y_pred_nb_bow_val, average='weighted')\n",
        "f1_nb_bow_val = f1_score(y_val, y_pred_nb_bow_val, average='weighted')\n",
        "\n",
        "print(f'Accuracy: {accuracy_nb_bow_val:.4f}')\n",
        "print(f'Precision: {precision_nb_bow_val:.4f}')\n",
        "print(f'Recall: {recall_nb_bow_val:.4f}')\n",
        "print(f'F1 Score: {f1_nb_bow_val:.4f}')\n",
        "\n",
        "print(\"Classification Report:\")\n",
        "print(classification_report(y_val, y_pred_nb_bow_val))\n",
        "\n",
        "bow_results['Naive Bayes Accuracy bow val']=accuracy_nb_bow_val\n",
        "bow_results['Naive Bayes Precision bow val']=precision_nb_bow_val\n",
        "bow_results['Naive Bayes  Recall bow val']=recall_nb_bow_val\n",
        "bow_results['Naive Bayes  F1 bow val']=f1_nb_bow_val"
      ],
      "metadata": {
        "id": "iM0FK_sHNK3k",
        "colab": {
          "base_uri": "https://localhost:8080/"
        },
        "outputId": "309e7525-0667-43cc-cc8c-31bf7bf01fc2"
      },
      "execution_count": null,
      "outputs": [
        {
          "output_type": "stream",
          "name": "stdout",
          "text": [
            "Accuracy: 0.39\n",
            "Accuracy: 0.3890\n",
            "Precision: 0.5189\n",
            "Recall: 0.3890\n",
            "F1 Score: 0.4235\n",
            "Classification Report:\n",
            "              precision    recall  f1-score   support\n",
            "\n",
            "           0       0.18      0.31      0.23       180\n",
            "           1       0.72      0.42      0.53       601\n",
            "           2       0.25      0.37      0.30       198\n",
            "           3       0.15      0.43      0.22        21\n",
            "\n",
            "    accuracy                           0.39      1000\n",
            "   macro avg       0.33      0.38      0.32      1000\n",
            "weighted avg       0.52      0.39      0.42      1000\n",
            "\n"
          ]
        }
      ]
    },
    {
      "cell_type": "code",
      "source": [
        "y_pred_nb_bow_test = clf_nb_bow.predict(uni_test_feature.values)\n",
        "\n",
        "accuracy_nb_bow_test = accuracy_score(y_test, y_pred_nb_bow_test)\n",
        "print(f\"Accuracy: {accuracy_nb_bow_test:.2f}\")\n",
        "precision_nb_bow_test = precision_score(y_test, y_pred_nb_bow_test, average='weighted')\n",
        "recall_nb_bow_test = recall_score(y_test, y_pred_nb_bow_test, average='weighted')\n",
        "f1_nb_bow_test = f1_score(y_test, y_pred_nb_bow_test, average='weighted')\n",
        "\n",
        "print(f'Accuracy: {accuracy_nb_bow_test:.4f}')\n",
        "print(f'Precision: {precision_nb_bow_test:.4f}')\n",
        "print(f'Recall: {recall_nb_bow_test:.4f}')\n",
        "print(f'F1 Score: {f1_nb_bow_test:.4f}')\n",
        "\n",
        "print(\"Classification Report:\")\n",
        "print(classification_report(y_test, y_pred_nb_bow_test))\n",
        "\n",
        "bow_results['Naive Bayes Accuracy bow test']=accuracy_nb_bow_test\n",
        "bow_results['Naive Bayes Precision bow test']=precision_nb_bow_test\n",
        "bow_results['Naive Bayes  Recall bow test']=recall_nb_bow_test\n",
        "bow_results['Naive Bayes  F1 bow test']=f1_nb_bow_test"
      ],
      "metadata": {
        "colab": {
          "base_uri": "https://localhost:8080/"
        },
        "id": "C8j7xrmbuZX3",
        "outputId": "289237c7-a947-4cfb-9cc2-0915c4dd7bdb"
      },
      "execution_count": null,
      "outputs": [
        {
          "output_type": "stream",
          "name": "stdout",
          "text": [
            "Accuracy: 0.36\n",
            "Accuracy: 0.3650\n",
            "Precision: 0.3931\n",
            "Recall: 0.3650\n",
            "F1 Score: 0.3749\n",
            "Classification Report:\n",
            "              precision    recall  f1-score   support\n",
            "\n",
            "           0       0.19      0.21      0.20       200\n",
            "           1       0.58      0.51      0.54       512\n",
            "           2       0.18      0.26      0.21       200\n",
            "           3       0.27      0.15      0.19        88\n",
            "\n",
            "    accuracy                           0.36      1000\n",
            "   macro avg       0.30      0.28      0.29      1000\n",
            "weighted avg       0.39      0.36      0.37      1000\n",
            "\n"
          ]
        }
      ]
    },
    {
      "cell_type": "markdown",
      "source": [
        "#### Logestic Regression"
      ],
      "metadata": {
        "id": "EQqmJ5C-NLdl"
      }
    },
    {
      "cell_type": "code",
      "source": [
        "\n",
        "\n",
        "clf_lr_bow = LogisticRegression()\n",
        "clf_lr_bow.fit(uni_train_feature.values, y_train)\n",
        "\n",
        "y_pred_lr_bow_val = clf_lr_bow.predict(uni_val_feature.values)\n",
        "\n",
        "accuracy_lr_bow_val = accuracy_score(y_val, y_pred_lr_bow_val)\n",
        "print(f\"Accuracy: {accuracy_lr_bow_val:.2f}\")\n",
        "precision_lr_bow_val = precision_score(y_val, y_pred_lr_bow_val, average='weighted')\n",
        "recall_lr_bow_val = recall_score(y_val, y_pred_lr_bow_val, average='weighted')\n",
        "f1_lr_bow_val = f1_score(y_val, y_pred_lr_bow_val, average='weighted')\n",
        "\n",
        "print(f'Accuracy: {accuracy_lr_bow_val:.4f}')\n",
        "print(f'Precision: {precision_lr_bow_val:.4f}')\n",
        "print(f'Recall: {recall_lr_bow_val:.4f}')\n",
        "print(f'F1 Score: {f1_lr_bow_val:.4f}')\n",
        "\n",
        "print(\"Classification Report:\")\n",
        "print(classification_report(y_val, y_pred_lr_bow_val))\n",
        "\n",
        "bow_results['Logistic Regression Accuracy bow val']=accuracy_lr_bow_val\n",
        "bow_results['Logistic Regression Precision bow val']=precision_lr_bow_val\n",
        "bow_results['Logistic Regression  Recall bow val']=recall_lr_bow_val\n",
        "bow_results['Logistic Regression  F1 bow val']=f1_lr_bow_val\n",
        "\n"
      ],
      "metadata": {
        "id": "5tAlRvb1No1y",
        "colab": {
          "base_uri": "https://localhost:8080/"
        },
        "outputId": "5b729605-11b2-4388-bb67-ec4326439cdf"
      },
      "execution_count": null,
      "outputs": [
        {
          "output_type": "stream",
          "name": "stdout",
          "text": [
            "Accuracy: 0.48\n",
            "Accuracy: 0.4810\n",
            "Precision: 0.4421\n",
            "Recall: 0.4810\n",
            "F1 Score: 0.4590\n",
            "Classification Report:\n",
            "              precision    recall  f1-score   support\n",
            "\n",
            "           0       0.21      0.18      0.20       180\n",
            "           1       0.60      0.69      0.64       601\n",
            "           2       0.21      0.16      0.18       198\n",
            "           3       0.00      0.00      0.00        21\n",
            "\n",
            "    accuracy                           0.48      1000\n",
            "   macro avg       0.26      0.26      0.26      1000\n",
            "weighted avg       0.44      0.48      0.46      1000\n",
            "\n"
          ]
        }
      ]
    },
    {
      "cell_type": "code",
      "source": [
        "y_pred_lr_bow_test = clf_lr_bow.predict(uni_test_feature.values)\n",
        "\n",
        "accuracy_lr_bow_test = accuracy_score(y_test, y_pred_lr_bow_test)\n",
        "print(f\"Accuracy: {accuracy_lr_bow_test:.2f}\")\n",
        "precision_lr_bow_test = precision_score(y_test, y_pred_lr_bow_test, average='weighted')\n",
        "recall_lr_bow_test = recall_score(y_test, y_pred_lr_bow_test, average='weighted')\n",
        "f1_lr_bow_test = f1_score(y_test, y_pred_lr_bow_test, average='weighted')\n",
        "\n",
        "print(f'Accuracy: {accuracy_lr_bow_test:.4f}')\n",
        "print(f'Precision: {precision_lr_bow_test:.4f}')\n",
        "print(f'Recall: {recall_lr_bow_test:.4f}')\n",
        "print(f'F1 Score: {f1_lr_bow_test:.4f}')\n",
        "\n",
        "print(\"Classification Report:\")\n",
        "print(classification_report(y_test, y_pred_lr_bow_test))\n",
        "\n",
        "bow_results['Logistic Regression Accuracy bow test']=accuracy_lr_bow_test\n",
        "bow_results['Logistic Regression Precision bow test']=precision_lr_bow_test\n",
        "bow_results['Logistic Regression  Recall bow test']=recall_lr_bow_test\n",
        "bow_results['Logistic Regression  F1 bow test']=f1_lr_bow_test\n"
      ],
      "metadata": {
        "colab": {
          "base_uri": "https://localhost:8080/"
        },
        "id": "2r0OPs_gvnyh",
        "outputId": "67caee06-4e7d-4dc4-8d28-1d7da86dd4fb"
      },
      "execution_count": null,
      "outputs": [
        {
          "output_type": "stream",
          "name": "stdout",
          "text": [
            "Accuracy: 0.42\n",
            "Accuracy: 0.4210\n",
            "Precision: 0.3527\n",
            "Recall: 0.4210\n",
            "F1 Score: 0.3786\n",
            "Classification Report:\n",
            "              precision    recall  f1-score   support\n",
            "\n",
            "           0       0.25      0.17      0.20       200\n",
            "           1       0.52      0.69      0.59       512\n",
            "           2       0.19      0.17      0.18       200\n",
            "           3       0.00      0.00      0.00        88\n",
            "\n",
            "    accuracy                           0.42      1000\n",
            "   macro avg       0.24      0.26      0.24      1000\n",
            "weighted avg       0.35      0.42      0.38      1000\n",
            "\n"
          ]
        }
      ]
    },
    {
      "cell_type": "markdown",
      "source": [
        "### Neural network"
      ],
      "metadata": {
        "id": "k7grf0aDNpv3"
      }
    },
    {
      "cell_type": "markdown",
      "source": [
        "#### embedding_weights"
      ],
      "metadata": {
        "id": "WYgbMvr8eonK"
      }
    },
    {
      "cell_type": "code",
      "source": [
        "\n",
        "vectorizer = cv_uni_vec = CountVectorizer(max_features=300,ngram_range=(1,1))\n",
        "vectorizer.fit(all_text)\n",
        "bow_max_features=vectorizer.max_features\n",
        "bow_embedding_matrix=np.zeros((total_words,bow_max_features))\n",
        "for word,i in tokenizer.word_index.items():\n",
        "  if word in vectorizer.vocabulary_:\n",
        "    bow_embedding=vectorizer.transform([word]).toarray()[0]\n",
        "    bow_embedding_matrix[i]=bow_embedding\n",
        "  else:\n",
        "    bow_embedding_matrix[i]=np.random.uniform(-25,25)\n"
      ],
      "metadata": {
        "id": "cgzpLGO4Nt0x"
      },
      "execution_count": null,
      "outputs": []
    },
    {
      "cell_type": "markdown",
      "source": [
        "#### LSTM"
      ],
      "metadata": {
        "id": "xJ1exSW1NuV7"
      }
    },
    {
      "cell_type": "code",
      "source": [
        "\n",
        "model_LSTM_bow=Sequential()\n",
        "model_LSTM_bow.add(Embedding(input_dim=total_words,\n",
        "                    output_dim=300,\n",
        "                    input_length=max_sequence_len\n",
        "                    ,weights=[bow_embedding_matrix],trainable=False))\n",
        "model_LSTM_bow.add(LSTM(100))\n",
        "model_LSTM_bow.add(Dense(4,activation='softmax'))\n",
        "adam=Adam(learning_rate=0.01)\n",
        "model_LSTM_bow.compile(loss='categorical_crossentropy',optimizer=adam,metrics=['accuracy'])\n",
        "model_LSTM_bow.fit(padded_train,y_train_one_hot_encoded,epochs=10,verbose=1)\n"
      ],
      "metadata": {
        "id": "OX4Z4TTCNxCk",
        "colab": {
          "base_uri": "https://localhost:8080/"
        },
        "outputId": "3ea32a82-8d43-4584-ec42-db4b630f241c"
      },
      "execution_count": null,
      "outputs": [
        {
          "output_type": "stream",
          "name": "stdout",
          "text": [
            "Epoch 1/10\n",
            "125/125 [==============================] - 2s 5ms/step - loss: 0.9703 - accuracy: 0.6317\n",
            "Epoch 2/10\n",
            "125/125 [==============================] - 1s 6ms/step - loss: 0.7124 - accuracy: 0.7308\n",
            "Epoch 3/10\n",
            "125/125 [==============================] - 1s 5ms/step - loss: 0.5973 - accuracy: 0.7790\n",
            "Epoch 4/10\n",
            "125/125 [==============================] - 1s 6ms/step - loss: 0.5303 - accuracy: 0.8027\n",
            "Epoch 5/10\n",
            "125/125 [==============================] - 1s 6ms/step - loss: 0.5005 - accuracy: 0.8175\n",
            "Epoch 6/10\n",
            "125/125 [==============================] - 1s 6ms/step - loss: 0.4571 - accuracy: 0.8292\n",
            "Epoch 7/10\n",
            "125/125 [==============================] - 1s 5ms/step - loss: 0.4487 - accuracy: 0.8460\n",
            "Epoch 8/10\n",
            "125/125 [==============================] - 1s 4ms/step - loss: 0.4369 - accuracy: 0.8447\n",
            "Epoch 9/10\n",
            "125/125 [==============================] - 1s 4ms/step - loss: 0.4325 - accuracy: 0.8428\n",
            "Epoch 10/10\n",
            "125/125 [==============================] - 1s 4ms/step - loss: 0.4208 - accuracy: 0.8455\n"
          ]
        },
        {
          "output_type": "execute_result",
          "data": {
            "text/plain": [
              "<keras.src.callbacks.History at 0x7f8d584cb010>"
            ]
          },
          "metadata": {},
          "execution_count": 43
        }
      ]
    },
    {
      "cell_type": "code",
      "source": [
        "val_loss_bow_lstm, val_accuracy_bow_lstm = model_LSTM_bow.evaluate(padded_val, y_val_one_hot_encoded, verbose=1)\n",
        "print(f'Validation Accuracy: {val_accuracy_bow_lstm}')\n",
        "y_pred = model_LSTM_bow.predict(padded_val)\n",
        "y_pred_lstm_bow_val = np.argmax(y_pred, axis=1)\n",
        "accuracy_lstm_bow_val = accuracy_score(y_val, y_pred_lstm_bow_val)\n",
        "precision_lstm_bow_val = precision_score(y_val, y_pred_lstm_bow_val, average='weighted')\n",
        "recall_lstm_bow_val = recall_score(y_val, y_pred_lstm_bow_val, average='weighted')\n",
        "f1_lstm_bow_val = f1_score(y_val, y_pred_lstm_bow_val, average='weighted')\n",
        "\n",
        "print(f'Accuracy: {accuracy_lstm_bow_val:.4f}')\n",
        "print(f'Precision: {precision_lstm_bow_val:.4f}')\n",
        "print(f'Recall: {recall_lstm_bow_val:.4f}')\n",
        "print(f'F1 Score: {f1_lstm_bow_val:.4f}')\n",
        "\n",
        "print(\"Classification Report:\")\n",
        "print(classification_report(y_val, y_pred_lstm_bow_val))\n",
        "bow_results['LSTM Accuracy bow val']=accuracy_lstm_bow_val\n",
        "bow_results['LSTM Precision bow val']=precision_lstm_bow_val\n",
        "bow_results['LSTM  Recall bow val']=recall_lstm_bow_val\n",
        "bow_results['LSTM  F1 bow val']=f1_lstm_bow_val\n",
        "\n"
      ],
      "metadata": {
        "colab": {
          "base_uri": "https://localhost:8080/"
        },
        "id": "_HSJutQgwBWH",
        "outputId": "d992f6de-64a9-4b1e-d058-b472f4caee2a"
      },
      "execution_count": null,
      "outputs": [
        {
          "output_type": "stream",
          "name": "stdout",
          "text": [
            "32/32 [==============================] - 0s 3ms/step - loss: 0.7121 - accuracy: 0.7560\n",
            "Validation Accuracy: 0.7559999823570251\n",
            "32/32 [==============================] - 0s 2ms/step\n",
            "Accuracy: 0.7560\n",
            "Precision: 0.7410\n",
            "Recall: 0.7560\n",
            "F1 Score: 0.7360\n",
            "Classification Report:\n",
            "              precision    recall  f1-score   support\n",
            "\n",
            "           0       0.77      0.50      0.61       180\n",
            "           1       0.75      0.92      0.83       601\n",
            "           2       0.75      0.57      0.65       198\n",
            "           3       0.00      0.00      0.00        21\n",
            "\n",
            "    accuracy                           0.76      1000\n",
            "   macro avg       0.57      0.50      0.52      1000\n",
            "weighted avg       0.74      0.76      0.74      1000\n",
            "\n"
          ]
        },
        {
          "output_type": "stream",
          "name": "stderr",
          "text": [
            "/usr/local/lib/python3.10/dist-packages/sklearn/metrics/_classification.py:1344: UndefinedMetricWarning: Precision is ill-defined and being set to 0.0 in labels with no predicted samples. Use `zero_division` parameter to control this behavior.\n",
            "  _warn_prf(average, modifier, msg_start, len(result))\n",
            "/usr/local/lib/python3.10/dist-packages/sklearn/metrics/_classification.py:1344: UndefinedMetricWarning: Precision and F-score are ill-defined and being set to 0.0 in labels with no predicted samples. Use `zero_division` parameter to control this behavior.\n",
            "  _warn_prf(average, modifier, msg_start, len(result))\n",
            "/usr/local/lib/python3.10/dist-packages/sklearn/metrics/_classification.py:1344: UndefinedMetricWarning: Precision and F-score are ill-defined and being set to 0.0 in labels with no predicted samples. Use `zero_division` parameter to control this behavior.\n",
            "  _warn_prf(average, modifier, msg_start, len(result))\n",
            "/usr/local/lib/python3.10/dist-packages/sklearn/metrics/_classification.py:1344: UndefinedMetricWarning: Precision and F-score are ill-defined and being set to 0.0 in labels with no predicted samples. Use `zero_division` parameter to control this behavior.\n",
            "  _warn_prf(average, modifier, msg_start, len(result))\n"
          ]
        }
      ]
    },
    {
      "cell_type": "code",
      "source": [
        "test_loss_bow_lstm, test_accuracy_bow_lstm = model_LSTM_bow.evaluate(padded_test, y_test_one_hot_encoded, verbose=1)\n",
        "print(f'Test Accuracy: {test_accuracy_bow_lstm}')\n",
        "y_pred = model_LSTM_bow.predict(padded_test)\n",
        "y_pred_lstm_bow_test = np.argmax(y_pred, axis=1)\n",
        "accuracy_lstm_bow_test = accuracy_score(y_test, y_pred_lstm_bow_test)\n",
        "precision_lstm_bow_test = precision_score(y_test, y_pred_lstm_bow_test, average='weighted')\n",
        "recall_lstm_bow_test = recall_score(y_test, y_pred_lstm_bow_test, average='weighted')\n",
        "f1_lstm_bow_test = f1_score(y_test, y_pred_lstm_bow_test, average='weighted')\n",
        "\n",
        "print(f'Accuracy: {accuracy_lstm_bow_test:.4f}')\n",
        "print(f'Precision: {precision_lstm_bow_test:.4f}')\n",
        "print(f'Recall: {recall_lstm_bow_test:.4f}')\n",
        "print(f'F1 Score: {f1_lstm_bow_test:.4f}')\n",
        "print(\"Classification Report:\")\n",
        "print(classification_report(y_test, y_pred_lstm_bow_test))\n",
        "bow_results['LSTM Accuracy bow test']=accuracy_lstm_bow_test\n",
        "bow_results['LSTM Precision bow test']=precision_lstm_bow_test\n",
        "bow_results['LSTM  Recall bow test']=recall_lstm_bow_test\n",
        "bow_results['LSTM  F1 bow test']=f1_lstm_bow_test\n"
      ],
      "metadata": {
        "colab": {
          "base_uri": "https://localhost:8080/"
        },
        "id": "idQUgCT1wBIe",
        "outputId": "1ce22107-8a7d-4255-b881-d61941845748"
      },
      "execution_count": null,
      "outputs": [
        {
          "output_type": "stream",
          "name": "stdout",
          "text": [
            "32/32 [==============================] - 0s 3ms/step - loss: 1.0506 - accuracy: 0.7140\n",
            "Test Accuracy: 0.7139999866485596\n",
            "32/32 [==============================] - 0s 2ms/step\n",
            "Accuracy: 0.7140\n",
            "Precision: 0.6986\n",
            "Recall: 0.7140\n",
            "F1 Score: 0.6757\n",
            "Classification Report:\n",
            "              precision    recall  f1-score   support\n",
            "\n",
            "           0       0.64      0.49      0.56       200\n",
            "           1       0.70      0.91      0.79       512\n",
            "           2       0.85      0.73      0.79       200\n",
            "           3       0.50      0.01      0.02        88\n",
            "\n",
            "    accuracy                           0.71      1000\n",
            "   macro avg       0.67      0.54      0.54      1000\n",
            "weighted avg       0.70      0.71      0.68      1000\n",
            "\n"
          ]
        }
      ]
    },
    {
      "cell_type": "markdown",
      "source": [
        "#### RNN"
      ],
      "metadata": {
        "id": "7cpNmsGrNxrw"
      }
    },
    {
      "cell_type": "code",
      "source": [
        "model_rnn_bow=Sequential()\n",
        "model_rnn_bow.add(Embedding(input_dim=total_words,\n",
        "                    output_dim=300,\n",
        "                    input_length=max_sequence_len\n",
        "                    ,weights=[bow_embedding_matrix],trainable=False))\n",
        "model_rnn_bow.add(SimpleRNN(100))\n",
        "model_rnn_bow.add(Dense(4,activation='softmax'))\n",
        "adam=Adam(learning_rate=0.01)\n",
        "model_rnn_bow.compile(loss='categorical_crossentropy',optimizer=adam,metrics=['accuracy'])\n",
        "model_rnn_bow.fit(padded_train,y_train_one_hot_encoded,epochs=10,verbose=1)\n"
      ],
      "metadata": {
        "id": "XiTVkLLgN60c",
        "colab": {
          "base_uri": "https://localhost:8080/"
        },
        "outputId": "2d1773a0-9c2c-4009-b3a6-0157ad8303aa"
      },
      "execution_count": null,
      "outputs": [
        {
          "output_type": "stream",
          "name": "stdout",
          "text": [
            "Epoch 1/10\n",
            "125/125 [==============================] - 3s 12ms/step - loss: 1.2026 - accuracy: 0.5242\n",
            "Epoch 2/10\n",
            "125/125 [==============================] - 2s 12ms/step - loss: 0.9778 - accuracy: 0.6325\n",
            "Epoch 3/10\n",
            "125/125 [==============================] - 2s 12ms/step - loss: 0.8853 - accuracy: 0.6628\n",
            "Epoch 4/10\n",
            "125/125 [==============================] - 2s 14ms/step - loss: 0.8697 - accuracy: 0.6672\n",
            "Epoch 5/10\n",
            "125/125 [==============================] - 3s 20ms/step - loss: 0.8335 - accuracy: 0.6795\n",
            "Epoch 6/10\n",
            "125/125 [==============================] - 2s 16ms/step - loss: 0.8302 - accuracy: 0.6867\n",
            "Epoch 7/10\n",
            "125/125 [==============================] - 1s 12ms/step - loss: 0.8520 - accuracy: 0.6643\n",
            "Epoch 8/10\n",
            "125/125 [==============================] - 1s 12ms/step - loss: 0.8226 - accuracy: 0.6888\n",
            "Epoch 9/10\n",
            "125/125 [==============================] - 1s 12ms/step - loss: 0.7984 - accuracy: 0.7070\n",
            "Epoch 10/10\n",
            "125/125 [==============================] - 1s 12ms/step - loss: 0.7944 - accuracy: 0.7017\n"
          ]
        },
        {
          "output_type": "execute_result",
          "data": {
            "text/plain": [
              "<keras.src.callbacks.History at 0x7f8d4fe05330>"
            ]
          },
          "metadata": {},
          "execution_count": 46
        }
      ]
    },
    {
      "cell_type": "code",
      "source": [
        "val_loss_bow_rnn, val_accuracy_bow_rnn = model_rnn_bow.evaluate(padded_val, y_val_one_hot_encoded, verbose=1)\n",
        "print(f'Validation Accuracy: {val_accuracy_bow_rnn}')\n",
        "y_pred = model_rnn_bow.predict(padded_val)\n",
        "y_pred_rnn_bow_val = np.argmax(y_pred, axis=1)\n",
        "accuracy_rnn_bow_val = accuracy_score(y_val, y_pred_rnn_bow_val)\n",
        "precision_rnn_bow_val = precision_score(y_val, y_pred_rnn_bow_val, average='weighted')\n",
        "recall_rnn_bow_val = recall_score(y_val,y_pred_rnn_bow_val, average='weighted')\n",
        "f1_rnn_bow_val = f1_score(y_val, y_pred_rnn_bow_val, average='weighted')\n",
        "\n",
        "print(f'Accuracy: {accuracy_rnn_bow_val:.4f}')\n",
        "print(f'Precision: {precision_rnn_bow_val:.4f}')\n",
        "print(f'Recall: {recall_rnn_bow_val:.4f}')\n",
        "print(f'F1 Score: {f1_rnn_bow_val:.4f}')\n",
        "print(\"Classification Report:\")\n",
        "print(classification_report(y_val, y_pred_rnn_bow_val))\n",
        "bow_results['RNN Accuracy bow val']=accuracy_rnn_bow_val\n",
        "bow_results['RNN Precision bow val']=precision_rnn_bow_val\n",
        "bow_results['RNN  Recall bow val']=recall_rnn_bow_val\n",
        "bow_results['RNN  F1 bow val']=f1_rnn_bow_val"
      ],
      "metadata": {
        "colab": {
          "base_uri": "https://localhost:8080/"
        },
        "id": "zjEq4bU3wLiK",
        "outputId": "684452e6-77da-4a6b-bbd1-db89cba89633"
      },
      "execution_count": null,
      "outputs": [
        {
          "output_type": "stream",
          "name": "stdout",
          "text": [
            "32/32 [==============================] - 0s 6ms/step - loss: 0.8695 - accuracy: 0.6730\n",
            "Validation Accuracy: 0.6729999780654907\n",
            "32/32 [==============================] - 0s 5ms/step\n",
            "Accuracy: 0.6730\n",
            "Precision: 0.6714\n",
            "Recall: 0.6730\n",
            "F1 Score: 0.6230\n",
            "Classification Report:\n",
            "              precision    recall  f1-score   support\n",
            "\n",
            "           0       0.59      0.32      0.41       180\n",
            "           1       0.67      0.94      0.78       601\n",
            "           2       0.81      0.26      0.39       198\n",
            "           3       0.00      0.00      0.00        21\n",
            "\n",
            "    accuracy                           0.67      1000\n",
            "   macro avg       0.52      0.38      0.40      1000\n",
            "weighted avg       0.67      0.67      0.62      1000\n",
            "\n"
          ]
        }
      ]
    },
    {
      "cell_type": "code",
      "source": [
        "test_loss_bow_rnn, test_accuracy_bow_rnn = model_rnn_bow.evaluate(padded_test, y_val_one_hot_encoded, verbose=1)\n",
        "print(f'test Accuracy: {test_accuracy_bow_rnn}')\n",
        "y_pred = model_rnn_bow.predict(padded_test)\n",
        "y_pred_rnn_bow_test = np.argmax(y_pred, axis=1)\n",
        "accuracy_rnn_bow_test = accuracy_score(y_test, y_pred_rnn_bow_test)\n",
        "precision_rnn_bow_test = precision_score(y_test, y_pred_rnn_bow_test, average='weighted')\n",
        "recall_rnn_bow_test = recall_score(y_test,y_pred_rnn_bow_test, average='weighted')\n",
        "f1_rnn_bow_test = f1_score(y_test, y_pred_rnn_bow_test, average='weighted')\n",
        "\n",
        "print(f'Accuracy: {accuracy_rnn_bow_test:.4f}')\n",
        "print(f'Precision: {precision_rnn_bow_test:.4f}')\n",
        "print(f'Recall: {recall_rnn_bow_test:.4f}')\n",
        "print(f'F1 Score: {f1_rnn_bow_test:.4f}')\n",
        "print(\"Classification Report:\")\n",
        "print(classification_report(y_test, y_pred_rnn_bow_test))\n",
        "bow_results['RNN Accuracy bow test']=accuracy_rnn_bow_test\n",
        "bow_results['RNN Precision bow test']=precision_rnn_bow_test\n",
        "bow_results['RNN  Recall bow test']=recall_rnn_bow_test\n",
        "bow_results['RNN  F1 bow test']=f1_rnn_bow_test"
      ],
      "metadata": {
        "colab": {
          "base_uri": "https://localhost:8080/"
        },
        "id": "XHxI7qd9w4yh",
        "outputId": "7b4e945e-b8a9-4f46-ca4b-9fd78940e218"
      },
      "execution_count": null,
      "outputs": [
        {
          "output_type": "stream",
          "name": "stdout",
          "text": [
            "32/32 [==============================] - 0s 6ms/step - loss: 1.6048 - accuracy: 0.5250\n",
            "test Accuracy: 0.5249999761581421\n",
            "32/32 [==============================] - 0s 5ms/step\n",
            "Accuracy: 0.6120\n",
            "Precision: 0.5815\n",
            "Recall: 0.6120\n",
            "F1 Score: 0.5506\n",
            "Classification Report:\n",
            "              precision    recall  f1-score   support\n",
            "\n",
            "           0       0.55      0.26      0.35       200\n",
            "           1       0.59      0.94      0.73       512\n",
            "           2       0.84      0.41      0.55       200\n",
            "           3       0.00      0.00      0.00        88\n",
            "\n",
            "    accuracy                           0.61      1000\n",
            "   macro avg       0.50      0.40      0.41      1000\n",
            "weighted avg       0.58      0.61      0.55      1000\n",
            "\n"
          ]
        },
        {
          "output_type": "stream",
          "name": "stderr",
          "text": [
            "/usr/local/lib/python3.10/dist-packages/sklearn/metrics/_classification.py:1344: UndefinedMetricWarning: Precision is ill-defined and being set to 0.0 in labels with no predicted samples. Use `zero_division` parameter to control this behavior.\n",
            "  _warn_prf(average, modifier, msg_start, len(result))\n",
            "/usr/local/lib/python3.10/dist-packages/sklearn/metrics/_classification.py:1344: UndefinedMetricWarning: Precision and F-score are ill-defined and being set to 0.0 in labels with no predicted samples. Use `zero_division` parameter to control this behavior.\n",
            "  _warn_prf(average, modifier, msg_start, len(result))\n",
            "/usr/local/lib/python3.10/dist-packages/sklearn/metrics/_classification.py:1344: UndefinedMetricWarning: Precision and F-score are ill-defined and being set to 0.0 in labels with no predicted samples. Use `zero_division` parameter to control this behavior.\n",
            "  _warn_prf(average, modifier, msg_start, len(result))\n",
            "/usr/local/lib/python3.10/dist-packages/sklearn/metrics/_classification.py:1344: UndefinedMetricWarning: Precision and F-score are ill-defined and being set to 0.0 in labels with no predicted samples. Use `zero_division` parameter to control this behavior.\n",
            "  _warn_prf(average, modifier, msg_start, len(result))\n"
          ]
        }
      ]
    },
    {
      "cell_type": "markdown",
      "source": [
        "### Evaluation of Bag of Words across the models"
      ],
      "metadata": {
        "id": "desi3eR0N_Lz"
      }
    },
    {
      "cell_type": "code",
      "source": [
        "bow_results_list=[{'performance metric & model':k,\"results\":v} for k,v in bow_results.items()]\n",
        "\n",
        "bow_df_results=pd.DataFrame(bow_results_list)\n",
        "bow_df_results"
      ],
      "metadata": {
        "id": "cuEkEy-3OFav",
        "colab": {
          "base_uri": "https://localhost:8080/",
          "height": 1000
        },
        "outputId": "be96f530-1ccd-46a9-f4c6-3ea80f002525"
      },
      "execution_count": null,
      "outputs": [
        {
          "output_type": "execute_result",
          "data": {
            "text/plain": [
              "                performance metric & model   results\n",
              "0             Naive Bayes Accuracy bow val  0.389000\n",
              "1            Naive Bayes Precision bow val  0.518858\n",
              "2              Naive Bayes  Recall bow val  0.389000\n",
              "3                  Naive Bayes  F1 bow val  0.423484\n",
              "4            Naive Bayes Accuracy bow test  0.365000\n",
              "5           Naive Bayes Precision bow test  0.393071\n",
              "6             Naive Bayes  Recall bow test  0.365000\n",
              "7                 Naive Bayes  F1 bow test  0.374876\n",
              "8     Logistic Regression Accuracy bow val  0.481000\n",
              "9    Logistic Regression Precision bow val  0.442147\n",
              "10     Logistic Regression  Recall bow val  0.481000\n",
              "11         Logistic Regression  F1 bow val  0.458975\n",
              "12   Logistic Regression Accuracy bow test  0.421000\n",
              "13  Logistic Regression Precision bow test  0.352737\n",
              "14    Logistic Regression  Recall bow test  0.421000\n",
              "15        Logistic Regression  F1 bow test  0.378583\n",
              "16                   LSTM Accuracy bow val  0.756000\n",
              "17                  LSTM Precision bow val  0.741036\n",
              "18                    LSTM  Recall bow val  0.756000\n",
              "19                        LSTM  F1 bow val  0.735957\n",
              "20                  LSTM Accuracy bow test  0.714000\n",
              "21                 LSTM Precision bow test  0.698556\n",
              "22                   LSTM  Recall bow test  0.714000\n",
              "23                       LSTM  F1 bow test  0.675721\n",
              "24                    RNN Accuracy bow val  0.673000\n",
              "25                   RNN Precision bow val  0.671405\n",
              "26                     RNN  Recall bow val  0.673000\n",
              "27                         RNN  F1 bow val  0.623018\n",
              "28                   RNN Accuracy bow test  0.612000\n",
              "29                  RNN Precision bow test  0.581461\n",
              "30                    RNN  Recall bow test  0.612000\n",
              "31                        RNN  F1 bow test  0.550603"
            ],
            "text/html": [
              "\n",
              "  <div id=\"df-140fc2fe-bcac-4c7d-b4fa-e09d4952d17c\" class=\"colab-df-container\">\n",
              "    <div>\n",
              "<style scoped>\n",
              "    .dataframe tbody tr th:only-of-type {\n",
              "        vertical-align: middle;\n",
              "    }\n",
              "\n",
              "    .dataframe tbody tr th {\n",
              "        vertical-align: top;\n",
              "    }\n",
              "\n",
              "    .dataframe thead th {\n",
              "        text-align: right;\n",
              "    }\n",
              "</style>\n",
              "<table border=\"1\" class=\"dataframe\">\n",
              "  <thead>\n",
              "    <tr style=\"text-align: right;\">\n",
              "      <th></th>\n",
              "      <th>performance metric &amp; model</th>\n",
              "      <th>results</th>\n",
              "    </tr>\n",
              "  </thead>\n",
              "  <tbody>\n",
              "    <tr>\n",
              "      <th>0</th>\n",
              "      <td>Naive Bayes Accuracy bow val</td>\n",
              "      <td>0.389000</td>\n",
              "    </tr>\n",
              "    <tr>\n",
              "      <th>1</th>\n",
              "      <td>Naive Bayes Precision bow val</td>\n",
              "      <td>0.518858</td>\n",
              "    </tr>\n",
              "    <tr>\n",
              "      <th>2</th>\n",
              "      <td>Naive Bayes  Recall bow val</td>\n",
              "      <td>0.389000</td>\n",
              "    </tr>\n",
              "    <tr>\n",
              "      <th>3</th>\n",
              "      <td>Naive Bayes  F1 bow val</td>\n",
              "      <td>0.423484</td>\n",
              "    </tr>\n",
              "    <tr>\n",
              "      <th>4</th>\n",
              "      <td>Naive Bayes Accuracy bow test</td>\n",
              "      <td>0.365000</td>\n",
              "    </tr>\n",
              "    <tr>\n",
              "      <th>5</th>\n",
              "      <td>Naive Bayes Precision bow test</td>\n",
              "      <td>0.393071</td>\n",
              "    </tr>\n",
              "    <tr>\n",
              "      <th>6</th>\n",
              "      <td>Naive Bayes  Recall bow test</td>\n",
              "      <td>0.365000</td>\n",
              "    </tr>\n",
              "    <tr>\n",
              "      <th>7</th>\n",
              "      <td>Naive Bayes  F1 bow test</td>\n",
              "      <td>0.374876</td>\n",
              "    </tr>\n",
              "    <tr>\n",
              "      <th>8</th>\n",
              "      <td>Logistic Regression Accuracy bow val</td>\n",
              "      <td>0.481000</td>\n",
              "    </tr>\n",
              "    <tr>\n",
              "      <th>9</th>\n",
              "      <td>Logistic Regression Precision bow val</td>\n",
              "      <td>0.442147</td>\n",
              "    </tr>\n",
              "    <tr>\n",
              "      <th>10</th>\n",
              "      <td>Logistic Regression  Recall bow val</td>\n",
              "      <td>0.481000</td>\n",
              "    </tr>\n",
              "    <tr>\n",
              "      <th>11</th>\n",
              "      <td>Logistic Regression  F1 bow val</td>\n",
              "      <td>0.458975</td>\n",
              "    </tr>\n",
              "    <tr>\n",
              "      <th>12</th>\n",
              "      <td>Logistic Regression Accuracy bow test</td>\n",
              "      <td>0.421000</td>\n",
              "    </tr>\n",
              "    <tr>\n",
              "      <th>13</th>\n",
              "      <td>Logistic Regression Precision bow test</td>\n",
              "      <td>0.352737</td>\n",
              "    </tr>\n",
              "    <tr>\n",
              "      <th>14</th>\n",
              "      <td>Logistic Regression  Recall bow test</td>\n",
              "      <td>0.421000</td>\n",
              "    </tr>\n",
              "    <tr>\n",
              "      <th>15</th>\n",
              "      <td>Logistic Regression  F1 bow test</td>\n",
              "      <td>0.378583</td>\n",
              "    </tr>\n",
              "    <tr>\n",
              "      <th>16</th>\n",
              "      <td>LSTM Accuracy bow val</td>\n",
              "      <td>0.756000</td>\n",
              "    </tr>\n",
              "    <tr>\n",
              "      <th>17</th>\n",
              "      <td>LSTM Precision bow val</td>\n",
              "      <td>0.741036</td>\n",
              "    </tr>\n",
              "    <tr>\n",
              "      <th>18</th>\n",
              "      <td>LSTM  Recall bow val</td>\n",
              "      <td>0.756000</td>\n",
              "    </tr>\n",
              "    <tr>\n",
              "      <th>19</th>\n",
              "      <td>LSTM  F1 bow val</td>\n",
              "      <td>0.735957</td>\n",
              "    </tr>\n",
              "    <tr>\n",
              "      <th>20</th>\n",
              "      <td>LSTM Accuracy bow test</td>\n",
              "      <td>0.714000</td>\n",
              "    </tr>\n",
              "    <tr>\n",
              "      <th>21</th>\n",
              "      <td>LSTM Precision bow test</td>\n",
              "      <td>0.698556</td>\n",
              "    </tr>\n",
              "    <tr>\n",
              "      <th>22</th>\n",
              "      <td>LSTM  Recall bow test</td>\n",
              "      <td>0.714000</td>\n",
              "    </tr>\n",
              "    <tr>\n",
              "      <th>23</th>\n",
              "      <td>LSTM  F1 bow test</td>\n",
              "      <td>0.675721</td>\n",
              "    </tr>\n",
              "    <tr>\n",
              "      <th>24</th>\n",
              "      <td>RNN Accuracy bow val</td>\n",
              "      <td>0.673000</td>\n",
              "    </tr>\n",
              "    <tr>\n",
              "      <th>25</th>\n",
              "      <td>RNN Precision bow val</td>\n",
              "      <td>0.671405</td>\n",
              "    </tr>\n",
              "    <tr>\n",
              "      <th>26</th>\n",
              "      <td>RNN  Recall bow val</td>\n",
              "      <td>0.673000</td>\n",
              "    </tr>\n",
              "    <tr>\n",
              "      <th>27</th>\n",
              "      <td>RNN  F1 bow val</td>\n",
              "      <td>0.623018</td>\n",
              "    </tr>\n",
              "    <tr>\n",
              "      <th>28</th>\n",
              "      <td>RNN Accuracy bow test</td>\n",
              "      <td>0.612000</td>\n",
              "    </tr>\n",
              "    <tr>\n",
              "      <th>29</th>\n",
              "      <td>RNN Precision bow test</td>\n",
              "      <td>0.581461</td>\n",
              "    </tr>\n",
              "    <tr>\n",
              "      <th>30</th>\n",
              "      <td>RNN  Recall bow test</td>\n",
              "      <td>0.612000</td>\n",
              "    </tr>\n",
              "    <tr>\n",
              "      <th>31</th>\n",
              "      <td>RNN  F1 bow test</td>\n",
              "      <td>0.550603</td>\n",
              "    </tr>\n",
              "  </tbody>\n",
              "</table>\n",
              "</div>\n",
              "    <div class=\"colab-df-buttons\">\n",
              "\n",
              "  <div class=\"colab-df-container\">\n",
              "    <button class=\"colab-df-convert\" onclick=\"convertToInteractive('df-140fc2fe-bcac-4c7d-b4fa-e09d4952d17c')\"\n",
              "            title=\"Convert this dataframe to an interactive table.\"\n",
              "            style=\"display:none;\">\n",
              "\n",
              "  <svg xmlns=\"http://www.w3.org/2000/svg\" height=\"24px\" viewBox=\"0 -960 960 960\">\n",
              "    <path d=\"M120-120v-720h720v720H120Zm60-500h600v-160H180v160Zm220 220h160v-160H400v160Zm0 220h160v-160H400v160ZM180-400h160v-160H180v160Zm440 0h160v-160H620v160ZM180-180h160v-160H180v160Zm440 0h160v-160H620v160Z\"/>\n",
              "  </svg>\n",
              "    </button>\n",
              "\n",
              "  <style>\n",
              "    .colab-df-container {\n",
              "      display:flex;\n",
              "      gap: 12px;\n",
              "    }\n",
              "\n",
              "    .colab-df-convert {\n",
              "      background-color: #E8F0FE;\n",
              "      border: none;\n",
              "      border-radius: 50%;\n",
              "      cursor: pointer;\n",
              "      display: none;\n",
              "      fill: #1967D2;\n",
              "      height: 32px;\n",
              "      padding: 0 0 0 0;\n",
              "      width: 32px;\n",
              "    }\n",
              "\n",
              "    .colab-df-convert:hover {\n",
              "      background-color: #E2EBFA;\n",
              "      box-shadow: 0px 1px 2px rgba(60, 64, 67, 0.3), 0px 1px 3px 1px rgba(60, 64, 67, 0.15);\n",
              "      fill: #174EA6;\n",
              "    }\n",
              "\n",
              "    .colab-df-buttons div {\n",
              "      margin-bottom: 4px;\n",
              "    }\n",
              "\n",
              "    [theme=dark] .colab-df-convert {\n",
              "      background-color: #3B4455;\n",
              "      fill: #D2E3FC;\n",
              "    }\n",
              "\n",
              "    [theme=dark] .colab-df-convert:hover {\n",
              "      background-color: #434B5C;\n",
              "      box-shadow: 0px 1px 3px 1px rgba(0, 0, 0, 0.15);\n",
              "      filter: drop-shadow(0px 1px 2px rgba(0, 0, 0, 0.3));\n",
              "      fill: #FFFFFF;\n",
              "    }\n",
              "  </style>\n",
              "\n",
              "    <script>\n",
              "      const buttonEl =\n",
              "        document.querySelector('#df-140fc2fe-bcac-4c7d-b4fa-e09d4952d17c button.colab-df-convert');\n",
              "      buttonEl.style.display =\n",
              "        google.colab.kernel.accessAllowed ? 'block' : 'none';\n",
              "\n",
              "      async function convertToInteractive(key) {\n",
              "        const element = document.querySelector('#df-140fc2fe-bcac-4c7d-b4fa-e09d4952d17c');\n",
              "        const dataTable =\n",
              "          await google.colab.kernel.invokeFunction('convertToInteractive',\n",
              "                                                    [key], {});\n",
              "        if (!dataTable) return;\n",
              "\n",
              "        const docLinkHtml = 'Like what you see? Visit the ' +\n",
              "          '<a target=\"_blank\" href=https://colab.research.google.com/notebooks/data_table.ipynb>data table notebook</a>'\n",
              "          + ' to learn more about interactive tables.';\n",
              "        element.innerHTML = '';\n",
              "        dataTable['output_type'] = 'display_data';\n",
              "        await google.colab.output.renderOutput(dataTable, element);\n",
              "        const docLink = document.createElement('div');\n",
              "        docLink.innerHTML = docLinkHtml;\n",
              "        element.appendChild(docLink);\n",
              "      }\n",
              "    </script>\n",
              "  </div>\n",
              "\n",
              "\n",
              "<div id=\"df-9b16d4b4-8ce0-49d5-a0c3-a007ea67ce42\">\n",
              "  <button class=\"colab-df-quickchart\" onclick=\"quickchart('df-9b16d4b4-8ce0-49d5-a0c3-a007ea67ce42')\"\n",
              "            title=\"Suggest charts\"\n",
              "            style=\"display:none;\">\n",
              "\n",
              "<svg xmlns=\"http://www.w3.org/2000/svg\" height=\"24px\"viewBox=\"0 0 24 24\"\n",
              "     width=\"24px\">\n",
              "    <g>\n",
              "        <path d=\"M19 3H5c-1.1 0-2 .9-2 2v14c0 1.1.9 2 2 2h14c1.1 0 2-.9 2-2V5c0-1.1-.9-2-2-2zM9 17H7v-7h2v7zm4 0h-2V7h2v10zm4 0h-2v-4h2v4z\"/>\n",
              "    </g>\n",
              "</svg>\n",
              "  </button>\n",
              "\n",
              "<style>\n",
              "  .colab-df-quickchart {\n",
              "      --bg-color: #E8F0FE;\n",
              "      --fill-color: #1967D2;\n",
              "      --hover-bg-color: #E2EBFA;\n",
              "      --hover-fill-color: #174EA6;\n",
              "      --disabled-fill-color: #AAA;\n",
              "      --disabled-bg-color: #DDD;\n",
              "  }\n",
              "\n",
              "  [theme=dark] .colab-df-quickchart {\n",
              "      --bg-color: #3B4455;\n",
              "      --fill-color: #D2E3FC;\n",
              "      --hover-bg-color: #434B5C;\n",
              "      --hover-fill-color: #FFFFFF;\n",
              "      --disabled-bg-color: #3B4455;\n",
              "      --disabled-fill-color: #666;\n",
              "  }\n",
              "\n",
              "  .colab-df-quickchart {\n",
              "    background-color: var(--bg-color);\n",
              "    border: none;\n",
              "    border-radius: 50%;\n",
              "    cursor: pointer;\n",
              "    display: none;\n",
              "    fill: var(--fill-color);\n",
              "    height: 32px;\n",
              "    padding: 0;\n",
              "    width: 32px;\n",
              "  }\n",
              "\n",
              "  .colab-df-quickchart:hover {\n",
              "    background-color: var(--hover-bg-color);\n",
              "    box-shadow: 0 1px 2px rgba(60, 64, 67, 0.3), 0 1px 3px 1px rgba(60, 64, 67, 0.15);\n",
              "    fill: var(--button-hover-fill-color);\n",
              "  }\n",
              "\n",
              "  .colab-df-quickchart-complete:disabled,\n",
              "  .colab-df-quickchart-complete:disabled:hover {\n",
              "    background-color: var(--disabled-bg-color);\n",
              "    fill: var(--disabled-fill-color);\n",
              "    box-shadow: none;\n",
              "  }\n",
              "\n",
              "  .colab-df-spinner {\n",
              "    border: 2px solid var(--fill-color);\n",
              "    border-color: transparent;\n",
              "    border-bottom-color: var(--fill-color);\n",
              "    animation:\n",
              "      spin 1s steps(1) infinite;\n",
              "  }\n",
              "\n",
              "  @keyframes spin {\n",
              "    0% {\n",
              "      border-color: transparent;\n",
              "      border-bottom-color: var(--fill-color);\n",
              "      border-left-color: var(--fill-color);\n",
              "    }\n",
              "    20% {\n",
              "      border-color: transparent;\n",
              "      border-left-color: var(--fill-color);\n",
              "      border-top-color: var(--fill-color);\n",
              "    }\n",
              "    30% {\n",
              "      border-color: transparent;\n",
              "      border-left-color: var(--fill-color);\n",
              "      border-top-color: var(--fill-color);\n",
              "      border-right-color: var(--fill-color);\n",
              "    }\n",
              "    40% {\n",
              "      border-color: transparent;\n",
              "      border-right-color: var(--fill-color);\n",
              "      border-top-color: var(--fill-color);\n",
              "    }\n",
              "    60% {\n",
              "      border-color: transparent;\n",
              "      border-right-color: var(--fill-color);\n",
              "    }\n",
              "    80% {\n",
              "      border-color: transparent;\n",
              "      border-right-color: var(--fill-color);\n",
              "      border-bottom-color: var(--fill-color);\n",
              "    }\n",
              "    90% {\n",
              "      border-color: transparent;\n",
              "      border-bottom-color: var(--fill-color);\n",
              "    }\n",
              "  }\n",
              "</style>\n",
              "\n",
              "  <script>\n",
              "    async function quickchart(key) {\n",
              "      const quickchartButtonEl =\n",
              "        document.querySelector('#' + key + ' button');\n",
              "      quickchartButtonEl.disabled = true;  // To prevent multiple clicks.\n",
              "      quickchartButtonEl.classList.add('colab-df-spinner');\n",
              "      try {\n",
              "        const charts = await google.colab.kernel.invokeFunction(\n",
              "            'suggestCharts', [key], {});\n",
              "      } catch (error) {\n",
              "        console.error('Error during call to suggestCharts:', error);\n",
              "      }\n",
              "      quickchartButtonEl.classList.remove('colab-df-spinner');\n",
              "      quickchartButtonEl.classList.add('colab-df-quickchart-complete');\n",
              "    }\n",
              "    (() => {\n",
              "      let quickchartButtonEl =\n",
              "        document.querySelector('#df-9b16d4b4-8ce0-49d5-a0c3-a007ea67ce42 button');\n",
              "      quickchartButtonEl.style.display =\n",
              "        google.colab.kernel.accessAllowed ? 'block' : 'none';\n",
              "    })();\n",
              "  </script>\n",
              "</div>\n",
              "\n",
              "  <div id=\"id_b1ffbe76-0fda-41be-9143-0454de46edf6\">\n",
              "    <style>\n",
              "      .colab-df-generate {\n",
              "        background-color: #E8F0FE;\n",
              "        border: none;\n",
              "        border-radius: 50%;\n",
              "        cursor: pointer;\n",
              "        display: none;\n",
              "        fill: #1967D2;\n",
              "        height: 32px;\n",
              "        padding: 0 0 0 0;\n",
              "        width: 32px;\n",
              "      }\n",
              "\n",
              "      .colab-df-generate:hover {\n",
              "        background-color: #E2EBFA;\n",
              "        box-shadow: 0px 1px 2px rgba(60, 64, 67, 0.3), 0px 1px 3px 1px rgba(60, 64, 67, 0.15);\n",
              "        fill: #174EA6;\n",
              "      }\n",
              "\n",
              "      [theme=dark] .colab-df-generate {\n",
              "        background-color: #3B4455;\n",
              "        fill: #D2E3FC;\n",
              "      }\n",
              "\n",
              "      [theme=dark] .colab-df-generate:hover {\n",
              "        background-color: #434B5C;\n",
              "        box-shadow: 0px 1px 3px 1px rgba(0, 0, 0, 0.15);\n",
              "        filter: drop-shadow(0px 1px 2px rgba(0, 0, 0, 0.3));\n",
              "        fill: #FFFFFF;\n",
              "      }\n",
              "    </style>\n",
              "    <button class=\"colab-df-generate\" onclick=\"generateWithVariable('bow_df_results')\"\n",
              "            title=\"Generate code using this dataframe.\"\n",
              "            style=\"display:none;\">\n",
              "\n",
              "  <svg xmlns=\"http://www.w3.org/2000/svg\" height=\"24px\"viewBox=\"0 0 24 24\"\n",
              "       width=\"24px\">\n",
              "    <path d=\"M7,19H8.4L18.45,9,17,7.55,7,17.6ZM5,21V16.75L18.45,3.32a2,2,0,0,1,2.83,0l1.4,1.43a1.91,1.91,0,0,1,.58,1.4,1.91,1.91,0,0,1-.58,1.4L9.25,21ZM18.45,9,17,7.55Zm-12,3A5.31,5.31,0,0,0,4.9,8.1,5.31,5.31,0,0,0,1,6.5,5.31,5.31,0,0,0,4.9,4.9,5.31,5.31,0,0,0,6.5,1,5.31,5.31,0,0,0,8.1,4.9,5.31,5.31,0,0,0,12,6.5,5.46,5.46,0,0,0,6.5,12Z\"/>\n",
              "  </svg>\n",
              "    </button>\n",
              "    <script>\n",
              "      (() => {\n",
              "      const buttonEl =\n",
              "        document.querySelector('#id_b1ffbe76-0fda-41be-9143-0454de46edf6 button.colab-df-generate');\n",
              "      buttonEl.style.display =\n",
              "        google.colab.kernel.accessAllowed ? 'block' : 'none';\n",
              "\n",
              "      buttonEl.onclick = () => {\n",
              "        google.colab.notebook.generateWithVariable('bow_df_results');\n",
              "      }\n",
              "      })();\n",
              "    </script>\n",
              "  </div>\n",
              "\n",
              "    </div>\n",
              "  </div>\n"
            ],
            "application/vnd.google.colaboratory.intrinsic+json": {
              "type": "dataframe",
              "variable_name": "bow_df_results",
              "summary": "{\n  \"name\": \"bow_df_results\",\n  \"rows\": 32,\n  \"fields\": [\n    {\n      \"column\": \"performance metric & model\",\n      \"properties\": {\n        \"dtype\": \"string\",\n        \"num_unique_values\": 32,\n        \"samples\": [\n          \"RNN Precision bow test\",\n          \"Logistic Regression  F1 bow test\",\n          \"RNN Accuracy bow val\"\n        ],\n        \"semantic_type\": \"\",\n        \"description\": \"\"\n      }\n    },\n    {\n      \"column\": \"results\",\n      \"properties\": {\n        \"dtype\": \"number\",\n        \"std\": 0.1424924106414451,\n        \"min\": 0.3527370640713706,\n        \"max\": 0.756,\n        \"num_unique_values\": 25,\n        \"samples\": [\n          0.48100000000000004,\n          0.714,\n          0.389\n        ],\n        \"semantic_type\": \"\",\n        \"description\": \"\"\n      }\n    }\n  ]\n}"
            }
          },
          "metadata": {},
          "execution_count": 49
        }
      ]
    },
    {
      "cell_type": "markdown",
      "source": [
        "# Independent word embedding"
      ],
      "metadata": {
        "id": "nfHPnmmCOYpX"
      }
    },
    {
      "cell_type": "markdown",
      "source": [
        "## Word2vec twitter CBOW 300"
      ],
      "metadata": {
        "id": "gO3K53scRJqZ"
      }
    },
    {
      "cell_type": "code",
      "source": [
        "w2v_cbow_results={}"
      ],
      "metadata": {
        "id": "DM0Xw1VlTEEt"
      },
      "execution_count": null,
      "outputs": []
    },
    {
      "cell_type": "code",
      "source": [
        "!wget \"https://bakrianoo.ewr1.vultrobjects.com/aravec/full_grams_cbow_300_twitter.zip\""
      ],
      "metadata": {
        "id": "FmiEH3bBRUDw",
        "colab": {
          "base_uri": "https://localhost:8080/"
        },
        "outputId": "106ac693-72c1-418a-a901-a2955553e6c9"
      },
      "execution_count": null,
      "outputs": [
        {
          "output_type": "stream",
          "name": "stdout",
          "text": [
            "--2024-06-12 00:41:16--  https://bakrianoo.ewr1.vultrobjects.com/aravec/full_grams_cbow_300_twitter.zip\n",
            "Resolving bakrianoo.ewr1.vultrobjects.com (bakrianoo.ewr1.vultrobjects.com)... 108.61.0.122, 2001:19f0:0:22::100\n",
            "Connecting to bakrianoo.ewr1.vultrobjects.com (bakrianoo.ewr1.vultrobjects.com)|108.61.0.122|:443... connected.\n",
            "HTTP request sent, awaiting response... 200 OK\n",
            "Length: 3325529808 (3.1G) [application/zip]\n",
            "Saving to: ‘full_grams_cbow_300_twitter.zip’\n",
            "\n",
            "full_grams_cbow_300 100%[===================>]   3.10G  65.8MB/s    in 56s     \n",
            "\n",
            "2024-06-12 00:42:13 (56.3 MB/s) - ‘full_grams_cbow_300_twitter.zip’ saved [3325529808/3325529808]\n",
            "\n"
          ]
        }
      ]
    },
    {
      "cell_type": "code",
      "source": [
        "!unzip \"/content/full_grams_cbow_300_twitter.zip\""
      ],
      "metadata": {
        "id": "esD1AF4Pfebe",
        "colab": {
          "base_uri": "https://localhost:8080/"
        },
        "outputId": "6999c819-cacc-40a7-cb2a-ba201c47872b"
      },
      "execution_count": null,
      "outputs": [
        {
          "output_type": "stream",
          "name": "stdout",
          "text": [
            "Archive:  /content/full_grams_cbow_300_twitter.zip\n",
            "  inflating: full_grams_cbow_300_twitter.mdl  \n",
            "  inflating: full_grams_cbow_300_twitter.mdl.trainables.syn1neg.npy  \n",
            "  inflating: full_grams_cbow_300_twitter.mdl.wv.vectors.npy  \n"
          ]
        }
      ]
    },
    {
      "cell_type": "code",
      "source": [
        "import gensim\n",
        "import re\n",
        "import numpy as np\n",
        "from nltk import ngrams\n",
        "\n",
        "w2v_model_cbow = gensim.models.Word2Vec.load('/content/full_grams_cbow_300_twitter.mdl')"
      ],
      "metadata": {
        "id": "Rjq4MZ_Pfh2h"
      },
      "execution_count": null,
      "outputs": []
    },
    {
      "cell_type": "code",
      "source": [
        "OOV_tokens = []\n",
        "train_tokens = []\n",
        "test_tokens = []\n",
        "val_tokens=[]\n",
        "train_w2v_embeddings = []\n",
        "test_w2v_embeddings = []\n",
        "\n",
        "def get_doc_vec(sent, model, data):\n",
        "  w2v_embeddings = []\n",
        "  tokens = sent.split()\n",
        "  for word in tokens:\n",
        "    try:\n",
        "      if data == 'train':\n",
        "        w2v_embeddings.append(model.wv[word])\n",
        "        train_tokens.append(word)\n",
        "      elif data=='val':\n",
        "        w2v_embeddings.append(model.wv[word])\n",
        "        val_tokens.append(word)\n",
        "      else:\n",
        "        w2v_embeddings.append(model.wv[word])\n",
        "        test_tokens.append(word)\n",
        "    except:\n",
        "      #print(word, 'does not exist in the model.')\n",
        "      OOV_tokens.append(word) #if found any -> go back to pre-processing the data\n",
        "      continue\n",
        "  if len(w2v_embeddings) == 0:\n",
        "    return None\n",
        "  return sum(w2v_embeddings)/len(w2v_embeddings)"
      ],
      "metadata": {
        "id": "J1lrltiKflY4"
      },
      "execution_count": null,
      "outputs": []
    },
    {
      "cell_type": "code",
      "source": [
        "X_train_w2v_embeddings = train_df['processed_text'].apply(lambda sent: get_doc_vec(sent, w2v_model_cbow,'train'))\n",
        "X_val_w2v_embeddings = val_df['processed_text'].apply(lambda sent: get_doc_vec(sent, w2v_model_cbow,'val'))\n",
        "\n",
        "X_test_w2v_embeddings = df_test['processed_text'].apply(lambda sent: get_doc_vec(sent, w2v_model_cbow,'test'))"
      ],
      "metadata": {
        "id": "qj-dy_QyfoJT"
      },
      "execution_count": null,
      "outputs": []
    },
    {
      "cell_type": "code",
      "source": [
        "X_train_w2v_embeddings_list = []\n",
        "for embedding in X_train_w2v_embeddings:\n",
        "    if embedding is not None:\n",
        "        X_train_w2v_embeddings_list.append(embedding)\n",
        "    else:\n",
        "        # Handle cases where the embedding is None\n",
        "        X_train_w2v_embeddings_list.append(np.zeros_like(X_train_w2v_embeddings[0]))\n",
        "\n",
        "X_val_w2v_embeddings_list = []\n",
        "for embedding in X_val_w2v_embeddings:\n",
        "    if embedding is not None:\n",
        "        X_val_w2v_embeddings_list.append(embedding)\n",
        "    else:\n",
        "        # Handle cases where the embedding is None\n",
        "        X_val_w2v_embeddings_list.append(np.zeros_like(X_val_w2v_embeddings[0]))\n",
        "\n",
        "X_test_w2v_embeddings_list = []\n",
        "for embedding in X_test_w2v_embeddings:\n",
        "    if embedding is not None:\n",
        "        X_test_w2v_embeddings_list.append(embedding)\n",
        "    else:\n",
        "        # Handle cases where the embedding is None\n",
        "        X_test_w2v_embeddings_list.append(np.zeros_like(X_test_w2v_embeddings[0]))\n"
      ],
      "metadata": {
        "id": "C0sVm86GfoF3"
      },
      "execution_count": null,
      "outputs": []
    },
    {
      "cell_type": "markdown",
      "source": [
        "### Traditional models"
      ],
      "metadata": {
        "id": "dxnyWd0aRUlM"
      }
    },
    {
      "cell_type": "markdown",
      "source": [
        "#### Naive Bayes"
      ],
      "metadata": {
        "id": "DSJc9NjCRfbM"
      }
    },
    {
      "cell_type": "code",
      "source": [
        "clf_w2v_cbow_nb = GaussianNB()\n",
        "clf_w2v_cbow_nb.fit(X_train_w2v_embeddings_list,train_df['Type'])\n",
        "\n",
        "y_pred_w2v_cbow_nb_val = clf_w2v_cbow_nb.predict(X_val_w2v_embeddings_list)\n",
        "\n",
        "accuracy_w2v_cbow_nb_val = accuracy_score(val_df['Type'], y_pred_w2v_cbow_nb_val)\n",
        "precision_w2v_cbow_nb_val = precision_score(val_df['Type'], y_pred_w2v_cbow_nb_val, average='weighted')\n",
        "recall_w2v_cbow_nb_val = recall_score(val_df['Type'], y_pred_w2v_cbow_nb_val, average='weighted')\n",
        "f1_w2v_cbow_nb_val = f1_score(val_df['Type'], y_pred_w2v_cbow_nb_val, average='weighted')\n",
        "\n",
        "print(f\"Accuracy validation: {accuracy_w2v_cbow_nb_val:.2f}\")\n",
        "print(f\"Precision validation: {precision_w2v_cbow_nb_val:.2f}\")\n",
        "print(f\"Recall validation: {recall_w2v_cbow_nb_val:.2f}\")\n",
        "print(f\"F1 Score validation: {f1_w2v_cbow_nb_val:.2f}\")\n",
        "print(\"Classification Report for validation:\")\n",
        "print(classification_report(val_df['Type'], y_pred_w2v_cbow_nb_val))\n",
        "\n",
        "w2v_cbow_results['Naive Bayes Accuracy w2v cbow val']=accuracy_w2v_cbow_nb_val\n",
        "w2v_cbow_results['Naive Bayes Precision w2v cbow val']=precision_w2v_cbow_nb_val\n",
        "w2v_cbow_results['Naive Bayes  Recall w2v cbow val']=recall_w2v_cbow_nb_val\n",
        "w2v_cbow_results['Naive Bayes  F1 w2v cbow val']=f1_w2v_cbow_nb_val"
      ],
      "metadata": {
        "id": "6dC9mzYhRicT",
        "colab": {
          "base_uri": "https://localhost:8080/"
        },
        "outputId": "19ee0c6c-304f-47be-c085-2be49be59c55"
      },
      "execution_count": null,
      "outputs": [
        {
          "output_type": "stream",
          "name": "stdout",
          "text": [
            "Accuracy validation: 0.86\n",
            "Precision validation: 0.88\n",
            "Recall validation: 0.86\n",
            "F1 Score validation: 0.87\n",
            "Classification Report for validation:\n",
            "              precision    recall  f1-score   support\n",
            "\n",
            "    economic       0.71      0.78      0.74       180\n",
            "    politics       0.92      0.88      0.90       601\n",
            "       sport       0.97      0.89      0.93       198\n",
            "        tech       0.41      0.81      0.55        21\n",
            "\n",
            "    accuracy                           0.86      1000\n",
            "   macro avg       0.75      0.84      0.78      1000\n",
            "weighted avg       0.88      0.86      0.87      1000\n",
            "\n"
          ]
        }
      ]
    },
    {
      "cell_type": "code",
      "source": [
        "y_pred_w2v_cbow_nb_test = clf_w2v_cbow_nb.predict(X_val_w2v_embeddings_list)\n",
        "\n",
        "accuracy_w2v_cbow_nb_test = accuracy_score(df_test['Type'], y_pred_w2v_cbow_nb_test)\n",
        "precision_w2v_cbow_nb_test = precision_score(df_test['Type'], y_pred_w2v_cbow_nb_test, average='weighted')\n",
        "recall_w2v_cbow_nb_test = recall_score(df_test['Type'], y_pred_w2v_cbow_nb_test, average='weighted')\n",
        "f1_w2v_cbow_nb_test = f1_score(df_test['Type'], y_pred_w2v_cbow_nb_test, average='weighted')\n",
        "\n",
        "print(f\"Accuracy : {accuracy_w2v_cbow_nb_test:.2f}\")\n",
        "print(f\"Precision : {precision_w2v_cbow_nb_test:.2f}\")\n",
        "print(f\"Recall : {recall_w2v_cbow_nb_test:.2f}\")\n",
        "print(f\"F1 Score : {f1_w2v_cbow_nb_test:.2f}\")\n",
        "print(\"Classification Report for test:\")\n",
        "print(classification_report(df_test['Type'], y_pred_w2v_cbow_nb_test))\n",
        "\n",
        "w2v_cbow_results['Naive Bayes Accuracy w2v cbow test']=accuracy_w2v_cbow_nb_test\n",
        "w2v_cbow_results['Naive Bayes Precision w2v cbow test']=precision_w2v_cbow_nb_test\n",
        "w2v_cbow_results['Naive Bayes  Recall w2v cbow test']=recall_w2v_cbow_nb_test\n",
        "w2v_cbow_results['Naive Bayes  F1 w2v cbow test']=f1_w2v_cbow_nb_test"
      ],
      "metadata": {
        "colab": {
          "base_uri": "https://localhost:8080/",
          "height": 330
        },
        "id": "y7sMnqOzgoFZ",
        "outputId": "03db5a73-c95e-4e16-e608-477b2f99e6e4"
      },
      "execution_count": null,
      "outputs": [
        {
          "output_type": "stream",
          "name": "stdout",
          "text": [
            "Accuracy : 0.36\n",
            "Precision : 0.33\n",
            "Recall : 0.36\n",
            "F1 Score : 0.34\n",
            "Classification Report for test:\n",
            "              precision    recall  f1-score   support\n",
            "\n",
            "    economic       0.18      0.17      0.18       200\n",
            "    politics       0.51      0.57      0.54       512\n",
            "       sport       0.16      0.14      0.15       200\n",
            "        tech       0.05      0.02      0.03        88\n",
            "\n",
            "    accuracy                           0.36      1000\n",
            "   macro avg       0.22      0.23      0.22      1000\n",
            "weighted avg       0.33      0.36      0.34      1000\n",
            "\n"
          ]
        },
        {
          "output_type": "execute_result",
          "data": {
            "text/plain": [
              "\"\\nw2v_cbow_results['Naive Bayes Accuracy w2v cbow test']=accuracy_w2v_cbow_nb_test\\nw2v_cbow_results['Naive Bayes Precision w2v cbow test']=precision_w2v_cbow_nb_test\\nw2v_cbow_results['Naive Bayes  Recall w2v cbow test']=recall_w2v_cbow_nb_test\\nw2v_cbow_results['Naive Bayes  F1 w2v cbow test']=f1_w2v_cbow_nb_test\""
            ],
            "application/vnd.google.colaboratory.intrinsic+json": {
              "type": "string"
            }
          },
          "metadata": {},
          "execution_count": 91
        }
      ]
    },
    {
      "cell_type": "markdown",
      "source": [
        "#### Logistic Regression"
      ],
      "metadata": {
        "id": "FM2OX-AERjTH"
      }
    },
    {
      "cell_type": "code",
      "source": [
        "from sklearn.linear_model import LogisticRegression\n",
        "clf_w2v_cbow_lr = LogisticRegression(random_state=0)\n",
        "clf_w2v_cbow_lr.fit(X_train_w2v_embeddings_list, train_df['Type'])\n",
        "\n",
        "y_pred_w2v_cbow_lr_val = clf_w2v_cbow_lr.predict(X_val_w2v_embeddings_list)\n",
        "\n",
        "accuracy_w2v_cbow_lr_val = accuracy_score(val_df['Type'], y_pred_w2v_cbow_lr_val)\n",
        "precision_w2v_cbow_lr_val = precision_score(val_df['Type'], y_pred_w2v_cbow_lr_val, average='weighted')\n",
        "recall_w2v_cbow_lr_val = recall_score(val_df['Type'], y_pred_w2v_cbow_lr_val, average='weighted')\n",
        "f1_w2v_cbow_lr_val = f1_score(val_df['Type'], y_pred_w2v_cbow_lr_val, average='weighted')\n",
        "\n",
        "print(f\"Accuracy validation: {accuracy_w2v_cbow_lr_val:.2f}\")\n",
        "print(f\"Precision validation: {precision_w2v_cbow_lr_val:.2f}\")\n",
        "print(f\"Recall validation: {recall_w2v_cbow_lr_val:.2f}\")\n",
        "print(f\"F1 Score validation: {f1_w2v_cbow_lr_val:.2f}\")\n",
        "print(\"Classification Report for validation:\")\n",
        "print(classification_report(val_df['Type'], y_pred_w2v_cbow_lr_val))\n",
        "\n",
        "w2v_cbow_results['Logistic Regression Accuracy w2v cbow val']=accuracy_w2v_cbow_lr_val\n",
        "w2v_cbow_results['Logistic Regression Precision w2v cbow val']=precision_w2v_cbow_lr_val\n",
        "w2v_cbow_results['Logistic Regression  Recall w2v cbow val']=recall_w2v_cbow_lr_val\n",
        "w2v_cbow_results['Logistic Regression  F1 w2v cbow val']=f1_w2v_cbow_lr_val"
      ],
      "metadata": {
        "id": "OyTxvCrdRojY",
        "colab": {
          "base_uri": "https://localhost:8080/"
        },
        "outputId": "6f09c763-7bf9-43e2-86d4-2e27bd57f10b"
      },
      "execution_count": null,
      "outputs": [
        {
          "output_type": "stream",
          "name": "stderr",
          "text": [
            "/usr/local/lib/python3.10/dist-packages/sklearn/linear_model/_logistic.py:458: ConvergenceWarning: lbfgs failed to converge (status=1):\n",
            "STOP: TOTAL NO. of ITERATIONS REACHED LIMIT.\n",
            "\n",
            "Increase the number of iterations (max_iter) or scale the data as shown in:\n",
            "    https://scikit-learn.org/stable/modules/preprocessing.html\n",
            "Please also refer to the documentation for alternative solver options:\n",
            "    https://scikit-learn.org/stable/modules/linear_model.html#logistic-regression\n",
            "  n_iter_i = _check_optimize_result(\n"
          ]
        },
        {
          "output_type": "stream",
          "name": "stdout",
          "text": [
            "Accuracy validation: 0.91\n",
            "Precision validation: 0.90\n",
            "Recall validation: 0.91\n",
            "F1 Score validation: 0.90\n",
            "Classification Report for validation:\n",
            "              precision    recall  f1-score   support\n",
            "\n",
            "    economic       0.83      0.78      0.81       180\n",
            "    politics       0.92      0.95      0.93       601\n",
            "       sport       0.94      0.92      0.93       198\n",
            "        tech       0.70      0.67      0.68        21\n",
            "\n",
            "    accuracy                           0.91      1000\n",
            "   macro avg       0.85      0.83      0.84      1000\n",
            "weighted avg       0.90      0.91      0.90      1000\n",
            "\n"
          ]
        }
      ]
    },
    {
      "cell_type": "code",
      "source": [
        "y_pred_w2v_cbow_lr_test = clf_w2v_cbow_lr.predict(X_test_w2v_embeddings_list)\n",
        "\n",
        "accuracy_w2v_cbow_lr_test = accuracy_score(val_df['Type'], y_pred_w2v_cbow_lr_test)\n",
        "precision_w2v_cbow_lr_test = precision_score(val_df['Type'], y_pred_w2v_cbow_lr_test, average='weighted')\n",
        "recall_w2v_cbow_lr_test = recall_score(val_df['Type'], y_pred_w2v_cbow_lr_test, average='weighted')\n",
        "f1_w2v_cbow_lr_test = f1_score(val_df['Type'], y_pred_w2v_cbow_lr_test, average='weighted')\n",
        "\n",
        "print(f\"Accuracy : {accuracy_w2v_cbow_lr_test:.2f}\")\n",
        "print(f\"Precision : {precision_w2v_cbow_lr_test:.2f}\")\n",
        "print(f\"Recall : {recall_w2v_cbow_lr_test:.2f}\")\n",
        "print(f\"F1 Score : {f1_w2v_cbow_lr_test:.2f}\")\n",
        "print(\"Classification Report for test:\")\n",
        "print(classification_report(val_df['Type'], y_pred_w2v_cbow_lr_test))\n",
        "\n",
        "\n",
        "w2v_cbow_results['Logistic Regression Accuracy w2v cbow test']=accuracy_w2v_cbow_lr_test\n",
        "w2v_cbow_results['Logistic Regression Precision w2v cbow test']=precision_w2v_cbow_lr_test\n",
        "w2v_cbow_results['Logistic Regression  Recall w2v cbow test']=recall_w2v_cbow_lr_test\n",
        "w2v_cbow_results['Logistic Regression  F1 w2v cbow test']=f1_w2v_cbow_lr_test"
      ],
      "metadata": {
        "colab": {
          "base_uri": "https://localhost:8080/"
        },
        "id": "ikndZ1I-hh6Z",
        "outputId": "34457d1d-2bf5-4149-c730-94de5ebb3035"
      },
      "execution_count": null,
      "outputs": [
        {
          "output_type": "stream",
          "name": "stdout",
          "text": [
            "Accuracy : 0.40\n",
            "Precision : 0.42\n",
            "Recall : 0.39\n",
            "F1 Score : 0.41\n",
            "Classification Report for test:\n",
            "              precision    recall  f1-score   support\n",
            "\n",
            "    economic       0.16      0.16      0.16       180\n",
            "    politics       0.60      0.56      0.58       601\n",
            "       sport       0.14      0.15      0.15       198\n",
            "        tech       0.02      0.05      0.03        21\n",
            "\n",
            "    accuracy                           0.40      1000\n",
            "   macro avg       0.23      0.23      0.23      1000\n",
            "weighted avg       0.42      0.39      0.41      1000\n",
            "\n"
          ]
        }
      ]
    },
    {
      "cell_type": "markdown",
      "source": [
        "### Neural Network"
      ],
      "metadata": {
        "id": "aOaAMAS2RpXd"
      }
    },
    {
      "cell_type": "markdown",
      "source": [
        "#### embedding weights"
      ],
      "metadata": {
        "id": "xw9XPMICey8Y"
      }
    },
    {
      "cell_type": "code",
      "source": [
        "embedding_weight_matrix_w2v_cbow=np.zeros((total_words,300))\n",
        "\n",
        "for word, i in tokenizer.word_index.items():\n",
        "  if word in w2v_model_cbow.wv:\n",
        "    embedding_weight_matrix_w2v_cbow[i]=w2v_model_cbow.wv[word]\n",
        "  else:\n",
        "    embedding_weight_matrix_w2v_cbow[i]=np.random.uniform(-25,25)"
      ],
      "metadata": {
        "id": "LLEkDwUERsmd"
      },
      "execution_count": null,
      "outputs": []
    },
    {
      "cell_type": "markdown",
      "source": [
        "#### LSTM"
      ],
      "metadata": {
        "id": "GSkvcXEURtJ-"
      }
    },
    {
      "cell_type": "code",
      "source": [
        "model_LSTM_w2v_cbow=Sequential()\n",
        "model_LSTM_w2v_cbow.add(Embedding(input_dim=total_words,\n",
        "                    output_dim=300,\n",
        "                    input_length=max_sequence_len\n",
        "                    ,weights=[embedding_weight_matrix_w2v_cbow],trainable=False))\n",
        "model_LSTM_w2v_cbow.add(LSTM(100))\n",
        "model_LSTM_w2v_cbow.add(Dense(4,activation='softmax'))\n",
        "adam=Adam(learning_rate=0.01)\n",
        "model_LSTM_w2v_cbow.compile(loss='categorical_crossentropy',optimizer=adam,metrics=['accuracy'])\n",
        "model_LSTM_w2v_cbow.fit(padded_train,y_train_one_hot_encoded,epochs=10,verbose=1)"
      ],
      "metadata": {
        "id": "oH_YFIB6RvWC",
        "colab": {
          "base_uri": "https://localhost:8080/"
        },
        "outputId": "383ebf27-b2b7-4880-9c89-57a648e809b8"
      },
      "execution_count": null,
      "outputs": [
        {
          "output_type": "stream",
          "name": "stdout",
          "text": [
            "Epoch 1/10\n",
            "125/125 [==============================] - 3s 6ms/step - loss: 0.4615 - accuracy: 0.8307\n",
            "Epoch 2/10\n",
            "125/125 [==============================] - 1s 5ms/step - loss: 0.2578 - accuracy: 0.9087\n",
            "Epoch 3/10\n",
            "125/125 [==============================] - 1s 4ms/step - loss: 0.1952 - accuracy: 0.9312\n",
            "Epoch 4/10\n",
            "125/125 [==============================] - 1s 4ms/step - loss: 0.1507 - accuracy: 0.9498\n",
            "Epoch 5/10\n",
            "125/125 [==============================] - 1s 4ms/step - loss: 0.1032 - accuracy: 0.9647\n",
            "Epoch 6/10\n",
            "125/125 [==============================] - 1s 4ms/step - loss: 0.0870 - accuracy: 0.9690\n",
            "Epoch 7/10\n",
            "125/125 [==============================] - 1s 4ms/step - loss: 0.0769 - accuracy: 0.9728\n",
            "Epoch 8/10\n",
            "125/125 [==============================] - 1s 4ms/step - loss: 0.0726 - accuracy: 0.9747\n",
            "Epoch 9/10\n",
            "125/125 [==============================] - 0s 4ms/step - loss: 0.0733 - accuracy: 0.9732\n",
            "Epoch 10/10\n",
            "125/125 [==============================] - 1s 4ms/step - loss: 0.1003 - accuracy: 0.9647\n"
          ]
        },
        {
          "output_type": "execute_result",
          "data": {
            "text/plain": [
              "<keras.src.callbacks.History at 0x7f8ce9cea0b0>"
            ]
          },
          "metadata": {},
          "execution_count": 62
        }
      ]
    },
    {
      "cell_type": "code",
      "source": [
        "val_loss_lstm_w2v_cbow, val_accuracy_lstm_w2v_cbow= model_LSTM_w2v_cbow.evaluate(padded_val, y_val_one_hot_encoded, verbose=1)\n",
        "print(f'Test Accuracy: {val_accuracy_lstm_w2v_cbow}')\n",
        "\n",
        "y_pred =model_LSTM_w2v_cbow.predict(padded_val)\n",
        "y_pred_lstm_w2v_cbow_val = np.argmax(y_pred, axis=1)\n",
        "accuracy_lstm_w2v_cbow_val = accuracy_score(y_val, y_pred_lstm_w2v_cbow_val)\n",
        "precision_lstm_w2v_cbow_val = precision_score(y_val, y_pred_lstm_w2v_cbow_val, average='weighted')\n",
        "recall_lstm_w2v_cbow_val = recall_score(y_val, y_pred_lstm_w2v_cbow_val, average='weighted')\n",
        "f1_lstm_w2v_cbow_val = f1_score(y_val,y_pred_lstm_w2v_cbow_val, average='weighted')\n",
        "print('Classification report')\n",
        "print(classification_report(y_val, y_pred_lstm_w2v_cbow_val))\n",
        "print(f'Accuracy: {accuracy_lstm_w2v_cbow_val:.4f}')\n",
        "print(f'Precision: {precision_lstm_w2v_cbow_val:.4f}')\n",
        "print(f'Recall: {recall_lstm_w2v_cbow_val:.4f}')\n",
        "print(f'F1 Score: {f1_lstm_w2v_cbow_val:.4f}')\n",
        "w2v_cbow_results['LSTM Accuracy w2v cbow val']=accuracy_lstm_w2v_cbow_val\n",
        "w2v_cbow_results['LSTM Precision w2v cbow val']=precision_lstm_w2v_cbow_val\n",
        "w2v_cbow_results['LSTM  Recall w2v cbow val']=recall_lstm_w2v_cbow_val\n",
        "w2v_cbow_results['LSTM  F1 w2v cbow val']=f1_lstm_w2v_cbow_val\n"
      ],
      "metadata": {
        "colab": {
          "base_uri": "https://localhost:8080/"
        },
        "id": "19OZ6SWVime2",
        "outputId": "f85a9d87-8feb-4f8c-b212-160c67ac0ad2"
      },
      "execution_count": null,
      "outputs": [
        {
          "output_type": "stream",
          "name": "stdout",
          "text": [
            "32/32 [==============================] - 0s 3ms/step - loss: 0.5585 - accuracy: 0.8690\n",
            "Test Accuracy: 0.8690000176429749\n",
            "32/32 [==============================] - 0s 2ms/step\n",
            "Classification report\n",
            "              precision    recall  f1-score   support\n",
            "\n",
            "           0       0.84      0.66      0.74       180\n",
            "           1       0.88      0.93      0.91       601\n",
            "           2       0.87      0.91      0.89       198\n",
            "           3       0.56      0.48      0.51        21\n",
            "\n",
            "    accuracy                           0.87      1000\n",
            "   macro avg       0.79      0.74      0.76      1000\n",
            "weighted avg       0.87      0.87      0.87      1000\n",
            "\n",
            "Accuracy: 0.8690\n",
            "Precision: 0.8663\n",
            "Recall: 0.8690\n",
            "F1 Score: 0.8651\n"
          ]
        }
      ]
    },
    {
      "cell_type": "code",
      "source": [
        "test_loss_lstm_w2v_cbow, test_accuracy_lstm_w2v_cbow = model_LSTM_w2v_cbow.evaluate(padded_test, y_test_one_hot_encoded, verbose=1)\n",
        "print(f'Test Accuracy: {test_accuracy_lstm_w2v_cbow}')\n",
        "\n",
        "y_pred_LSTM_w2v_cbow_test =model_LSTM_w2v_cbow.predict(padded_test)\n",
        "y_pred_LSTM_w2v_cbow_test = np.argmax(y_pred, axis=1)\n",
        "accuracy_LSTM_w2v_cbow_test = accuracy_score(y_test, y_pred_LSTM_w2v_cbow_test)\n",
        "precision_LSTM_w2v_cbow_test = precision_score(y_test, y_pred_LSTM_w2v_cbow_test, average='weighted')\n",
        "recall_LSTM_w2v_cbow_test = recall_score(y_test, y_pred_LSTM_w2v_cbow_test, average='weighted')\n",
        "f1_LSTM_w2v_cbow_test = f1_score(y_test, y_pred_LSTM_w2v_cbow_test, average='weighted')\n",
        "print('Classification report')\n",
        "print(classification_report(y_test, y_pred_LSTM_w2v_cbow_test))\n",
        "print(f'Accuracy: {accuracy_LSTM_w2v_cbow_test:.4f}')\n",
        "print(f'Precision: {precision_LSTM_w2v_cbow_test:.4f}')\n",
        "print(f'Recall: {recall_LSTM_w2v_cbow_test:.4f}')\n",
        "print(f'F1 Score: {f1_LSTM_w2v_cbow_test:.4f}')\n",
        "w2v_cbow_results['LSTM Accuracy w2v cbow test']=accuracy_LSTM_w2v_cbow_test\n",
        "w2v_cbow_results['LSTM Precision w2v cbow test']=precision_LSTM_w2v_cbow_test\n",
        "w2v_cbow_results['LSTM  Recall w2v cbow test']=recall_LSTM_w2v_cbow_test\n",
        "w2v_cbow_results['LSTM  F1 w2v cbow test']=f1_LSTM_w2v_cbow_test"
      ],
      "metadata": {
        "colab": {
          "base_uri": "https://localhost:8080/"
        },
        "id": "hCK3YE94imNN",
        "outputId": "58d1058e-55af-4df0-81a6-682d27d36824"
      },
      "execution_count": null,
      "outputs": [
        {
          "output_type": "stream",
          "name": "stdout",
          "text": [
            "32/32 [==============================] - 0s 3ms/step - loss: 0.8991 - accuracy: 0.7830\n",
            "Test Accuracy: 0.7829999923706055\n",
            "32/32 [==============================] - 0s 2ms/step\n",
            "Classification report\n",
            "              precision    recall  f1-score   support\n",
            "\n",
            "           0       0.18      0.12      0.15       200\n",
            "           1       0.52      0.64      0.57       512\n",
            "           2       0.17      0.17      0.17       200\n",
            "           3       0.11      0.02      0.04        88\n",
            "\n",
            "    accuracy                           0.39      1000\n",
            "   macro avg       0.24      0.24      0.23      1000\n",
            "weighted avg       0.34      0.39      0.36      1000\n",
            "\n",
            "Accuracy: 0.3900\n",
            "Precision: 0.3437\n",
            "Recall: 0.3900\n",
            "F1 Score: 0.3600\n"
          ]
        }
      ]
    },
    {
      "cell_type": "markdown",
      "source": [
        "#### RNN"
      ],
      "metadata": {
        "id": "7_JaNjF6Rvvl"
      }
    },
    {
      "cell_type": "code",
      "source": [
        "model_rnn_w2v_cbow=Sequential()\n",
        "model_rnn_w2v_cbow.add(Embedding(input_dim=total_words,\n",
        "                    output_dim=300,\n",
        "                    input_length=max_sequence_len\n",
        "                    ,weights=[embedding_weight_matrix_w2v_cbow],trainable=False))\n",
        "model_rnn_w2v_cbow.add(SimpleRNN(100))\n",
        "model_rnn_w2v_cbow.add(Dense(4,activation='softmax'))\n",
        "adam=Adam(learning_rate=0.01)\n",
        "model_rnn_w2v_cbow.compile(loss='categorical_crossentropy',optimizer=adam,metrics=['accuracy'])\n",
        "model_rnn_w2v_cbow.fit(padded_train,y_train_one_hot_encoded,epochs=10,verbose=1)"
      ],
      "metadata": {
        "id": "L9RW8lZFRyKA",
        "colab": {
          "base_uri": "https://localhost:8080/"
        },
        "outputId": "65954e3a-5420-46f6-9d32-83d6727aeb69"
      },
      "execution_count": null,
      "outputs": [
        {
          "output_type": "stream",
          "name": "stdout",
          "text": [
            "Epoch 1/10\n",
            "125/125 [==============================] - 3s 12ms/step - loss: 0.8168 - accuracy: 0.6877\n",
            "Epoch 2/10\n",
            "125/125 [==============================] - 2s 14ms/step - loss: 0.6092 - accuracy: 0.7602\n",
            "Epoch 3/10\n",
            "125/125 [==============================] - 3s 21ms/step - loss: 0.5499 - accuracy: 0.7870\n",
            "Epoch 4/10\n",
            "125/125 [==============================] - 3s 23ms/step - loss: 0.5087 - accuracy: 0.7968\n",
            "Epoch 5/10\n",
            "125/125 [==============================] - 3s 21ms/step - loss: 0.4946 - accuracy: 0.7997\n",
            "Epoch 6/10\n",
            "125/125 [==============================] - 2s 12ms/step - loss: 0.4852 - accuracy: 0.8112\n",
            "Epoch 7/10\n",
            "125/125 [==============================] - 2s 13ms/step - loss: 0.4665 - accuracy: 0.8167\n",
            "Epoch 8/10\n",
            "125/125 [==============================] - 2s 13ms/step - loss: 0.4636 - accuracy: 0.8180\n",
            "Epoch 9/10\n",
            "125/125 [==============================] - 2s 12ms/step - loss: 0.4468 - accuracy: 0.8160\n",
            "Epoch 10/10\n",
            "125/125 [==============================] - 2s 12ms/step - loss: 0.4283 - accuracy: 0.8295\n"
          ]
        },
        {
          "output_type": "execute_result",
          "data": {
            "text/plain": [
              "<keras.src.callbacks.History at 0x7f8d02659ea0>"
            ]
          },
          "metadata": {},
          "execution_count": 65
        }
      ]
    },
    {
      "cell_type": "code",
      "source": [
        "val_loss_rnn_w2v_cbow, val_accuracy_rnn_w2v_cbow= model_rnn_w2v_cbow.evaluate(padded_val, y_val_one_hot_encoded, verbose=1)\n",
        "print(f'Test Accuracy: {val_accuracy_rnn_w2v_cbow}')\n",
        "\n",
        "y_pred = model_rnn_w2v_cbow.predict(padded_val)\n",
        "y_pred_rnn_w2v_cbow_val = np.argmax(y_pred, axis=1)\n",
        "accuracy_rnn_w2v_cbow_val = accuracy_score(y_val, y_pred_rnn_w2v_cbow_val)\n",
        "precision_rnn_w2v_cbow_val = precision_score(y_val, y_pred_rnn_w2v_cbow_val, average='weighted')\n",
        "recall_rnn_w2v_cbow_val = recall_score(y_val, y_pred_rnn_w2v_cbow_val, average='weighted')\n",
        "f1_rnn_w2v_cbow_val = f1_score(y_val, y_pred_rnn_w2v_cbow_val, average='weighted')\n",
        "print('Classification report')\n",
        "print(classification_report(y_val, y_pred_rnn_w2v_cbow_val))\n",
        "print(f'Accuracy: {accuracy_rnn_w2v_cbow_val:.4f}')\n",
        "print(f'Precision: {precision_rnn_w2v_cbow_val:.4f}')\n",
        "print(f'Recall: {recall_rnn_w2v_cbow_val:.4f}')\n",
        "print(f'F1 Score: {f1_rnn_w2v_cbow_val:.4f}')\n",
        "w2v_cbow_results['RNN Accuracy w2v cbow val']=accuracy_rnn_w2v_cbow_val\n",
        "w2v_cbow_results['RNN Precision w2v cbow val']=precision_rnn_w2v_cbow_val\n",
        "w2v_cbow_results['RNN  Recall w2v cbow val']=recall_rnn_w2v_cbow_val\n",
        "w2v_cbow_results['RNN  F1 w2v cbow val']=f1_rnn_w2v_cbow_val"
      ],
      "metadata": {
        "colab": {
          "base_uri": "https://localhost:8080/"
        },
        "id": "FExT8hf64MKt",
        "outputId": "735a9454-c316-4fa0-9ce9-06051912ff4c"
      },
      "execution_count": null,
      "outputs": [
        {
          "output_type": "stream",
          "name": "stdout",
          "text": [
            "32/32 [==============================] - 0s 7ms/step - loss: 0.7109 - accuracy: 0.7550\n",
            "Test Accuracy: 0.7549999952316284\n",
            "32/32 [==============================] - 0s 5ms/step\n",
            "Classification report\n",
            "              precision    recall  f1-score   support\n",
            "\n",
            "           0       0.62      0.43      0.51       180\n",
            "           1       0.80      0.88      0.83       601\n",
            "           2       0.77      0.72      0.74       198\n",
            "           3       0.29      0.43      0.35        21\n",
            "\n",
            "    accuracy                           0.76      1000\n",
            "   macro avg       0.62      0.61      0.61      1000\n",
            "weighted avg       0.75      0.76      0.75      1000\n",
            "\n",
            "Accuracy: 0.7550\n",
            "Precision: 0.7501\n",
            "Recall: 0.7550\n",
            "F1 Score: 0.7479\n"
          ]
        }
      ]
    },
    {
      "cell_type": "code",
      "source": [
        "test_loss_rnn_w2v_cbow, test_accuracy_rnn_w2v_cbow = model_rnn_w2v_cbow.evaluate(padded_test, y_test_one_hot_encoded, verbose=1)\n",
        "print(f'Test Accuracy: {test_accuracy_rnn_w2v_cbow}')\n",
        "y_pred = model_rnn_w2v_cbow.predict(padded_test)\n",
        "y_pred_rnn_w2v_cbow_test = np.argmax(y_pred, axis=1)\n",
        "accuracy_rnn_w2v_cbow_test = accuracy_score(y_test, y_pred_rnn_w2v_cbow_test)\n",
        "precision_rnn_w2v_cbow_test = precision_score(y_test, y_pred_rnn_w2v_cbow_test, average='weighted')\n",
        "recall_rnn_w2v_cbow_test = recall_score(y_test, y_pred_rnn_w2v_cbow_test, average='weighted')\n",
        "f1_rnn_w2v_cbow_test = f1_score(y_test, y_pred_rnn_w2v_cbow_test, average='weighted')\n",
        "print('Classification report')\n",
        "print(classification_report(y_test, y_pred_rnn_w2v_cbow_test))\n",
        "print(f'Accuracy: {accuracy_rnn_w2v_cbow_test:.4f}')\n",
        "print(f'Precision: {precision_rnn_w2v_cbow_test:.4f}')\n",
        "print(f'Recall: {recall_rnn_w2v_cbow_test:.4f}')\n",
        "print(f'F1 Score: {f1_rnn_w2v_cbow_test:.4f}')\n",
        "w2v_cbow_results['RNN Accuracy w2v cbow test']=accuracy_rnn_w2v_cbow_test\n",
        "w2v_cbow_results['RNN Precision w2v cbow test']=precision_rnn_w2v_cbow_test\n",
        "w2v_cbow_results['RNN  Recall w2v cbow test']=recall_rnn_w2v_cbow_test\n",
        "w2v_cbow_results['RNN  F1 w2v cbow test']=f1_rnn_w2v_cbow_test"
      ],
      "metadata": {
        "colab": {
          "base_uri": "https://localhost:8080/"
        },
        "id": "ZGF2PH994L-2",
        "outputId": "d204495d-1f33-4789-dda1-bd2e6c149a15"
      },
      "execution_count": null,
      "outputs": [
        {
          "output_type": "stream",
          "name": "stdout",
          "text": [
            "32/32 [==============================] - 0s 6ms/step - loss: 0.9837 - accuracy: 0.6730\n",
            "Test Accuracy: 0.6729999780654907\n",
            "32/32 [==============================] - 0s 5ms/step\n",
            "Classification report\n",
            "              precision    recall  f1-score   support\n",
            "\n",
            "           0       0.63      0.37      0.47       200\n",
            "           1       0.68      0.88      0.77       512\n",
            "           2       0.70      0.65      0.67       200\n",
            "           3       0.53      0.22      0.31        88\n",
            "\n",
            "    accuracy                           0.67      1000\n",
            "   macro avg       0.64      0.53      0.55      1000\n",
            "weighted avg       0.66      0.67      0.65      1000\n",
            "\n",
            "Accuracy: 0.6730\n",
            "Precision: 0.6617\n",
            "Recall: 0.6730\n",
            "F1 Score: 0.6478\n"
          ]
        }
      ]
    },
    {
      "cell_type": "markdown",
      "source": [
        "### evaluation word2vec CBOW"
      ],
      "metadata": {
        "id": "rJB7Q_7eRy8A"
      }
    },
    {
      "cell_type": "code",
      "source": [
        "w2v_cbow_results_list=[{'performance metric & model':k,\"results\":v} for k,v in w2v_cbow_results.items()]\n",
        "\n",
        "w2v_cbow_df_results=pd.DataFrame(w2v_cbow_results_list)\n",
        "w2v_cbow_df_results"
      ],
      "metadata": {
        "id": "gsxo6yCsR6bX",
        "colab": {
          "base_uri": "https://localhost:8080/"
        },
        "outputId": "32207ec3-92f4-4bd6-ee11-e5b37a91f6c6"
      },
      "execution_count": null,
      "outputs": [
        {
          "output_type": "execute_result",
          "data": {
            "text/plain": [
              "                     performance metric & model   results\n",
              "0             Naive Bayes Accuracy w2v cbow val  0.865000\n",
              "1            Naive Bayes Precision w2v cbow val  0.879618\n",
              "2              Naive Bayes  Recall w2v cbow val  0.865000\n",
              "3                  Naive Bayes  F1 w2v cbow val  0.870177\n",
              "4            Naive Bayes Accuracy w2v cbow test  0.360000\n",
              "5           Naive Bayes Precision w2v cbow test  0.331769\n",
              "6             Naive Bayes  Recall w2v cbow test  0.360000\n",
              "7                 Naive Bayes  F1 w2v cbow test  0.344390\n",
              "8     Logistic Regression Accuracy w2v cbow val  0.905000\n",
              "9    Logistic Regression Precision w2v cbow val  0.903901\n",
              "10     Logistic Regression  Recall w2v cbow val  0.905000\n",
              "11         Logistic Regression  F1 w2v cbow val  0.904181\n",
              "12   Logistic Regression Accuracy w2v cbow test  0.905000\n",
              "13  Logistic Regression Precision w2v cbow test  0.903901\n",
              "14    Logistic Regression  Recall w2v cbow test  0.905000\n",
              "15        Logistic Regression  F1 w2v cbow test  0.904181\n",
              "16                   LSTM Accuracy w2v cbow val  0.869000\n",
              "17                  LSTM Precision w2v cbow val  0.866277\n",
              "18                    LSTM  Recall w2v cbow val  0.869000\n",
              "19                        LSTM  F1 w2v cbow val  0.865109\n",
              "20                  LSTM Accuracy w2v cbow test  0.390000\n",
              "21                 LSTM Precision w2v cbow test  0.343685\n",
              "22                   LSTM  Recall w2v cbow test  0.390000\n",
              "23                       LSTM  F1 w2v cbow test  0.359956\n",
              "24                    RNN Accuracy w2v cbow val  0.755000\n",
              "25                   RNN Precision w2v cbow val  0.750101\n",
              "26                     RNN  Recall w2v cbow val  0.755000\n",
              "27                         RNN  F1 w2v cbow val  0.747942\n",
              "28                   RNN Accuracy w2v cbow test  0.673000\n",
              "29                  RNN Precision w2v cbow test  0.661683\n",
              "30                    RNN  Recall w2v cbow test  0.673000\n",
              "31                        RNN  F1 w2v cbow test  0.647776"
            ],
            "text/html": [
              "\n",
              "  <div id=\"df-1e7418e2-c2a6-4ac5-820c-0cd2c571a610\" class=\"colab-df-container\">\n",
              "    <div>\n",
              "<style scoped>\n",
              "    .dataframe tbody tr th:only-of-type {\n",
              "        vertical-align: middle;\n",
              "    }\n",
              "\n",
              "    .dataframe tbody tr th {\n",
              "        vertical-align: top;\n",
              "    }\n",
              "\n",
              "    .dataframe thead th {\n",
              "        text-align: right;\n",
              "    }\n",
              "</style>\n",
              "<table border=\"1\" class=\"dataframe\">\n",
              "  <thead>\n",
              "    <tr style=\"text-align: right;\">\n",
              "      <th></th>\n",
              "      <th>performance metric &amp; model</th>\n",
              "      <th>results</th>\n",
              "    </tr>\n",
              "  </thead>\n",
              "  <tbody>\n",
              "    <tr>\n",
              "      <th>0</th>\n",
              "      <td>Naive Bayes Accuracy w2v cbow val</td>\n",
              "      <td>0.865000</td>\n",
              "    </tr>\n",
              "    <tr>\n",
              "      <th>1</th>\n",
              "      <td>Naive Bayes Precision w2v cbow val</td>\n",
              "      <td>0.879618</td>\n",
              "    </tr>\n",
              "    <tr>\n",
              "      <th>2</th>\n",
              "      <td>Naive Bayes  Recall w2v cbow val</td>\n",
              "      <td>0.865000</td>\n",
              "    </tr>\n",
              "    <tr>\n",
              "      <th>3</th>\n",
              "      <td>Naive Bayes  F1 w2v cbow val</td>\n",
              "      <td>0.870177</td>\n",
              "    </tr>\n",
              "    <tr>\n",
              "      <th>4</th>\n",
              "      <td>Naive Bayes Accuracy w2v cbow test</td>\n",
              "      <td>0.360000</td>\n",
              "    </tr>\n",
              "    <tr>\n",
              "      <th>5</th>\n",
              "      <td>Naive Bayes Precision w2v cbow test</td>\n",
              "      <td>0.331769</td>\n",
              "    </tr>\n",
              "    <tr>\n",
              "      <th>6</th>\n",
              "      <td>Naive Bayes  Recall w2v cbow test</td>\n",
              "      <td>0.360000</td>\n",
              "    </tr>\n",
              "    <tr>\n",
              "      <th>7</th>\n",
              "      <td>Naive Bayes  F1 w2v cbow test</td>\n",
              "      <td>0.344390</td>\n",
              "    </tr>\n",
              "    <tr>\n",
              "      <th>8</th>\n",
              "      <td>Logistic Regression Accuracy w2v cbow val</td>\n",
              "      <td>0.905000</td>\n",
              "    </tr>\n",
              "    <tr>\n",
              "      <th>9</th>\n",
              "      <td>Logistic Regression Precision w2v cbow val</td>\n",
              "      <td>0.903901</td>\n",
              "    </tr>\n",
              "    <tr>\n",
              "      <th>10</th>\n",
              "      <td>Logistic Regression  Recall w2v cbow val</td>\n",
              "      <td>0.905000</td>\n",
              "    </tr>\n",
              "    <tr>\n",
              "      <th>11</th>\n",
              "      <td>Logistic Regression  F1 w2v cbow val</td>\n",
              "      <td>0.904181</td>\n",
              "    </tr>\n",
              "    <tr>\n",
              "      <th>12</th>\n",
              "      <td>Logistic Regression Accuracy w2v cbow test</td>\n",
              "      <td>0.905000</td>\n",
              "    </tr>\n",
              "    <tr>\n",
              "      <th>13</th>\n",
              "      <td>Logistic Regression Precision w2v cbow test</td>\n",
              "      <td>0.903901</td>\n",
              "    </tr>\n",
              "    <tr>\n",
              "      <th>14</th>\n",
              "      <td>Logistic Regression  Recall w2v cbow test</td>\n",
              "      <td>0.905000</td>\n",
              "    </tr>\n",
              "    <tr>\n",
              "      <th>15</th>\n",
              "      <td>Logistic Regression  F1 w2v cbow test</td>\n",
              "      <td>0.904181</td>\n",
              "    </tr>\n",
              "    <tr>\n",
              "      <th>16</th>\n",
              "      <td>LSTM Accuracy w2v cbow val</td>\n",
              "      <td>0.869000</td>\n",
              "    </tr>\n",
              "    <tr>\n",
              "      <th>17</th>\n",
              "      <td>LSTM Precision w2v cbow val</td>\n",
              "      <td>0.866277</td>\n",
              "    </tr>\n",
              "    <tr>\n",
              "      <th>18</th>\n",
              "      <td>LSTM  Recall w2v cbow val</td>\n",
              "      <td>0.869000</td>\n",
              "    </tr>\n",
              "    <tr>\n",
              "      <th>19</th>\n",
              "      <td>LSTM  F1 w2v cbow val</td>\n",
              "      <td>0.865109</td>\n",
              "    </tr>\n",
              "    <tr>\n",
              "      <th>20</th>\n",
              "      <td>LSTM Accuracy w2v cbow test</td>\n",
              "      <td>0.390000</td>\n",
              "    </tr>\n",
              "    <tr>\n",
              "      <th>21</th>\n",
              "      <td>LSTM Precision w2v cbow test</td>\n",
              "      <td>0.343685</td>\n",
              "    </tr>\n",
              "    <tr>\n",
              "      <th>22</th>\n",
              "      <td>LSTM  Recall w2v cbow test</td>\n",
              "      <td>0.390000</td>\n",
              "    </tr>\n",
              "    <tr>\n",
              "      <th>23</th>\n",
              "      <td>LSTM  F1 w2v cbow test</td>\n",
              "      <td>0.359956</td>\n",
              "    </tr>\n",
              "    <tr>\n",
              "      <th>24</th>\n",
              "      <td>RNN Accuracy w2v cbow val</td>\n",
              "      <td>0.755000</td>\n",
              "    </tr>\n",
              "    <tr>\n",
              "      <th>25</th>\n",
              "      <td>RNN Precision w2v cbow val</td>\n",
              "      <td>0.750101</td>\n",
              "    </tr>\n",
              "    <tr>\n",
              "      <th>26</th>\n",
              "      <td>RNN  Recall w2v cbow val</td>\n",
              "      <td>0.755000</td>\n",
              "    </tr>\n",
              "    <tr>\n",
              "      <th>27</th>\n",
              "      <td>RNN  F1 w2v cbow val</td>\n",
              "      <td>0.747942</td>\n",
              "    </tr>\n",
              "    <tr>\n",
              "      <th>28</th>\n",
              "      <td>RNN Accuracy w2v cbow test</td>\n",
              "      <td>0.673000</td>\n",
              "    </tr>\n",
              "    <tr>\n",
              "      <th>29</th>\n",
              "      <td>RNN Precision w2v cbow test</td>\n",
              "      <td>0.661683</td>\n",
              "    </tr>\n",
              "    <tr>\n",
              "      <th>30</th>\n",
              "      <td>RNN  Recall w2v cbow test</td>\n",
              "      <td>0.673000</td>\n",
              "    </tr>\n",
              "    <tr>\n",
              "      <th>31</th>\n",
              "      <td>RNN  F1 w2v cbow test</td>\n",
              "      <td>0.647776</td>\n",
              "    </tr>\n",
              "  </tbody>\n",
              "</table>\n",
              "</div>\n",
              "    <div class=\"colab-df-buttons\">\n",
              "\n",
              "  <div class=\"colab-df-container\">\n",
              "    <button class=\"colab-df-convert\" onclick=\"convertToInteractive('df-1e7418e2-c2a6-4ac5-820c-0cd2c571a610')\"\n",
              "            title=\"Convert this dataframe to an interactive table.\"\n",
              "            style=\"display:none;\">\n",
              "\n",
              "  <svg xmlns=\"http://www.w3.org/2000/svg\" height=\"24px\" viewBox=\"0 -960 960 960\">\n",
              "    <path d=\"M120-120v-720h720v720H120Zm60-500h600v-160H180v160Zm220 220h160v-160H400v160Zm0 220h160v-160H400v160ZM180-400h160v-160H180v160Zm440 0h160v-160H620v160ZM180-180h160v-160H180v160Zm440 0h160v-160H620v160Z\"/>\n",
              "  </svg>\n",
              "    </button>\n",
              "\n",
              "  <style>\n",
              "    .colab-df-container {\n",
              "      display:flex;\n",
              "      gap: 12px;\n",
              "    }\n",
              "\n",
              "    .colab-df-convert {\n",
              "      background-color: #E8F0FE;\n",
              "      border: none;\n",
              "      border-radius: 50%;\n",
              "      cursor: pointer;\n",
              "      display: none;\n",
              "      fill: #1967D2;\n",
              "      height: 32px;\n",
              "      padding: 0 0 0 0;\n",
              "      width: 32px;\n",
              "    }\n",
              "\n",
              "    .colab-df-convert:hover {\n",
              "      background-color: #E2EBFA;\n",
              "      box-shadow: 0px 1px 2px rgba(60, 64, 67, 0.3), 0px 1px 3px 1px rgba(60, 64, 67, 0.15);\n",
              "      fill: #174EA6;\n",
              "    }\n",
              "\n",
              "    .colab-df-buttons div {\n",
              "      margin-bottom: 4px;\n",
              "    }\n",
              "\n",
              "    [theme=dark] .colab-df-convert {\n",
              "      background-color: #3B4455;\n",
              "      fill: #D2E3FC;\n",
              "    }\n",
              "\n",
              "    [theme=dark] .colab-df-convert:hover {\n",
              "      background-color: #434B5C;\n",
              "      box-shadow: 0px 1px 3px 1px rgba(0, 0, 0, 0.15);\n",
              "      filter: drop-shadow(0px 1px 2px rgba(0, 0, 0, 0.3));\n",
              "      fill: #FFFFFF;\n",
              "    }\n",
              "  </style>\n",
              "\n",
              "    <script>\n",
              "      const buttonEl =\n",
              "        document.querySelector('#df-1e7418e2-c2a6-4ac5-820c-0cd2c571a610 button.colab-df-convert');\n",
              "      buttonEl.style.display =\n",
              "        google.colab.kernel.accessAllowed ? 'block' : 'none';\n",
              "\n",
              "      async function convertToInteractive(key) {\n",
              "        const element = document.querySelector('#df-1e7418e2-c2a6-4ac5-820c-0cd2c571a610');\n",
              "        const dataTable =\n",
              "          await google.colab.kernel.invokeFunction('convertToInteractive',\n",
              "                                                    [key], {});\n",
              "        if (!dataTable) return;\n",
              "\n",
              "        const docLinkHtml = 'Like what you see? Visit the ' +\n",
              "          '<a target=\"_blank\" href=https://colab.research.google.com/notebooks/data_table.ipynb>data table notebook</a>'\n",
              "          + ' to learn more about interactive tables.';\n",
              "        element.innerHTML = '';\n",
              "        dataTable['output_type'] = 'display_data';\n",
              "        await google.colab.output.renderOutput(dataTable, element);\n",
              "        const docLink = document.createElement('div');\n",
              "        docLink.innerHTML = docLinkHtml;\n",
              "        element.appendChild(docLink);\n",
              "      }\n",
              "    </script>\n",
              "  </div>\n",
              "\n",
              "\n",
              "<div id=\"df-13edd9ff-d142-40cd-b8b4-22b1efe2fdcd\">\n",
              "  <button class=\"colab-df-quickchart\" onclick=\"quickchart('df-13edd9ff-d142-40cd-b8b4-22b1efe2fdcd')\"\n",
              "            title=\"Suggest charts\"\n",
              "            style=\"display:none;\">\n",
              "\n",
              "<svg xmlns=\"http://www.w3.org/2000/svg\" height=\"24px\"viewBox=\"0 0 24 24\"\n",
              "     width=\"24px\">\n",
              "    <g>\n",
              "        <path d=\"M19 3H5c-1.1 0-2 .9-2 2v14c0 1.1.9 2 2 2h14c1.1 0 2-.9 2-2V5c0-1.1-.9-2-2-2zM9 17H7v-7h2v7zm4 0h-2V7h2v10zm4 0h-2v-4h2v4z\"/>\n",
              "    </g>\n",
              "</svg>\n",
              "  </button>\n",
              "\n",
              "<style>\n",
              "  .colab-df-quickchart {\n",
              "      --bg-color: #E8F0FE;\n",
              "      --fill-color: #1967D2;\n",
              "      --hover-bg-color: #E2EBFA;\n",
              "      --hover-fill-color: #174EA6;\n",
              "      --disabled-fill-color: #AAA;\n",
              "      --disabled-bg-color: #DDD;\n",
              "  }\n",
              "\n",
              "  [theme=dark] .colab-df-quickchart {\n",
              "      --bg-color: #3B4455;\n",
              "      --fill-color: #D2E3FC;\n",
              "      --hover-bg-color: #434B5C;\n",
              "      --hover-fill-color: #FFFFFF;\n",
              "      --disabled-bg-color: #3B4455;\n",
              "      --disabled-fill-color: #666;\n",
              "  }\n",
              "\n",
              "  .colab-df-quickchart {\n",
              "    background-color: var(--bg-color);\n",
              "    border: none;\n",
              "    border-radius: 50%;\n",
              "    cursor: pointer;\n",
              "    display: none;\n",
              "    fill: var(--fill-color);\n",
              "    height: 32px;\n",
              "    padding: 0;\n",
              "    width: 32px;\n",
              "  }\n",
              "\n",
              "  .colab-df-quickchart:hover {\n",
              "    background-color: var(--hover-bg-color);\n",
              "    box-shadow: 0 1px 2px rgba(60, 64, 67, 0.3), 0 1px 3px 1px rgba(60, 64, 67, 0.15);\n",
              "    fill: var(--button-hover-fill-color);\n",
              "  }\n",
              "\n",
              "  .colab-df-quickchart-complete:disabled,\n",
              "  .colab-df-quickchart-complete:disabled:hover {\n",
              "    background-color: var(--disabled-bg-color);\n",
              "    fill: var(--disabled-fill-color);\n",
              "    box-shadow: none;\n",
              "  }\n",
              "\n",
              "  .colab-df-spinner {\n",
              "    border: 2px solid var(--fill-color);\n",
              "    border-color: transparent;\n",
              "    border-bottom-color: var(--fill-color);\n",
              "    animation:\n",
              "      spin 1s steps(1) infinite;\n",
              "  }\n",
              "\n",
              "  @keyframes spin {\n",
              "    0% {\n",
              "      border-color: transparent;\n",
              "      border-bottom-color: var(--fill-color);\n",
              "      border-left-color: var(--fill-color);\n",
              "    }\n",
              "    20% {\n",
              "      border-color: transparent;\n",
              "      border-left-color: var(--fill-color);\n",
              "      border-top-color: var(--fill-color);\n",
              "    }\n",
              "    30% {\n",
              "      border-color: transparent;\n",
              "      border-left-color: var(--fill-color);\n",
              "      border-top-color: var(--fill-color);\n",
              "      border-right-color: var(--fill-color);\n",
              "    }\n",
              "    40% {\n",
              "      border-color: transparent;\n",
              "      border-right-color: var(--fill-color);\n",
              "      border-top-color: var(--fill-color);\n",
              "    }\n",
              "    60% {\n",
              "      border-color: transparent;\n",
              "      border-right-color: var(--fill-color);\n",
              "    }\n",
              "    80% {\n",
              "      border-color: transparent;\n",
              "      border-right-color: var(--fill-color);\n",
              "      border-bottom-color: var(--fill-color);\n",
              "    }\n",
              "    90% {\n",
              "      border-color: transparent;\n",
              "      border-bottom-color: var(--fill-color);\n",
              "    }\n",
              "  }\n",
              "</style>\n",
              "\n",
              "  <script>\n",
              "    async function quickchart(key) {\n",
              "      const quickchartButtonEl =\n",
              "        document.querySelector('#' + key + ' button');\n",
              "      quickchartButtonEl.disabled = true;  // To prevent multiple clicks.\n",
              "      quickchartButtonEl.classList.add('colab-df-spinner');\n",
              "      try {\n",
              "        const charts = await google.colab.kernel.invokeFunction(\n",
              "            'suggestCharts', [key], {});\n",
              "      } catch (error) {\n",
              "        console.error('Error during call to suggestCharts:', error);\n",
              "      }\n",
              "      quickchartButtonEl.classList.remove('colab-df-spinner');\n",
              "      quickchartButtonEl.classList.add('colab-df-quickchart-complete');\n",
              "    }\n",
              "    (() => {\n",
              "      let quickchartButtonEl =\n",
              "        document.querySelector('#df-13edd9ff-d142-40cd-b8b4-22b1efe2fdcd button');\n",
              "      quickchartButtonEl.style.display =\n",
              "        google.colab.kernel.accessAllowed ? 'block' : 'none';\n",
              "    })();\n",
              "  </script>\n",
              "</div>\n",
              "\n",
              "  <div id=\"id_0a8f2466-ab4c-4299-b25a-1cf1f55397e0\">\n",
              "    <style>\n",
              "      .colab-df-generate {\n",
              "        background-color: #E8F0FE;\n",
              "        border: none;\n",
              "        border-radius: 50%;\n",
              "        cursor: pointer;\n",
              "        display: none;\n",
              "        fill: #1967D2;\n",
              "        height: 32px;\n",
              "        padding: 0 0 0 0;\n",
              "        width: 32px;\n",
              "      }\n",
              "\n",
              "      .colab-df-generate:hover {\n",
              "        background-color: #E2EBFA;\n",
              "        box-shadow: 0px 1px 2px rgba(60, 64, 67, 0.3), 0px 1px 3px 1px rgba(60, 64, 67, 0.15);\n",
              "        fill: #174EA6;\n",
              "      }\n",
              "\n",
              "      [theme=dark] .colab-df-generate {\n",
              "        background-color: #3B4455;\n",
              "        fill: #D2E3FC;\n",
              "      }\n",
              "\n",
              "      [theme=dark] .colab-df-generate:hover {\n",
              "        background-color: #434B5C;\n",
              "        box-shadow: 0px 1px 3px 1px rgba(0, 0, 0, 0.15);\n",
              "        filter: drop-shadow(0px 1px 2px rgba(0, 0, 0, 0.3));\n",
              "        fill: #FFFFFF;\n",
              "      }\n",
              "    </style>\n",
              "    <button class=\"colab-df-generate\" onclick=\"generateWithVariable('w2v_cbow_df_results')\"\n",
              "            title=\"Generate code using this dataframe.\"\n",
              "            style=\"display:none;\">\n",
              "\n",
              "  <svg xmlns=\"http://www.w3.org/2000/svg\" height=\"24px\"viewBox=\"0 0 24 24\"\n",
              "       width=\"24px\">\n",
              "    <path d=\"M7,19H8.4L18.45,9,17,7.55,7,17.6ZM5,21V16.75L18.45,3.32a2,2,0,0,1,2.83,0l1.4,1.43a1.91,1.91,0,0,1,.58,1.4,1.91,1.91,0,0,1-.58,1.4L9.25,21ZM18.45,9,17,7.55Zm-12,3A5.31,5.31,0,0,0,4.9,8.1,5.31,5.31,0,0,0,1,6.5,5.31,5.31,0,0,0,4.9,4.9,5.31,5.31,0,0,0,6.5,1,5.31,5.31,0,0,0,8.1,4.9,5.31,5.31,0,0,0,12,6.5,5.46,5.46,0,0,0,6.5,12Z\"/>\n",
              "  </svg>\n",
              "    </button>\n",
              "    <script>\n",
              "      (() => {\n",
              "      const buttonEl =\n",
              "        document.querySelector('#id_0a8f2466-ab4c-4299-b25a-1cf1f55397e0 button.colab-df-generate');\n",
              "      buttonEl.style.display =\n",
              "        google.colab.kernel.accessAllowed ? 'block' : 'none';\n",
              "\n",
              "      buttonEl.onclick = () => {\n",
              "        google.colab.notebook.generateWithVariable('w2v_cbow_df_results');\n",
              "      }\n",
              "      })();\n",
              "    </script>\n",
              "  </div>\n",
              "\n",
              "    </div>\n",
              "  </div>\n"
            ],
            "application/vnd.google.colaboratory.intrinsic+json": {
              "type": "dataframe",
              "variable_name": "w2v_cbow_df_results",
              "summary": "{\n  \"name\": \"w2v_cbow_df_results\",\n  \"rows\": 32,\n  \"fields\": [\n    {\n      \"column\": \"performance metric & model\",\n      \"properties\": {\n        \"dtype\": \"string\",\n        \"num_unique_values\": 32,\n        \"samples\": [\n          \"RNN Precision w2v cbow test\",\n          \"Logistic Regression  F1 w2v cbow test\",\n          \"RNN Accuracy w2v cbow val\"\n        ],\n        \"semantic_type\": \"\",\n        \"description\": \"\"\n      }\n    },\n    {\n      \"column\": \"results\",\n      \"properties\": {\n        \"dtype\": \"number\",\n        \"std\": 0.22022820134914964,\n        \"min\": 0.3317692730953475,\n        \"max\": 0.905,\n        \"num_unique_values\": 21,\n        \"samples\": [\n          0.865,\n          0.7479419494690607,\n          0.755\n        ],\n        \"semantic_type\": \"\",\n        \"description\": \"\"\n      }\n    }\n  ]\n}"
            }
          },
          "metadata": {},
          "execution_count": 68
        }
      ]
    },
    {
      "cell_type": "markdown",
      "source": [
        "## Wor2vec twitter skipgram 300"
      ],
      "metadata": {
        "id": "M8coY_MkSC9l"
      }
    },
    {
      "cell_type": "code",
      "source": [
        "sg_w2v_results={}"
      ],
      "metadata": {
        "id": "DFthyIfrbOTe"
      },
      "execution_count": null,
      "outputs": []
    },
    {
      "cell_type": "code",
      "source": [
        "!wget \"https://bakrianoo.ewr1.vultrobjects.com/aravec/full_grams_sg_300_twitter.zip\""
      ],
      "metadata": {
        "id": "nWTGiAjaSRob",
        "colab": {
          "base_uri": "https://localhost:8080/"
        },
        "outputId": "e99319fe-38a1-43cc-9470-d72420b690ae"
      },
      "execution_count": null,
      "outputs": [
        {
          "output_type": "stream",
          "name": "stdout",
          "text": [
            "--2024-06-11 22:02:38--  https://bakrianoo.ewr1.vultrobjects.com/aravec/full_grams_sg_300_twitter.zip\n",
            "Resolving bakrianoo.ewr1.vultrobjects.com (bakrianoo.ewr1.vultrobjects.com)... 108.61.0.122, 2001:19f0:0:22::100\n",
            "Connecting to bakrianoo.ewr1.vultrobjects.com (bakrianoo.ewr1.vultrobjects.com)|108.61.0.122|:443... connected.\n",
            "HTTP request sent, awaiting response... 200 OK\n",
            "Length: 3322543144 (3.1G) [application/zip]\n",
            "Saving to: ‘full_grams_sg_300_twitter.zip’\n",
            "\n",
            "full_grams_sg_300_t 100%[===================>]   3.09G  22.3MB/s    in 2m 28s  \n",
            "\n",
            "2024-06-11 22:05:07 (21.4 MB/s) - ‘full_grams_sg_300_twitter.zip’ saved [3322543144/3322543144]\n",
            "\n"
          ]
        }
      ]
    },
    {
      "cell_type": "code",
      "source": [
        "!unzip \"/content/full_grams_sg_300_twitter.zip\""
      ],
      "metadata": {
        "colab": {
          "base_uri": "https://localhost:8080/"
        },
        "id": "l_60ZzrhjTBg",
        "outputId": "f2944287-ac79-458c-fdf9-25edde1bf901"
      },
      "execution_count": null,
      "outputs": [
        {
          "output_type": "stream",
          "name": "stdout",
          "text": [
            "Archive:  /content/full_grams_sg_300_twitter.zip\n",
            "  inflating: full_grams_sg_300_twitter.mdl  \n",
            "  inflating: full_grams_sg_300_twitter.mdl.trainables.syn1neg.npy  \n",
            "  inflating: full_grams_sg_300_twitter.mdl.wv.vectors.npy  \n"
          ]
        }
      ]
    },
    {
      "cell_type": "code",
      "source": [
        "w2v_model_sg = gensim.models.Word2Vec.load('/content/full_grams_sg_300_twitter.mdl')"
      ],
      "metadata": {
        "id": "5kNZ9BnmjS-C"
      },
      "execution_count": null,
      "outputs": []
    },
    {
      "cell_type": "code",
      "source": [
        "X_train_w2v_embeddings_sg = train_df['processed_text'].apply(lambda sent: get_doc_vec(sent, w2v_model_sg,'train'))\n",
        "X_val_w2v_embedding_sg = val_df['processed_text'].apply(lambda sent: get_doc_vec(sent, w2v_model_sg,'val'))\n",
        "\n",
        "X_test_w2v_embeddings_sg = df_test['processed_text'].apply(lambda sent: get_doc_vec(sent, w2v_model_sg,'test'))"
      ],
      "metadata": {
        "id": "kllccGzHjS4S"
      },
      "execution_count": null,
      "outputs": []
    },
    {
      "cell_type": "code",
      "source": [
        "X_train_w2v_embeddings_list_sg = []\n",
        "for embedding in X_train_w2v_embeddings_sg:\n",
        "    if embedding is not None:\n",
        "        X_train_w2v_embeddings_list_sg.append(embedding)\n",
        "    else:\n",
        "        # Handle cases where the embedding is None\n",
        "        X_train_w2v_embeddings_list_sg.append(np.zeros_like(X_train_w2v_embeddings_sg[0]))\n",
        "\n",
        "X_val_w2v_embeddings_list_sg = []\n",
        "for embedding in X_val_w2v_embedding_sg:\n",
        "    if embedding is not None:\n",
        "        X_val_w2v_embeddings_list_sg.append(embedding)\n",
        "    else:\n",
        "        # Handle cases where the embedding is None\n",
        "        X_val_w2v_embeddings_list_sg.append(np.zeros_like(X_val_w2v_embedding_sg[0]))\n",
        "\n",
        "X_test_w2v_embeddings_list_sg = []\n",
        "for embedding in X_test_w2v_embeddings_sg:\n",
        "    if embedding is not None:\n",
        "        X_test_w2v_embeddings_list_sg.append(embedding)\n",
        "    else:\n",
        "        # Handle cases where the embedding is None\n",
        "        X_test_w2v_embeddings_list_sg.append(np.zeros_like(X_test_w2v_embeddings_sg[0]))\n"
      ],
      "metadata": {
        "id": "RirtWG_ejdWW"
      },
      "execution_count": null,
      "outputs": []
    },
    {
      "cell_type": "markdown",
      "source": [
        "### Traditional models"
      ],
      "metadata": {
        "id": "oUgbk_OCSX4b"
      }
    },
    {
      "cell_type": "markdown",
      "source": [
        "#### Naive Bayes"
      ],
      "metadata": {
        "id": "J6bUBmNVSfxT"
      }
    },
    {
      "cell_type": "code",
      "source": [
        "clf_nb_w2v_sg= GaussianNB()\n",
        "clf_nb_w2v_sg.fit(X_train_w2v_embeddings_list_sg,train_df['Type'])\n",
        "\n",
        "y_pred_nb_w2v_sg_val = clf_nb_w2v_sg.predict(X_val_w2v_embeddings_list_sg)\n",
        "\n",
        "accuracy_nb_w2v_sg_val = accuracy_score(val_df['Type'], y_pred_nb_w2v_sg_val)\n",
        "precision_nb_w2v_sg_val = precision_score(val_df['Type'], y_pred_nb_w2v_sg_val, average='weighted')\n",
        "recall_nb_w2v_sg_val = recall_score(val_df['Type'], y_pred_nb_w2v_sg_val, average='weighted')\n",
        "f1_nb_w2v_sg_val = f1_score(val_df['Type'], y_pred_nb_w2v_sg_val, average='weighted')\n",
        "\n",
        "print(f\"Accuracy validation: {accuracy_nb_w2v_sg_val:.2f}\")\n",
        "print(f\"Precision validation: {precision_nb_w2v_sg_val:.2f}\")\n",
        "print(f\"Recall validation: {recall_nb_w2v_sg_val:.2f}\")\n",
        "print(f\"F1 Score validation: {f1_nb_w2v_sg_val:.2f}\")\n",
        "print(\"Classification Report for validation:\")\n",
        "print(classification_report(val_df['Type'], y_pred_nb_w2v_sg_val))\n",
        "sg_w2v_results['Naive Bayes Accuracy w2v sg val']=accuracy_nb_w2v_sg_val\n",
        "sg_w2v_results['Naive Bayes Precision w2v sg val']=precision_nb_w2v_sg_val\n",
        "sg_w2v_results['Naive Bayes  Recall w2v sg val']=recall_nb_w2v_sg_val\n",
        "sg_w2v_results['Naive Bayes  F1 w2v sg val']=f1_nb_w2v_sg_val"
      ],
      "metadata": {
        "id": "lPcvyCiRSizk",
        "colab": {
          "base_uri": "https://localhost:8080/"
        },
        "outputId": "0069e25e-413d-44e7-93c9-f2f6620ba02b"
      },
      "execution_count": null,
      "outputs": [
        {
          "output_type": "stream",
          "name": "stdout",
          "text": [
            "Accuracy validation: 0.88\n",
            "Precision validation: 0.89\n",
            "Recall validation: 0.88\n",
            "F1 Score validation: 0.88\n",
            "Classification Report for validation:\n",
            "              precision    recall  f1-score   support\n",
            "\n",
            "    economic       0.75      0.79      0.77       180\n",
            "    politics       0.91      0.91      0.91       601\n",
            "       sport       0.97      0.87      0.92       198\n",
            "        tech       0.53      0.86      0.65        21\n",
            "\n",
            "    accuracy                           0.88      1000\n",
            "   macro avg       0.79      0.86      0.81      1000\n",
            "weighted avg       0.89      0.88      0.88      1000\n",
            "\n"
          ]
        }
      ]
    },
    {
      "cell_type": "code",
      "source": [
        "y_pred_nb_w2v_sg_test = clf_nb_w2v_sg.predict(X_test_w2v_embeddings_list_sg)\n",
        "\n",
        "accuracy_nb_w2v_sg_test = accuracy_score(df_test['Type'], y_pred_nb_w2v_sg_test)\n",
        "precision_nb_w2v_sg_test = precision_score(df_test['Type'], y_pred_nb_w2v_sg_test, average='weighted')\n",
        "recall_nb_w2v_sg_test = recall_score(df_test['Type'], y_pred_nb_w2v_sg_test, average='weighted')\n",
        "f1_nb_w2v_sg_test = f1_score(df_test['Type'], y_pred_nb_w2v_sg_test, average='weighted')\n",
        "\n",
        "print(f\"Accuracy: {accuracy_nb_w2v_sg_test:.2f}\")\n",
        "print(f\"Precision : {precision_nb_w2v_sg_test:.2f}\")\n",
        "print(f\"Recall : {recall_nb_w2v_sg_test:.2f}\")\n",
        "print(f\"F1 Score : {f1_nb_w2v_sg_test:.2f}\")\n",
        "print(\"Classification Report for test:\")\n",
        "print(classification_report(df_test['Type'], y_pred_nb_w2v_sg_test))\n",
        "\n",
        "sg_w2v_results['Naive Bayes Accuracy w2v sg test']=accuracy_nb_w2v_sg_test\n",
        "sg_w2v_results['Naive Bayes Precision w2v sg test']=precision_nb_w2v_sg_test\n",
        "sg_w2v_results['Naive Bayes  Recall w2v sg test']=recall_nb_w2v_sg_test\n",
        "sg_w2v_results['Naive Bayes  F1 w2v sg test']=f1_nb_w2v_sg_test"
      ],
      "metadata": {
        "colab": {
          "base_uri": "https://localhost:8080/",
          "height": 330
        },
        "id": "LV-UvgINkmr9",
        "outputId": "b55da7dd-c7e8-4c11-93dd-e557ebdc92d9"
      },
      "execution_count": null,
      "outputs": [
        {
          "output_type": "stream",
          "name": "stdout",
          "text": [
            "Accuracy: 0.83\n",
            "Precision : 0.83\n",
            "Recall : 0.83\n",
            "F1 Score : 0.83\n",
            "Classification Report for test:\n",
            "              precision    recall  f1-score   support\n",
            "\n",
            "    economic       0.70      0.70      0.70       200\n",
            "    politics       0.84      0.88      0.86       512\n",
            "       sport       0.99      0.92      0.95       200\n",
            "        tech       0.71      0.64      0.67        88\n",
            "\n",
            "    accuracy                           0.83      1000\n",
            "   macro avg       0.81      0.78      0.80      1000\n",
            "weighted avg       0.83      0.83      0.83      1000\n",
            "\n"
          ]
        },
        {
          "output_type": "execute_result",
          "data": {
            "text/plain": [
              "\"\\nsg_w2v_results['Naive Bayes Accuracy w2v sg test']=accuracy_nb_w2v_sg_test\\nsg_w2v_results['Naive Bayes Precision w2v sg test']=precision_nb_w2v_sg_test\\nsg_w2v_results['Naive Bayes  Recall w2v sg test']=recall_nb_w2v_sg_test\\nsg_w2v_results['Naive Bayes  F1 w2v sg test']=f1_nb_w2v_sg_test\""
            ],
            "application/vnd.google.colaboratory.intrinsic+json": {
              "type": "string"
            }
          },
          "metadata": {},
          "execution_count": 92
        }
      ]
    },
    {
      "cell_type": "markdown",
      "source": [
        "#### Logestic Regression"
      ],
      "metadata": {
        "id": "wjI2fCV0SqXt"
      }
    },
    {
      "cell_type": "code",
      "source": [
        "clf_lr_w2v_sg = LogisticRegression(random_state=0)\n",
        "clf_lr_w2v_sg.fit(X_train_w2v_embeddings_list_sg, train_df['Type'])\n",
        "\n",
        "y_pred_lr_w2v_sg_val = clf_lr_w2v_sg.predict(X_val_w2v_embeddings_list_sg)\n",
        "\n",
        "accuracy_lr_w2v_sg_val = accuracy_score(val_df['Type'], y_pred_lr_w2v_sg_val)\n",
        "precision_lr_w2v_sg_val = precision_score(val_df['Type'], y_pred_lr_w2v_sg_val, average='weighted')\n",
        "recall_lr_w2v_sg_val = recall_score(val_df['Type'], y_pred_lr_w2v_sg_val, average='weighted')\n",
        "f1_lr_w2v_sg_val = f1_score(val_df['Type'], y_pred_lr_w2v_sg_val, average='weighted')\n",
        "\n",
        "print(f\"Accuracy validation: {accuracy_lr_w2v_sg_val:.2f}\")\n",
        "print(f\"Precision validation: {precision_lr_w2v_sg_val:.2f}\")\n",
        "print(f\"Recall validation: {recall_lr_w2v_sg_val:.2f}\")\n",
        "print(f\"F1 Score validation: {f1_lr_w2v_sg_val:.2f}\")\n",
        "print(\"Classification Report for validation:\")\n",
        "print(classification_report(val_df['Type'], y_pred_lr_w2v_sg_val))\n",
        "\n",
        "\n",
        "\n",
        "sg_w2v_results['Logistic Regression Accuracy w2v sg val']=accuracy_lr_w2v_sg_val\n",
        "sg_w2v_results['Logistic Regression Precision w2v sg val']=precision_lr_w2v_sg_val\n",
        "sg_w2v_results['Logistic Regression  Recall w2v sg val']=recall_lr_w2v_sg_val\n",
        "sg_w2v_results['Logistic Regression  F1 w2v sg val']=f1_lr_w2v_sg_val\n"
      ],
      "metadata": {
        "id": "edkDWAWAS7L6",
        "colab": {
          "base_uri": "https://localhost:8080/"
        },
        "outputId": "68cf20ed-2574-43b3-ce16-5c698f190726"
      },
      "execution_count": null,
      "outputs": [
        {
          "output_type": "stream",
          "name": "stdout",
          "text": [
            "Accuracy validation: 0.91\n",
            "Precision validation: 0.91\n",
            "Recall validation: 0.91\n",
            "F1 Score validation: 0.91\n",
            "Classification Report for validation:\n",
            "              precision    recall  f1-score   support\n",
            "\n",
            "    economic       0.88      0.76      0.82       180\n",
            "    politics       0.90      0.97      0.93       601\n",
            "       sport       0.97      0.91      0.94       198\n",
            "        tech       0.93      0.62      0.74        21\n",
            "\n",
            "    accuracy                           0.91      1000\n",
            "   macro avg       0.92      0.81      0.86      1000\n",
            "weighted avg       0.91      0.91      0.91      1000\n",
            "\n"
          ]
        },
        {
          "output_type": "stream",
          "name": "stderr",
          "text": [
            "/usr/local/lib/python3.10/dist-packages/sklearn/linear_model/_logistic.py:458: ConvergenceWarning: lbfgs failed to converge (status=1):\n",
            "STOP: TOTAL NO. of ITERATIONS REACHED LIMIT.\n",
            "\n",
            "Increase the number of iterations (max_iter) or scale the data as shown in:\n",
            "    https://scikit-learn.org/stable/modules/preprocessing.html\n",
            "Please also refer to the documentation for alternative solver options:\n",
            "    https://scikit-learn.org/stable/modules/linear_model.html#logistic-regression\n",
            "  n_iter_i = _check_optimize_result(\n"
          ]
        }
      ]
    },
    {
      "cell_type": "code",
      "source": [
        "y_pred_lr_w2v_sg_test = clf_lr_w2v_sg.predict(X_test_w2v_embeddings_list_sg)\n",
        "\n",
        "accuracy_lr_w2v_sg_test = accuracy_score(df_test['Type'], y_pred_lr_w2v_sg_test)\n",
        "precision_lr_w2v_sg_test = precision_score(df_test['Type'], y_pred_lr_w2v_sg_test, average='weighted')\n",
        "recall_lr_w2v_sg_test = recall_score(df_test['Type'], y_pred_lr_w2v_sg_test, average='weighted')\n",
        "f1_lr_w2v_sg_test = f1_score(df_test['Type'], y_pred_lr_w2v_sg_test, average='weighted')\n",
        "\n",
        "print(f\"Accuracy : {accuracy_lr_w2v_sg_test:.2f}\")\n",
        "print(f\"Precision : {precision_lr_w2v_sg_test:.2f}\")\n",
        "print(f\"Recall : {recall_lr_w2v_sg_test:.2f}\")\n",
        "print(f\"F1 Score : {f1_lr_w2v_sg_test:.2f}\")\n",
        "print(\"Classification Report for :\")\n",
        "print(classification_report(df_test['Type'], y_pred_lr_w2v_sg_test))\n",
        "\n",
        "sg_w2v_results['Logistic Regression Accuracy w2v sg test']=accuracy_lr_w2v_sg_test\n",
        "sg_w2v_results['Logistic Regression Precision w2v sg test']=precision_lr_w2v_sg_test\n",
        "sg_w2v_results['Logistic Regression  Recall w2v sg test']=recall_lr_w2v_sg_test\n",
        "sg_w2v_results['Logistic Regression  F1 w2v sg test']=f1_lr_w2v_sg_test\n"
      ],
      "metadata": {
        "colab": {
          "base_uri": "https://localhost:8080/",
          "height": 330
        },
        "id": "Frtnd8rzmKPk",
        "outputId": "ed6446e1-513a-476c-ab57-6ab591f5d14c"
      },
      "execution_count": null,
      "outputs": [
        {
          "output_type": "stream",
          "name": "stdout",
          "text": [
            "Accuracy : 0.84\n",
            "Precision : 0.85\n",
            "Recall : 0.84\n",
            "F1 Score : 0.83\n",
            "Classification Report for :\n",
            "              precision    recall  f1-score   support\n",
            "\n",
            "    economic       0.77      0.70      0.73       200\n",
            "    politics       0.82      0.94      0.88       512\n",
            "       sport       0.97      0.95      0.96       200\n",
            "        tech       0.89      0.38      0.53        88\n",
            "\n",
            "    accuracy                           0.84      1000\n",
            "   macro avg       0.86      0.74      0.77      1000\n",
            "weighted avg       0.85      0.84      0.83      1000\n",
            "\n"
          ]
        },
        {
          "output_type": "execute_result",
          "data": {
            "text/plain": [
              "\"\\nsg_w2v_results['Logistic Regression Accuracy w2v sg test']=accuracy_lr_w2v_sg_test\\nsg_w2v_results['Logistic Regression Precision w2v sg test']=precision_lr_w2v_sg_test\\nsg_w2v_results['Logistic Regression  Recall w2v sg test']=recall_lr_w2v_sg_test\\nsg_w2v_results['Logistic Regression  F1 w2v sg test']=f1_lr_w2v_sg_test\""
            ],
            "application/vnd.google.colaboratory.intrinsic+json": {
              "type": "string"
            }
          },
          "metadata": {},
          "execution_count": 93
        }
      ]
    },
    {
      "cell_type": "markdown",
      "source": [
        "### Neural Network"
      ],
      "metadata": {
        "id": "OlH1Q6BvS7pv"
      }
    },
    {
      "cell_type": "markdown",
      "source": [
        "#### embedding weights"
      ],
      "metadata": {
        "id": "Nm6fpW6pe6aJ"
      }
    },
    {
      "cell_type": "code",
      "source": [
        "embedding_weight_matrix_w2v_sg=np.zeros((total_words,300))\n",
        "\n",
        "for word, i in tokenizer.word_index.items():\n",
        "  if word in w2v_model_sg.wv:\n",
        "    embedding_weight_matrix_w2v_sg[i]=w2v_model_sg.wv[word]\n",
        "  else:\n",
        "    embedding_weight_matrix_w2v_sg[i]=np.random.uniform(-25,25)\n"
      ],
      "metadata": {
        "id": "7UEnsHoPe5g8"
      },
      "execution_count": null,
      "outputs": []
    },
    {
      "cell_type": "markdown",
      "source": [
        "#### LSTM"
      ],
      "metadata": {
        "id": "_l0afM8yS_Zo"
      }
    },
    {
      "cell_type": "code",
      "source": [
        "model_LSTM_w2v_sg=Sequential()\n",
        "model_LSTM_w2v_sg.add(Embedding(input_dim=total_words,\n",
        "                    output_dim=300,\n",
        "                    input_length=max_sequence_len\n",
        "                    ,weights=[embedding_weight_matrix_w2v_sg],trainable=False))\n",
        "model_LSTM_w2v_sg.add(LSTM(100))\n",
        "model_LSTM_w2v_sg.add(Dense(4,activation='softmax'))\n",
        "adam=Adam(learning_rate=0.01)\n",
        "model_LSTM_w2v_sg.compile(loss='categorical_crossentropy',optimizer=adam,metrics=['accuracy'])\n",
        "model_LSTM_w2v_sg.fit(padded_train,y_train_one_hot_encoded,epochs=10,verbose=1)\n",
        "\n",
        "\n"
      ],
      "metadata": {
        "id": "cvBSKdj4TBeJ",
        "colab": {
          "base_uri": "https://localhost:8080/"
        },
        "outputId": "2457b115-a1b3-4dd0-ec5a-e2ca47d8c353"
      },
      "execution_count": null,
      "outputs": [
        {
          "output_type": "stream",
          "name": "stdout",
          "text": [
            "Epoch 1/10\n",
            "125/125 [==============================] - 2s 4ms/step - loss: 0.4425 - accuracy: 0.8462\n",
            "Epoch 2/10\n",
            "125/125 [==============================] - 1s 4ms/step - loss: 0.2511 - accuracy: 0.9147\n",
            "Epoch 3/10\n",
            "125/125 [==============================] - 1s 4ms/step - loss: 0.1620 - accuracy: 0.9467\n",
            "Epoch 4/10\n",
            "125/125 [==============================] - 1s 4ms/step - loss: 0.1163 - accuracy: 0.9590\n",
            "Epoch 5/10\n",
            "125/125 [==============================] - 1s 4ms/step - loss: 0.0598 - accuracy: 0.9820\n",
            "Epoch 6/10\n",
            "125/125 [==============================] - 1s 4ms/step - loss: 0.0359 - accuracy: 0.9900\n",
            "Epoch 7/10\n",
            "125/125 [==============================] - 1s 4ms/step - loss: 0.0391 - accuracy: 0.9883\n",
            "Epoch 8/10\n",
            "125/125 [==============================] - 1s 4ms/step - loss: 0.0507 - accuracy: 0.9830\n",
            "Epoch 9/10\n",
            "125/125 [==============================] - 1s 4ms/step - loss: 0.0426 - accuracy: 0.9852\n",
            "Epoch 10/10\n",
            "125/125 [==============================] - 1s 4ms/step - loss: 0.0521 - accuracy: 0.9833\n"
          ]
        },
        {
          "output_type": "execute_result",
          "data": {
            "text/plain": [
              "<keras.src.callbacks.History at 0x7f8ce9ce9960>"
            ]
          },
          "metadata": {},
          "execution_count": 80
        }
      ]
    },
    {
      "cell_type": "code",
      "source": [
        "val_loss_lstm_w2v_sg, val_accuracy_lstm_w2v_sg= model_LSTM_w2v_sg.evaluate(padded_val, y_val_one_hot_encoded, verbose=1)\n",
        "print(f'validation Accuracy: {val_accuracy_lstm_w2v_sg}')\n",
        "y_pred = model_LSTM_w2v_sg.predict(padded_val)\n",
        "y_pred_lstm_w2v_sg_val = np.argmax(y_pred, axis=1)\n",
        "accuracy_lstm_w2v_sg_val = accuracy_score(y_val, y_pred_lstm_w2v_sg_val)\n",
        "precision_lstm_w2v_sg_val = precision_score(y_val, y_pred_lstm_w2v_sg_val, average='weighted')\n",
        "recall_lstm_w2v_sg_val = recall_score(y_val, y_pred_lstm_w2v_sg_val, average='weighted')\n",
        "f1_lstm_w2v_sg_val = f1_score(y_val,y_pred_lstm_w2v_sg_val, average='weighted')\n",
        "print(\"Classification report\")\n",
        "print(classification_report(y_val, y_pred_lstm_w2v_sg_val))\n",
        "print(f'Accuracy: {accuracy_lstm_w2v_sg_val:.4f}')\n",
        "print(f'Precision: {precision_lstm_w2v_sg_val:.4f}')\n",
        "print(f'Recall: {recall_lstm_w2v_sg_val:.4f}')\n",
        "print(f'F1 Score: {f1_lstm_w2v_sg_val:.4f}')\n",
        "sg_w2v_results['LSTM Accuracy w2v sg val']=accuracy_lstm_w2v_sg_val\n",
        "sg_w2v_results['LSTM Precision w2v sg val']=precision_lstm_w2v_sg_val\n",
        "sg_w2v_results['LSTM  Recall w2v sg val']=recall_lstm_w2v_sg_val\n",
        "sg_w2v_results['LSTM  F1 w2v sg val']=f1_lstm_w2v_sg_val\n"
      ],
      "metadata": {
        "colab": {
          "base_uri": "https://localhost:8080/"
        },
        "id": "bg5nVk70mm1-",
        "outputId": "fe71797c-f461-4027-a369-6e4ba142c0f1"
      },
      "execution_count": null,
      "outputs": [
        {
          "output_type": "stream",
          "name": "stdout",
          "text": [
            "32/32 [==============================] - 1s 3ms/step - loss: 0.4592 - accuracy: 0.8900\n",
            "validation Accuracy: 0.8899999856948853\n",
            "32/32 [==============================] - 0s 2ms/step\n",
            "Classification report\n",
            "              precision    recall  f1-score   support\n",
            "\n",
            "           0       0.74      0.83      0.78       180\n",
            "           1       0.93      0.93      0.93       601\n",
            "           2       0.96      0.87      0.91       198\n",
            "           3       0.47      0.43      0.45        21\n",
            "\n",
            "    accuracy                           0.89      1000\n",
            "   macro avg       0.78      0.76      0.77      1000\n",
            "weighted avg       0.89      0.89      0.89      1000\n",
            "\n",
            "Accuracy: 0.8900\n",
            "Precision: 0.8932\n",
            "Recall: 0.8900\n",
            "F1 Score: 0.8908\n"
          ]
        }
      ]
    },
    {
      "cell_type": "code",
      "source": [
        "test_loss_lstm_w2v_sg, test_accuracy_lstm_w2v_sg = model_LSTM_w2v_sg.evaluate(padded_test, y_test_one_hot_encoded, verbose=1)\n",
        "print(f'Test Accuracy: {test_accuracy_lstm_w2v_sg}')\n",
        "y_pred = model_LSTM_w2v_sg.predict(padded_test)\n",
        "y_pred_lstm_w2v_sg_test = np.argmax(y_pred, axis=1)\n",
        "accuracy_lstm_w2v_sg_test = accuracy_score(y_test, y_pred_lstm_w2v_sg_test)\n",
        "precision_lstm_w2v_sg_test = precision_score(y_test, y_pred_lstm_w2v_sg_test, average='weighted')\n",
        "recall_lstm_w2v_sg_test = recall_score(y_test, y_pred_lstm_w2v_sg_test, average='weighted')\n",
        "f1_lstm_w2v_sg_test = f1_score(y_test,y_pred_lstm_w2v_sg_test, average='weighted')\n",
        "print(\"Classification report\")\n",
        "print(classification_report(y_test, y_pred_lstm_w2v_sg_test))\n",
        "print(f'Accuracy: {accuracy_lstm_w2v_sg_test:.4f}')\n",
        "print(f'Precision: {precision_lstm_w2v_sg_test:.4f}')\n",
        "print(f'Recall: {recall_lstm_w2v_sg_test:.4f}')\n",
        "print(f'F1 Score: {f1_lstm_w2v_sg_test:.4f}')\n",
        "sg_w2v_results['LSTM Accuracy w2v sg test']=accuracy_lstm_w2v_sg_test\n",
        "sg_w2v_results['LSTM Precision w2v sg test']=precision_lstm_w2v_sg_test\n",
        "sg_w2v_results['LSTM  Recall w2v sg test']=recall_lstm_w2v_sg_test\n",
        "sg_w2v_results['LSTM  F1 w2v sg test']=f1_lstm_w2v_sg_test"
      ],
      "metadata": {
        "colab": {
          "base_uri": "https://localhost:8080/"
        },
        "id": "1cC1uEVVmgnp",
        "outputId": "44cbd6bd-6845-43f5-aa41-b91013276814"
      },
      "execution_count": null,
      "outputs": [
        {
          "output_type": "stream",
          "name": "stdout",
          "text": [
            "32/32 [==============================] - 0s 3ms/step - loss: 0.8517 - accuracy: 0.7990\n",
            "Test Accuracy: 0.7990000247955322\n",
            "32/32 [==============================] - 0s 2ms/step\n",
            "Classification report\n",
            "              precision    recall  f1-score   support\n",
            "\n",
            "           0       0.59      0.76      0.66       200\n",
            "           1       0.84      0.85      0.85       512\n",
            "           2       0.95      0.93      0.94       200\n",
            "           3       0.86      0.28      0.43        88\n",
            "\n",
            "    accuracy                           0.80      1000\n",
            "   macro avg       0.81      0.71      0.72      1000\n",
            "weighted avg       0.81      0.80      0.79      1000\n",
            "\n",
            "Accuracy: 0.7990\n",
            "Precision: 0.8144\n",
            "Recall: 0.7990\n",
            "F1 Score: 0.7918\n"
          ]
        }
      ]
    },
    {
      "cell_type": "markdown",
      "source": [
        "#### RNN"
      ],
      "metadata": {
        "id": "8sLX-fY8TCI3"
      }
    },
    {
      "cell_type": "code",
      "source": [
        "model_rnn_w2v_sg=Sequential()\n",
        "model_rnn_w2v_sg.add(Embedding(input_dim=total_words,\n",
        "                    output_dim=300,\n",
        "                    input_length=max_sequence_len\n",
        "                    ,weights=[embedding_weight_matrix_w2v_sg],trainable=False))\n",
        "model_rnn_w2v_sg.add(SimpleRNN(100))\n",
        "model_rnn_w2v_sg.add(Dense(4,activation='softmax'))\n",
        "adam=Adam(learning_rate=0.01)\n",
        "model_rnn_w2v_sg.compile(loss='categorical_crossentropy',optimizer=adam,metrics=['accuracy'])\n",
        "model_rnn_w2v_sg.fit(padded_train,y_train_one_hot_encoded,epochs=10,verbose=1)"
      ],
      "metadata": {
        "id": "xTBr1xLTTDpr",
        "colab": {
          "base_uri": "https://localhost:8080/"
        },
        "outputId": "1e6050e1-9f4b-4e9f-d1ba-8d80c49613e3"
      },
      "execution_count": null,
      "outputs": [
        {
          "output_type": "stream",
          "name": "stdout",
          "text": [
            "Epoch 1/10\n",
            "125/125 [==============================] - 3s 18ms/step - loss: 0.8384 - accuracy: 0.6877\n",
            "Epoch 2/10\n",
            "125/125 [==============================] - 3s 21ms/step - loss: 0.6210 - accuracy: 0.7648\n",
            "Epoch 3/10\n",
            "125/125 [==============================] - 2s 13ms/step - loss: 0.5753 - accuracy: 0.7745\n",
            "Epoch 4/10\n",
            "125/125 [==============================] - 2s 13ms/step - loss: 0.5596 - accuracy: 0.7947\n",
            "Epoch 5/10\n",
            "125/125 [==============================] - 2s 13ms/step - loss: 0.5233 - accuracy: 0.7997\n",
            "Epoch 6/10\n",
            "125/125 [==============================] - 2s 12ms/step - loss: 0.4773 - accuracy: 0.8202\n",
            "Epoch 7/10\n",
            "125/125 [==============================] - 2s 12ms/step - loss: 0.4809 - accuracy: 0.8180\n",
            "Epoch 8/10\n",
            "125/125 [==============================] - 2s 12ms/step - loss: 0.4822 - accuracy: 0.8108\n",
            "Epoch 9/10\n",
            "125/125 [==============================] - 2s 18ms/step - loss: 0.4758 - accuracy: 0.8145\n",
            "Epoch 10/10\n",
            "125/125 [==============================] - 3s 21ms/step - loss: 0.4475 - accuracy: 0.8253\n"
          ]
        },
        {
          "output_type": "execute_result",
          "data": {
            "text/plain": [
              "<keras.src.callbacks.History at 0x7f8d210547c0>"
            ]
          },
          "metadata": {},
          "execution_count": 83
        }
      ]
    },
    {
      "cell_type": "code",
      "source": [
        "val_loss_rnn_w2v_sg, val_accuracy_lstm_w2v_sg= model_rnn_w2v_sg.evaluate(padded_val, y_val_one_hot_encoded, verbose=1)\n",
        "print(f'Test Accuracy: {val_accuracy_lstm_w2v_sg}')\n",
        "y_pred = model_rnn_w2v_sg.predict(padded_val)\n",
        "y_pred_rnn_w2v_sg_val = np.argmax(y_pred, axis=1)\n",
        "accuracy_rnn_w2v_sg_val = accuracy_score(y_val, y_pred_rnn_w2v_sg_val )\n",
        "precision_rnn_w2v_sg_val = precision_score(y_val, y_pred_rnn_w2v_sg_val , average='weighted')\n",
        "recall_rnn_w2v_sg_val = recall_score(y_val, y_pred_rnn_w2v_sg_val , average='weighted')\n",
        "f1_rnn_w2v_sg_val = f1_score(y_val,y_pred_rnn_w2v_sg_val , average='weighted')\n",
        "print('Classification report')\n",
        "print(classification_report(y_val, y_pred_rnn_w2v_sg_val))\n",
        "print(f'Accuracy: {accuracy_rnn_w2v_sg_val:.4f}')\n",
        "print(f'Precision: {precision_rnn_w2v_sg_val:.4f}')\n",
        "print(f'Recall: {recall_rnn_w2v_sg_val:.4f}')\n",
        "print(f'F1 Score: {f1_rnn_w2v_sg_val:.4f}')\n",
        "sg_w2v_results['RNN Accuracy w2v sg val']=accuracy_rnn_w2v_sg_val\n",
        "sg_w2v_results['RNN Precision w2v sg val']=precision_rnn_w2v_sg_val\n",
        "sg_w2v_results['RNN  Recall w2v sg val']=recall_rnn_w2v_sg_val\n",
        "sg_w2v_results['RNN  F1 w2v sg val']=f1_rnn_w2v_sg_val"
      ],
      "metadata": {
        "colab": {
          "base_uri": "https://localhost:8080/"
        },
        "id": "vKQdKVa9mqdS",
        "outputId": "90415114-a489-4799-deda-25b162215a50"
      },
      "execution_count": null,
      "outputs": [
        {
          "output_type": "stream",
          "name": "stdout",
          "text": [
            "32/32 [==============================] - 0s 4ms/step - loss: 0.6292 - accuracy: 0.7790\n",
            "Test Accuracy: 0.7789999842643738\n",
            "32/32 [==============================] - 0s 3ms/step\n",
            "Classification report\n",
            "              precision    recall  f1-score   support\n",
            "\n",
            "           0       0.62      0.58      0.60       180\n",
            "           1       0.81      0.89      0.85       601\n",
            "           2       0.91      0.65      0.76       198\n",
            "           3       0.35      0.52      0.42        21\n",
            "\n",
            "    accuracy                           0.78      1000\n",
            "   macro avg       0.67      0.66      0.66      1000\n",
            "weighted avg       0.79      0.78      0.78      1000\n",
            "\n",
            "Accuracy: 0.7790\n",
            "Precision: 0.7868\n",
            "Recall: 0.7790\n",
            "F1 Score: 0.7770\n"
          ]
        }
      ]
    },
    {
      "cell_type": "code",
      "source": [
        "test_loss_lstm_w2v_sg, test_accuracy_lstm_w2v_sg = model_rnn_w2v_sg.evaluate(padded_test, y_test_one_hot_encoded, verbose=1)\n",
        "print(f'Test Accuracy: {test_accuracy_lstm_w2v_sg}')\n",
        "\n",
        "y_pred = model_rnn_w2v_sg.predict(padded_test)\n",
        "y_pred_rnn_w2v_sg_test = np.argmax(y_pred, axis=1)\n",
        "accuracy_rnn_w2v_sg_test = accuracy_score(y_val, y_pred_rnn_w2v_sg_test )\n",
        "precision_rnn_w2v_sg_test = precision_score(y_val, y_pred_rnn_w2v_sg_test , average='weighted')\n",
        "recall_rnn_w2v_sg_test = recall_score(y_val, y_pred_rnn_w2v_sg_test , average='weighted')\n",
        "f1_rnn_w2v_sg_test = f1_score(y_val,y_pred_rnn_w2v_sg_test , average='weighted')\n",
        "print('Classification report')\n",
        "print(classification_report(y_test, y_pred_rnn_w2v_sg_test))\n",
        "print(f'Accuracy: {accuracy_rnn_w2v_sg_test:.4f}')\n",
        "print(f'Precision: {precision_rnn_w2v_sg_test:.4f}')\n",
        "print(f'Recall: {recall_rnn_w2v_sg_test:.4f}')\n",
        "print(f'F1 Score: {f1_rnn_w2v_sg_test:.4f}')\n",
        "sg_w2v_results['RNN Accuracy w2v sg test']=accuracy_rnn_w2v_sg_test\n",
        "sg_w2v_results['RNN Precision w2v sg test']=precision_rnn_w2v_sg_test\n",
        "sg_w2v_results['RNN  Recall w2v sg test']=recall_rnn_w2v_sg_test\n",
        "sg_w2v_results['RNN  F1 w2v sg test']=f1_rnn_w2v_sg_test"
      ],
      "metadata": {
        "colab": {
          "base_uri": "https://localhost:8080/"
        },
        "id": "JvEkuxPCmwG-",
        "outputId": "80a4c135-8aa6-451a-9cf5-25035fc4e3fb"
      },
      "execution_count": null,
      "outputs": [
        {
          "output_type": "stream",
          "name": "stdout",
          "text": [
            "32/32 [==============================] - 0s 4ms/step - loss: 0.9862 - accuracy: 0.6900\n",
            "Test Accuracy: 0.6899999976158142\n",
            "32/32 [==============================] - 0s 4ms/step\n",
            "Classification report\n",
            "              precision    recall  f1-score   support\n",
            "\n",
            "           0       0.58      0.47      0.52       200\n",
            "           1       0.69      0.90      0.78       512\n",
            "           2       0.87      0.61      0.72       200\n",
            "           3       0.52      0.14      0.22        88\n",
            "\n",
            "    accuracy                           0.69      1000\n",
            "   macro avg       0.66      0.53      0.56      1000\n",
            "weighted avg       0.69      0.69      0.67      1000\n",
            "\n",
            "Accuracy: 0.4450\n",
            "Precision: 0.4133\n",
            "Recall: 0.4450\n",
            "F1 Score: 0.4272\n"
          ]
        }
      ]
    },
    {
      "cell_type": "markdown",
      "source": [
        "#### Evaluation of Word2Vec skipgram"
      ],
      "metadata": {
        "id": "Sx09AXujTEz8"
      }
    },
    {
      "cell_type": "code",
      "source": [
        "sg_w2v_results_list=[{'performance metric & model':k,\"results\":v} for k,v in sg_w2v_results.items()]\n",
        "sg_w2v_df_results=pd.DataFrame(sg_w2v_results_list)\n",
        "sg_w2v_df_results"
      ],
      "metadata": {
        "id": "XWQuEDAITLPs",
        "colab": {
          "base_uri": "https://localhost:8080/",
          "height": 1000
        },
        "outputId": "aa9baa8f-ad01-4ac0-ca0b-52439fda4d41"
      },
      "execution_count": null,
      "outputs": [
        {
          "output_type": "execute_result",
          "data": {
            "text/plain": [
              "                   performance metric & model   results\n",
              "0             Naive Bayes Accuracy w2v sg val  0.880000\n",
              "1            Naive Bayes Precision w2v sg val  0.887769\n",
              "2              Naive Bayes  Recall w2v sg val  0.880000\n",
              "3                  Naive Bayes  F1 w2v sg val  0.882449\n",
              "4            Naive Bayes Accuracy w2v sg test  0.832000\n",
              "5           Naive Bayes Precision w2v sg test  0.832979\n",
              "6             Naive Bayes  Recall w2v sg test  0.832000\n",
              "7                 Naive Bayes  F1 w2v sg test  0.831797\n",
              "8     Logistic Regression Accuracy w2v sg val  0.911000\n",
              "9    Logistic Regression Precision w2v sg val  0.911339\n",
              "10     Logistic Regression  Recall w2v sg val  0.911000\n",
              "11         Logistic Regression  F1 w2v sg val  0.908975\n",
              "12   Logistic Regression Accuracy w2v sg test  0.844000\n",
              "13  Logistic Regression Precision w2v sg test  0.847188\n",
              "14    Logistic Regression  Recall w2v sg test  0.844000\n",
              "15        Logistic Regression  F1 w2v sg test  0.833972\n",
              "16                   LSTM Accuracy w2v sg val  0.890000\n",
              "17                  LSTM Precision w2v sg val  0.893247\n",
              "18                    LSTM  Recall w2v sg val  0.890000\n",
              "19                        LSTM  F1 w2v sg val  0.890798\n",
              "20                  LSTM Accuracy w2v sg test  0.799000\n",
              "21                 LSTM Precision w2v sg test  0.814366\n",
              "22                   LSTM  Recall w2v sg test  0.799000\n",
              "23                       LSTM  F1 w2v sg test  0.791845\n",
              "24                    RNN Accuracy w2v sg val  0.779000\n",
              "25                   RNN Precision w2v sg val  0.786791\n",
              "26                     RNN  Recall w2v sg val  0.779000\n",
              "27                         RNN  F1 w2v sg val  0.777012\n",
              "28                   RNN Accuracy w2v sg test  0.445000\n",
              "29                  RNN Precision w2v sg test  0.413297\n",
              "30                    RNN  Recall w2v sg test  0.445000\n",
              "31                        RNN  F1 w2v sg test  0.427209"
            ],
            "text/html": [
              "\n",
              "  <div id=\"df-15c32a5e-2054-4818-9439-693860d48e01\" class=\"colab-df-container\">\n",
              "    <div>\n",
              "<style scoped>\n",
              "    .dataframe tbody tr th:only-of-type {\n",
              "        vertical-align: middle;\n",
              "    }\n",
              "\n",
              "    .dataframe tbody tr th {\n",
              "        vertical-align: top;\n",
              "    }\n",
              "\n",
              "    .dataframe thead th {\n",
              "        text-align: right;\n",
              "    }\n",
              "</style>\n",
              "<table border=\"1\" class=\"dataframe\">\n",
              "  <thead>\n",
              "    <tr style=\"text-align: right;\">\n",
              "      <th></th>\n",
              "      <th>performance metric &amp; model</th>\n",
              "      <th>results</th>\n",
              "    </tr>\n",
              "  </thead>\n",
              "  <tbody>\n",
              "    <tr>\n",
              "      <th>0</th>\n",
              "      <td>Naive Bayes Accuracy w2v sg val</td>\n",
              "      <td>0.880000</td>\n",
              "    </tr>\n",
              "    <tr>\n",
              "      <th>1</th>\n",
              "      <td>Naive Bayes Precision w2v sg val</td>\n",
              "      <td>0.887769</td>\n",
              "    </tr>\n",
              "    <tr>\n",
              "      <th>2</th>\n",
              "      <td>Naive Bayes  Recall w2v sg val</td>\n",
              "      <td>0.880000</td>\n",
              "    </tr>\n",
              "    <tr>\n",
              "      <th>3</th>\n",
              "      <td>Naive Bayes  F1 w2v sg val</td>\n",
              "      <td>0.882449</td>\n",
              "    </tr>\n",
              "    <tr>\n",
              "      <th>4</th>\n",
              "      <td>Naive Bayes Accuracy w2v sg test</td>\n",
              "      <td>0.832000</td>\n",
              "    </tr>\n",
              "    <tr>\n",
              "      <th>5</th>\n",
              "      <td>Naive Bayes Precision w2v sg test</td>\n",
              "      <td>0.832979</td>\n",
              "    </tr>\n",
              "    <tr>\n",
              "      <th>6</th>\n",
              "      <td>Naive Bayes  Recall w2v sg test</td>\n",
              "      <td>0.832000</td>\n",
              "    </tr>\n",
              "    <tr>\n",
              "      <th>7</th>\n",
              "      <td>Naive Bayes  F1 w2v sg test</td>\n",
              "      <td>0.831797</td>\n",
              "    </tr>\n",
              "    <tr>\n",
              "      <th>8</th>\n",
              "      <td>Logistic Regression Accuracy w2v sg val</td>\n",
              "      <td>0.911000</td>\n",
              "    </tr>\n",
              "    <tr>\n",
              "      <th>9</th>\n",
              "      <td>Logistic Regression Precision w2v sg val</td>\n",
              "      <td>0.911339</td>\n",
              "    </tr>\n",
              "    <tr>\n",
              "      <th>10</th>\n",
              "      <td>Logistic Regression  Recall w2v sg val</td>\n",
              "      <td>0.911000</td>\n",
              "    </tr>\n",
              "    <tr>\n",
              "      <th>11</th>\n",
              "      <td>Logistic Regression  F1 w2v sg val</td>\n",
              "      <td>0.908975</td>\n",
              "    </tr>\n",
              "    <tr>\n",
              "      <th>12</th>\n",
              "      <td>Logistic Regression Accuracy w2v sg test</td>\n",
              "      <td>0.844000</td>\n",
              "    </tr>\n",
              "    <tr>\n",
              "      <th>13</th>\n",
              "      <td>Logistic Regression Precision w2v sg test</td>\n",
              "      <td>0.847188</td>\n",
              "    </tr>\n",
              "    <tr>\n",
              "      <th>14</th>\n",
              "      <td>Logistic Regression  Recall w2v sg test</td>\n",
              "      <td>0.844000</td>\n",
              "    </tr>\n",
              "    <tr>\n",
              "      <th>15</th>\n",
              "      <td>Logistic Regression  F1 w2v sg test</td>\n",
              "      <td>0.833972</td>\n",
              "    </tr>\n",
              "    <tr>\n",
              "      <th>16</th>\n",
              "      <td>LSTM Accuracy w2v sg val</td>\n",
              "      <td>0.890000</td>\n",
              "    </tr>\n",
              "    <tr>\n",
              "      <th>17</th>\n",
              "      <td>LSTM Precision w2v sg val</td>\n",
              "      <td>0.893247</td>\n",
              "    </tr>\n",
              "    <tr>\n",
              "      <th>18</th>\n",
              "      <td>LSTM  Recall w2v sg val</td>\n",
              "      <td>0.890000</td>\n",
              "    </tr>\n",
              "    <tr>\n",
              "      <th>19</th>\n",
              "      <td>LSTM  F1 w2v sg val</td>\n",
              "      <td>0.890798</td>\n",
              "    </tr>\n",
              "    <tr>\n",
              "      <th>20</th>\n",
              "      <td>LSTM Accuracy w2v sg test</td>\n",
              "      <td>0.799000</td>\n",
              "    </tr>\n",
              "    <tr>\n",
              "      <th>21</th>\n",
              "      <td>LSTM Precision w2v sg test</td>\n",
              "      <td>0.814366</td>\n",
              "    </tr>\n",
              "    <tr>\n",
              "      <th>22</th>\n",
              "      <td>LSTM  Recall w2v sg test</td>\n",
              "      <td>0.799000</td>\n",
              "    </tr>\n",
              "    <tr>\n",
              "      <th>23</th>\n",
              "      <td>LSTM  F1 w2v sg test</td>\n",
              "      <td>0.791845</td>\n",
              "    </tr>\n",
              "    <tr>\n",
              "      <th>24</th>\n",
              "      <td>RNN Accuracy w2v sg val</td>\n",
              "      <td>0.779000</td>\n",
              "    </tr>\n",
              "    <tr>\n",
              "      <th>25</th>\n",
              "      <td>RNN Precision w2v sg val</td>\n",
              "      <td>0.786791</td>\n",
              "    </tr>\n",
              "    <tr>\n",
              "      <th>26</th>\n",
              "      <td>RNN  Recall w2v sg val</td>\n",
              "      <td>0.779000</td>\n",
              "    </tr>\n",
              "    <tr>\n",
              "      <th>27</th>\n",
              "      <td>RNN  F1 w2v sg val</td>\n",
              "      <td>0.777012</td>\n",
              "    </tr>\n",
              "    <tr>\n",
              "      <th>28</th>\n",
              "      <td>RNN Accuracy w2v sg test</td>\n",
              "      <td>0.445000</td>\n",
              "    </tr>\n",
              "    <tr>\n",
              "      <th>29</th>\n",
              "      <td>RNN Precision w2v sg test</td>\n",
              "      <td>0.413297</td>\n",
              "    </tr>\n",
              "    <tr>\n",
              "      <th>30</th>\n",
              "      <td>RNN  Recall w2v sg test</td>\n",
              "      <td>0.445000</td>\n",
              "    </tr>\n",
              "    <tr>\n",
              "      <th>31</th>\n",
              "      <td>RNN  F1 w2v sg test</td>\n",
              "      <td>0.427209</td>\n",
              "    </tr>\n",
              "  </tbody>\n",
              "</table>\n",
              "</div>\n",
              "    <div class=\"colab-df-buttons\">\n",
              "\n",
              "  <div class=\"colab-df-container\">\n",
              "    <button class=\"colab-df-convert\" onclick=\"convertToInteractive('df-15c32a5e-2054-4818-9439-693860d48e01')\"\n",
              "            title=\"Convert this dataframe to an interactive table.\"\n",
              "            style=\"display:none;\">\n",
              "\n",
              "  <svg xmlns=\"http://www.w3.org/2000/svg\" height=\"24px\" viewBox=\"0 -960 960 960\">\n",
              "    <path d=\"M120-120v-720h720v720H120Zm60-500h600v-160H180v160Zm220 220h160v-160H400v160Zm0 220h160v-160H400v160ZM180-400h160v-160H180v160Zm440 0h160v-160H620v160ZM180-180h160v-160H180v160Zm440 0h160v-160H620v160Z\"/>\n",
              "  </svg>\n",
              "    </button>\n",
              "\n",
              "  <style>\n",
              "    .colab-df-container {\n",
              "      display:flex;\n",
              "      gap: 12px;\n",
              "    }\n",
              "\n",
              "    .colab-df-convert {\n",
              "      background-color: #E8F0FE;\n",
              "      border: none;\n",
              "      border-radius: 50%;\n",
              "      cursor: pointer;\n",
              "      display: none;\n",
              "      fill: #1967D2;\n",
              "      height: 32px;\n",
              "      padding: 0 0 0 0;\n",
              "      width: 32px;\n",
              "    }\n",
              "\n",
              "    .colab-df-convert:hover {\n",
              "      background-color: #E2EBFA;\n",
              "      box-shadow: 0px 1px 2px rgba(60, 64, 67, 0.3), 0px 1px 3px 1px rgba(60, 64, 67, 0.15);\n",
              "      fill: #174EA6;\n",
              "    }\n",
              "\n",
              "    .colab-df-buttons div {\n",
              "      margin-bottom: 4px;\n",
              "    }\n",
              "\n",
              "    [theme=dark] .colab-df-convert {\n",
              "      background-color: #3B4455;\n",
              "      fill: #D2E3FC;\n",
              "    }\n",
              "\n",
              "    [theme=dark] .colab-df-convert:hover {\n",
              "      background-color: #434B5C;\n",
              "      box-shadow: 0px 1px 3px 1px rgba(0, 0, 0, 0.15);\n",
              "      filter: drop-shadow(0px 1px 2px rgba(0, 0, 0, 0.3));\n",
              "      fill: #FFFFFF;\n",
              "    }\n",
              "  </style>\n",
              "\n",
              "    <script>\n",
              "      const buttonEl =\n",
              "        document.querySelector('#df-15c32a5e-2054-4818-9439-693860d48e01 button.colab-df-convert');\n",
              "      buttonEl.style.display =\n",
              "        google.colab.kernel.accessAllowed ? 'block' : 'none';\n",
              "\n",
              "      async function convertToInteractive(key) {\n",
              "        const element = document.querySelector('#df-15c32a5e-2054-4818-9439-693860d48e01');\n",
              "        const dataTable =\n",
              "          await google.colab.kernel.invokeFunction('convertToInteractive',\n",
              "                                                    [key], {});\n",
              "        if (!dataTable) return;\n",
              "\n",
              "        const docLinkHtml = 'Like what you see? Visit the ' +\n",
              "          '<a target=\"_blank\" href=https://colab.research.google.com/notebooks/data_table.ipynb>data table notebook</a>'\n",
              "          + ' to learn more about interactive tables.';\n",
              "        element.innerHTML = '';\n",
              "        dataTable['output_type'] = 'display_data';\n",
              "        await google.colab.output.renderOutput(dataTable, element);\n",
              "        const docLink = document.createElement('div');\n",
              "        docLink.innerHTML = docLinkHtml;\n",
              "        element.appendChild(docLink);\n",
              "      }\n",
              "    </script>\n",
              "  </div>\n",
              "\n",
              "\n",
              "<div id=\"df-826f64de-ba6e-473a-9d64-b2e07562b064\">\n",
              "  <button class=\"colab-df-quickchart\" onclick=\"quickchart('df-826f64de-ba6e-473a-9d64-b2e07562b064')\"\n",
              "            title=\"Suggest charts\"\n",
              "            style=\"display:none;\">\n",
              "\n",
              "<svg xmlns=\"http://www.w3.org/2000/svg\" height=\"24px\"viewBox=\"0 0 24 24\"\n",
              "     width=\"24px\">\n",
              "    <g>\n",
              "        <path d=\"M19 3H5c-1.1 0-2 .9-2 2v14c0 1.1.9 2 2 2h14c1.1 0 2-.9 2-2V5c0-1.1-.9-2-2-2zM9 17H7v-7h2v7zm4 0h-2V7h2v10zm4 0h-2v-4h2v4z\"/>\n",
              "    </g>\n",
              "</svg>\n",
              "  </button>\n",
              "\n",
              "<style>\n",
              "  .colab-df-quickchart {\n",
              "      --bg-color: #E8F0FE;\n",
              "      --fill-color: #1967D2;\n",
              "      --hover-bg-color: #E2EBFA;\n",
              "      --hover-fill-color: #174EA6;\n",
              "      --disabled-fill-color: #AAA;\n",
              "      --disabled-bg-color: #DDD;\n",
              "  }\n",
              "\n",
              "  [theme=dark] .colab-df-quickchart {\n",
              "      --bg-color: #3B4455;\n",
              "      --fill-color: #D2E3FC;\n",
              "      --hover-bg-color: #434B5C;\n",
              "      --hover-fill-color: #FFFFFF;\n",
              "      --disabled-bg-color: #3B4455;\n",
              "      --disabled-fill-color: #666;\n",
              "  }\n",
              "\n",
              "  .colab-df-quickchart {\n",
              "    background-color: var(--bg-color);\n",
              "    border: none;\n",
              "    border-radius: 50%;\n",
              "    cursor: pointer;\n",
              "    display: none;\n",
              "    fill: var(--fill-color);\n",
              "    height: 32px;\n",
              "    padding: 0;\n",
              "    width: 32px;\n",
              "  }\n",
              "\n",
              "  .colab-df-quickchart:hover {\n",
              "    background-color: var(--hover-bg-color);\n",
              "    box-shadow: 0 1px 2px rgba(60, 64, 67, 0.3), 0 1px 3px 1px rgba(60, 64, 67, 0.15);\n",
              "    fill: var(--button-hover-fill-color);\n",
              "  }\n",
              "\n",
              "  .colab-df-quickchart-complete:disabled,\n",
              "  .colab-df-quickchart-complete:disabled:hover {\n",
              "    background-color: var(--disabled-bg-color);\n",
              "    fill: var(--disabled-fill-color);\n",
              "    box-shadow: none;\n",
              "  }\n",
              "\n",
              "  .colab-df-spinner {\n",
              "    border: 2px solid var(--fill-color);\n",
              "    border-color: transparent;\n",
              "    border-bottom-color: var(--fill-color);\n",
              "    animation:\n",
              "      spin 1s steps(1) infinite;\n",
              "  }\n",
              "\n",
              "  @keyframes spin {\n",
              "    0% {\n",
              "      border-color: transparent;\n",
              "      border-bottom-color: var(--fill-color);\n",
              "      border-left-color: var(--fill-color);\n",
              "    }\n",
              "    20% {\n",
              "      border-color: transparent;\n",
              "      border-left-color: var(--fill-color);\n",
              "      border-top-color: var(--fill-color);\n",
              "    }\n",
              "    30% {\n",
              "      border-color: transparent;\n",
              "      border-left-color: var(--fill-color);\n",
              "      border-top-color: var(--fill-color);\n",
              "      border-right-color: var(--fill-color);\n",
              "    }\n",
              "    40% {\n",
              "      border-color: transparent;\n",
              "      border-right-color: var(--fill-color);\n",
              "      border-top-color: var(--fill-color);\n",
              "    }\n",
              "    60% {\n",
              "      border-color: transparent;\n",
              "      border-right-color: var(--fill-color);\n",
              "    }\n",
              "    80% {\n",
              "      border-color: transparent;\n",
              "      border-right-color: var(--fill-color);\n",
              "      border-bottom-color: var(--fill-color);\n",
              "    }\n",
              "    90% {\n",
              "      border-color: transparent;\n",
              "      border-bottom-color: var(--fill-color);\n",
              "    }\n",
              "  }\n",
              "</style>\n",
              "\n",
              "  <script>\n",
              "    async function quickchart(key) {\n",
              "      const quickchartButtonEl =\n",
              "        document.querySelector('#' + key + ' button');\n",
              "      quickchartButtonEl.disabled = true;  // To prevent multiple clicks.\n",
              "      quickchartButtonEl.classList.add('colab-df-spinner');\n",
              "      try {\n",
              "        const charts = await google.colab.kernel.invokeFunction(\n",
              "            'suggestCharts', [key], {});\n",
              "      } catch (error) {\n",
              "        console.error('Error during call to suggestCharts:', error);\n",
              "      }\n",
              "      quickchartButtonEl.classList.remove('colab-df-spinner');\n",
              "      quickchartButtonEl.classList.add('colab-df-quickchart-complete');\n",
              "    }\n",
              "    (() => {\n",
              "      let quickchartButtonEl =\n",
              "        document.querySelector('#df-826f64de-ba6e-473a-9d64-b2e07562b064 button');\n",
              "      quickchartButtonEl.style.display =\n",
              "        google.colab.kernel.accessAllowed ? 'block' : 'none';\n",
              "    })();\n",
              "  </script>\n",
              "</div>\n",
              "\n",
              "  <div id=\"id_6ffcfea7-408c-484f-8136-8ccd5f665347\">\n",
              "    <style>\n",
              "      .colab-df-generate {\n",
              "        background-color: #E8F0FE;\n",
              "        border: none;\n",
              "        border-radius: 50%;\n",
              "        cursor: pointer;\n",
              "        display: none;\n",
              "        fill: #1967D2;\n",
              "        height: 32px;\n",
              "        padding: 0 0 0 0;\n",
              "        width: 32px;\n",
              "      }\n",
              "\n",
              "      .colab-df-generate:hover {\n",
              "        background-color: #E2EBFA;\n",
              "        box-shadow: 0px 1px 2px rgba(60, 64, 67, 0.3), 0px 1px 3px 1px rgba(60, 64, 67, 0.15);\n",
              "        fill: #174EA6;\n",
              "      }\n",
              "\n",
              "      [theme=dark] .colab-df-generate {\n",
              "        background-color: #3B4455;\n",
              "        fill: #D2E3FC;\n",
              "      }\n",
              "\n",
              "      [theme=dark] .colab-df-generate:hover {\n",
              "        background-color: #434B5C;\n",
              "        box-shadow: 0px 1px 3px 1px rgba(0, 0, 0, 0.15);\n",
              "        filter: drop-shadow(0px 1px 2px rgba(0, 0, 0, 0.3));\n",
              "        fill: #FFFFFF;\n",
              "      }\n",
              "    </style>\n",
              "    <button class=\"colab-df-generate\" onclick=\"generateWithVariable('sg_w2v_df_results')\"\n",
              "            title=\"Generate code using this dataframe.\"\n",
              "            style=\"display:none;\">\n",
              "\n",
              "  <svg xmlns=\"http://www.w3.org/2000/svg\" height=\"24px\"viewBox=\"0 0 24 24\"\n",
              "       width=\"24px\">\n",
              "    <path d=\"M7,19H8.4L18.45,9,17,7.55,7,17.6ZM5,21V16.75L18.45,3.32a2,2,0,0,1,2.83,0l1.4,1.43a1.91,1.91,0,0,1,.58,1.4,1.91,1.91,0,0,1-.58,1.4L9.25,21ZM18.45,9,17,7.55Zm-12,3A5.31,5.31,0,0,0,4.9,8.1,5.31,5.31,0,0,0,1,6.5,5.31,5.31,0,0,0,4.9,4.9,5.31,5.31,0,0,0,6.5,1,5.31,5.31,0,0,0,8.1,4.9,5.31,5.31,0,0,0,12,6.5,5.46,5.46,0,0,0,6.5,12Z\"/>\n",
              "  </svg>\n",
              "    </button>\n",
              "    <script>\n",
              "      (() => {\n",
              "      const buttonEl =\n",
              "        document.querySelector('#id_6ffcfea7-408c-484f-8136-8ccd5f665347 button.colab-df-generate');\n",
              "      buttonEl.style.display =\n",
              "        google.colab.kernel.accessAllowed ? 'block' : 'none';\n",
              "\n",
              "      buttonEl.onclick = () => {\n",
              "        google.colab.notebook.generateWithVariable('sg_w2v_df_results');\n",
              "      }\n",
              "      })();\n",
              "    </script>\n",
              "  </div>\n",
              "\n",
              "    </div>\n",
              "  </div>\n"
            ],
            "application/vnd.google.colaboratory.intrinsic+json": {
              "type": "dataframe",
              "variable_name": "sg_w2v_df_results",
              "summary": "{\n  \"name\": \"sg_w2v_df_results\",\n  \"rows\": 32,\n  \"fields\": [\n    {\n      \"column\": \"performance metric & model\",\n      \"properties\": {\n        \"dtype\": \"string\",\n        \"num_unique_values\": 32,\n        \"samples\": [\n          \"RNN Precision w2v sg test\",\n          \"Logistic Regression  F1 w2v sg test\",\n          \"RNN Accuracy w2v sg val\"\n        ],\n        \"semantic_type\": \"\",\n        \"description\": \"\"\n      }\n    },\n    {\n      \"column\": \"results\",\n      \"properties\": {\n        \"dtype\": \"number\",\n        \"std\": 0.14622178577900252,\n        \"min\": 0.4132965367965368,\n        \"max\": 0.9113390674369999,\n        \"num_unique_values\": 24,\n        \"samples\": [\n          0.908975149288011,\n          0.8143662829588069,\n          0.88\n        ],\n        \"semantic_type\": \"\",\n        \"description\": \"\"\n      }\n    }\n  ]\n}"
            }
          },
          "metadata": {},
          "execution_count": 86
        }
      ]
    },
    {
      "cell_type": "markdown",
      "source": [
        "# evaluation\n",
        "#### note that the evaluation will be in another notebook"
      ],
      "metadata": {
        "id": "FQCJKWz4kTYg"
      }
    },
    {
      "cell_type": "code",
      "source": [
        "evaluation_df=pd.concat([tf_df_results,bow_df_results,w2v_cbow_df_results,sg_w2v_df_results],ignore_index=True)"
      ],
      "metadata": {
        "id": "Ndz-MOxOjSyF"
      },
      "execution_count": null,
      "outputs": []
    },
    {
      "cell_type": "code",
      "source": [
        "evaluation_df.to_csv('evaluation_df_4.csv',index=False)"
      ],
      "metadata": {
        "id": "LoAxI8M0kScc"
      },
      "execution_count": null,
      "outputs": []
    },
    {
      "cell_type": "code",
      "source": [
        "evaluation_df"
      ],
      "metadata": {
        "colab": {
          "base_uri": "https://localhost:8080/"
        },
        "id": "3shmYFfk4nBd",
        "outputId": "0ebf8757-ca9e-42c8-facb-4b9433c440fa"
      },
      "execution_count": null,
      "outputs": [
        {
          "output_type": "execute_result",
          "data": {
            "text/plain": [
              "       performance metric & model   results\n",
              "0     Naive Bayes Accuracy tf val  0.409000\n",
              "1    Naive Bayes Precision tf val  0.516221\n",
              "2       Naive Bayes Recall tf val  0.409000\n",
              "3           Naive Bayes F1 tf val  0.441906\n",
              "4    Naive Bayes Accuracy tf test  0.387000\n",
              "..                            ...       ...\n",
              "123            RNN  F1 w2v sg val  0.777012\n",
              "124      RNN Accuracy w2v sg test  0.445000\n",
              "125     RNN Precision w2v sg test  0.413297\n",
              "126       RNN  Recall w2v sg test  0.445000\n",
              "127           RNN  F1 w2v sg test  0.427209\n",
              "\n",
              "[128 rows x 2 columns]"
            ],
            "text/html": [
              "\n",
              "  <div id=\"df-46033588-e66d-417d-8436-98eb6fc5c039\" class=\"colab-df-container\">\n",
              "    <div>\n",
              "<style scoped>\n",
              "    .dataframe tbody tr th:only-of-type {\n",
              "        vertical-align: middle;\n",
              "    }\n",
              "\n",
              "    .dataframe tbody tr th {\n",
              "        vertical-align: top;\n",
              "    }\n",
              "\n",
              "    .dataframe thead th {\n",
              "        text-align: right;\n",
              "    }\n",
              "</style>\n",
              "<table border=\"1\" class=\"dataframe\">\n",
              "  <thead>\n",
              "    <tr style=\"text-align: right;\">\n",
              "      <th></th>\n",
              "      <th>performance metric &amp; model</th>\n",
              "      <th>results</th>\n",
              "    </tr>\n",
              "  </thead>\n",
              "  <tbody>\n",
              "    <tr>\n",
              "      <th>0</th>\n",
              "      <td>Naive Bayes Accuracy tf val</td>\n",
              "      <td>0.409000</td>\n",
              "    </tr>\n",
              "    <tr>\n",
              "      <th>1</th>\n",
              "      <td>Naive Bayes Precision tf val</td>\n",
              "      <td>0.516221</td>\n",
              "    </tr>\n",
              "    <tr>\n",
              "      <th>2</th>\n",
              "      <td>Naive Bayes Recall tf val</td>\n",
              "      <td>0.409000</td>\n",
              "    </tr>\n",
              "    <tr>\n",
              "      <th>3</th>\n",
              "      <td>Naive Bayes F1 tf val</td>\n",
              "      <td>0.441906</td>\n",
              "    </tr>\n",
              "    <tr>\n",
              "      <th>4</th>\n",
              "      <td>Naive Bayes Accuracy tf test</td>\n",
              "      <td>0.387000</td>\n",
              "    </tr>\n",
              "    <tr>\n",
              "      <th>...</th>\n",
              "      <td>...</td>\n",
              "      <td>...</td>\n",
              "    </tr>\n",
              "    <tr>\n",
              "      <th>123</th>\n",
              "      <td>RNN  F1 w2v sg val</td>\n",
              "      <td>0.777012</td>\n",
              "    </tr>\n",
              "    <tr>\n",
              "      <th>124</th>\n",
              "      <td>RNN Accuracy w2v sg test</td>\n",
              "      <td>0.445000</td>\n",
              "    </tr>\n",
              "    <tr>\n",
              "      <th>125</th>\n",
              "      <td>RNN Precision w2v sg test</td>\n",
              "      <td>0.413297</td>\n",
              "    </tr>\n",
              "    <tr>\n",
              "      <th>126</th>\n",
              "      <td>RNN  Recall w2v sg test</td>\n",
              "      <td>0.445000</td>\n",
              "    </tr>\n",
              "    <tr>\n",
              "      <th>127</th>\n",
              "      <td>RNN  F1 w2v sg test</td>\n",
              "      <td>0.427209</td>\n",
              "    </tr>\n",
              "  </tbody>\n",
              "</table>\n",
              "<p>128 rows × 2 columns</p>\n",
              "</div>\n",
              "    <div class=\"colab-df-buttons\">\n",
              "\n",
              "  <div class=\"colab-df-container\">\n",
              "    <button class=\"colab-df-convert\" onclick=\"convertToInteractive('df-46033588-e66d-417d-8436-98eb6fc5c039')\"\n",
              "            title=\"Convert this dataframe to an interactive table.\"\n",
              "            style=\"display:none;\">\n",
              "\n",
              "  <svg xmlns=\"http://www.w3.org/2000/svg\" height=\"24px\" viewBox=\"0 -960 960 960\">\n",
              "    <path d=\"M120-120v-720h720v720H120Zm60-500h600v-160H180v160Zm220 220h160v-160H400v160Zm0 220h160v-160H400v160ZM180-400h160v-160H180v160Zm440 0h160v-160H620v160ZM180-180h160v-160H180v160Zm440 0h160v-160H620v160Z\"/>\n",
              "  </svg>\n",
              "    </button>\n",
              "\n",
              "  <style>\n",
              "    .colab-df-container {\n",
              "      display:flex;\n",
              "      gap: 12px;\n",
              "    }\n",
              "\n",
              "    .colab-df-convert {\n",
              "      background-color: #E8F0FE;\n",
              "      border: none;\n",
              "      border-radius: 50%;\n",
              "      cursor: pointer;\n",
              "      display: none;\n",
              "      fill: #1967D2;\n",
              "      height: 32px;\n",
              "      padding: 0 0 0 0;\n",
              "      width: 32px;\n",
              "    }\n",
              "\n",
              "    .colab-df-convert:hover {\n",
              "      background-color: #E2EBFA;\n",
              "      box-shadow: 0px 1px 2px rgba(60, 64, 67, 0.3), 0px 1px 3px 1px rgba(60, 64, 67, 0.15);\n",
              "      fill: #174EA6;\n",
              "    }\n",
              "\n",
              "    .colab-df-buttons div {\n",
              "      margin-bottom: 4px;\n",
              "    }\n",
              "\n",
              "    [theme=dark] .colab-df-convert {\n",
              "      background-color: #3B4455;\n",
              "      fill: #D2E3FC;\n",
              "    }\n",
              "\n",
              "    [theme=dark] .colab-df-convert:hover {\n",
              "      background-color: #434B5C;\n",
              "      box-shadow: 0px 1px 3px 1px rgba(0, 0, 0, 0.15);\n",
              "      filter: drop-shadow(0px 1px 2px rgba(0, 0, 0, 0.3));\n",
              "      fill: #FFFFFF;\n",
              "    }\n",
              "  </style>\n",
              "\n",
              "    <script>\n",
              "      const buttonEl =\n",
              "        document.querySelector('#df-46033588-e66d-417d-8436-98eb6fc5c039 button.colab-df-convert');\n",
              "      buttonEl.style.display =\n",
              "        google.colab.kernel.accessAllowed ? 'block' : 'none';\n",
              "\n",
              "      async function convertToInteractive(key) {\n",
              "        const element = document.querySelector('#df-46033588-e66d-417d-8436-98eb6fc5c039');\n",
              "        const dataTable =\n",
              "          await google.colab.kernel.invokeFunction('convertToInteractive',\n",
              "                                                    [key], {});\n",
              "        if (!dataTable) return;\n",
              "\n",
              "        const docLinkHtml = 'Like what you see? Visit the ' +\n",
              "          '<a target=\"_blank\" href=https://colab.research.google.com/notebooks/data_table.ipynb>data table notebook</a>'\n",
              "          + ' to learn more about interactive tables.';\n",
              "        element.innerHTML = '';\n",
              "        dataTable['output_type'] = 'display_data';\n",
              "        await google.colab.output.renderOutput(dataTable, element);\n",
              "        const docLink = document.createElement('div');\n",
              "        docLink.innerHTML = docLinkHtml;\n",
              "        element.appendChild(docLink);\n",
              "      }\n",
              "    </script>\n",
              "  </div>\n",
              "\n",
              "\n",
              "<div id=\"df-a428b4d2-e23d-4e9a-9351-cf4c2b1adc52\">\n",
              "  <button class=\"colab-df-quickchart\" onclick=\"quickchart('df-a428b4d2-e23d-4e9a-9351-cf4c2b1adc52')\"\n",
              "            title=\"Suggest charts\"\n",
              "            style=\"display:none;\">\n",
              "\n",
              "<svg xmlns=\"http://www.w3.org/2000/svg\" height=\"24px\"viewBox=\"0 0 24 24\"\n",
              "     width=\"24px\">\n",
              "    <g>\n",
              "        <path d=\"M19 3H5c-1.1 0-2 .9-2 2v14c0 1.1.9 2 2 2h14c1.1 0 2-.9 2-2V5c0-1.1-.9-2-2-2zM9 17H7v-7h2v7zm4 0h-2V7h2v10zm4 0h-2v-4h2v4z\"/>\n",
              "    </g>\n",
              "</svg>\n",
              "  </button>\n",
              "\n",
              "<style>\n",
              "  .colab-df-quickchart {\n",
              "      --bg-color: #E8F0FE;\n",
              "      --fill-color: #1967D2;\n",
              "      --hover-bg-color: #E2EBFA;\n",
              "      --hover-fill-color: #174EA6;\n",
              "      --disabled-fill-color: #AAA;\n",
              "      --disabled-bg-color: #DDD;\n",
              "  }\n",
              "\n",
              "  [theme=dark] .colab-df-quickchart {\n",
              "      --bg-color: #3B4455;\n",
              "      --fill-color: #D2E3FC;\n",
              "      --hover-bg-color: #434B5C;\n",
              "      --hover-fill-color: #FFFFFF;\n",
              "      --disabled-bg-color: #3B4455;\n",
              "      --disabled-fill-color: #666;\n",
              "  }\n",
              "\n",
              "  .colab-df-quickchart {\n",
              "    background-color: var(--bg-color);\n",
              "    border: none;\n",
              "    border-radius: 50%;\n",
              "    cursor: pointer;\n",
              "    display: none;\n",
              "    fill: var(--fill-color);\n",
              "    height: 32px;\n",
              "    padding: 0;\n",
              "    width: 32px;\n",
              "  }\n",
              "\n",
              "  .colab-df-quickchart:hover {\n",
              "    background-color: var(--hover-bg-color);\n",
              "    box-shadow: 0 1px 2px rgba(60, 64, 67, 0.3), 0 1px 3px 1px rgba(60, 64, 67, 0.15);\n",
              "    fill: var(--button-hover-fill-color);\n",
              "  }\n",
              "\n",
              "  .colab-df-quickchart-complete:disabled,\n",
              "  .colab-df-quickchart-complete:disabled:hover {\n",
              "    background-color: var(--disabled-bg-color);\n",
              "    fill: var(--disabled-fill-color);\n",
              "    box-shadow: none;\n",
              "  }\n",
              "\n",
              "  .colab-df-spinner {\n",
              "    border: 2px solid var(--fill-color);\n",
              "    border-color: transparent;\n",
              "    border-bottom-color: var(--fill-color);\n",
              "    animation:\n",
              "      spin 1s steps(1) infinite;\n",
              "  }\n",
              "\n",
              "  @keyframes spin {\n",
              "    0% {\n",
              "      border-color: transparent;\n",
              "      border-bottom-color: var(--fill-color);\n",
              "      border-left-color: var(--fill-color);\n",
              "    }\n",
              "    20% {\n",
              "      border-color: transparent;\n",
              "      border-left-color: var(--fill-color);\n",
              "      border-top-color: var(--fill-color);\n",
              "    }\n",
              "    30% {\n",
              "      border-color: transparent;\n",
              "      border-left-color: var(--fill-color);\n",
              "      border-top-color: var(--fill-color);\n",
              "      border-right-color: var(--fill-color);\n",
              "    }\n",
              "    40% {\n",
              "      border-color: transparent;\n",
              "      border-right-color: var(--fill-color);\n",
              "      border-top-color: var(--fill-color);\n",
              "    }\n",
              "    60% {\n",
              "      border-color: transparent;\n",
              "      border-right-color: var(--fill-color);\n",
              "    }\n",
              "    80% {\n",
              "      border-color: transparent;\n",
              "      border-right-color: var(--fill-color);\n",
              "      border-bottom-color: var(--fill-color);\n",
              "    }\n",
              "    90% {\n",
              "      border-color: transparent;\n",
              "      border-bottom-color: var(--fill-color);\n",
              "    }\n",
              "  }\n",
              "</style>\n",
              "\n",
              "  <script>\n",
              "    async function quickchart(key) {\n",
              "      const quickchartButtonEl =\n",
              "        document.querySelector('#' + key + ' button');\n",
              "      quickchartButtonEl.disabled = true;  // To prevent multiple clicks.\n",
              "      quickchartButtonEl.classList.add('colab-df-spinner');\n",
              "      try {\n",
              "        const charts = await google.colab.kernel.invokeFunction(\n",
              "            'suggestCharts', [key], {});\n",
              "      } catch (error) {\n",
              "        console.error('Error during call to suggestCharts:', error);\n",
              "      }\n",
              "      quickchartButtonEl.classList.remove('colab-df-spinner');\n",
              "      quickchartButtonEl.classList.add('colab-df-quickchart-complete');\n",
              "    }\n",
              "    (() => {\n",
              "      let quickchartButtonEl =\n",
              "        document.querySelector('#df-a428b4d2-e23d-4e9a-9351-cf4c2b1adc52 button');\n",
              "      quickchartButtonEl.style.display =\n",
              "        google.colab.kernel.accessAllowed ? 'block' : 'none';\n",
              "    })();\n",
              "  </script>\n",
              "</div>\n",
              "\n",
              "  <div id=\"id_52cea25f-e9cd-45d4-b9c3-812b47f4ec06\">\n",
              "    <style>\n",
              "      .colab-df-generate {\n",
              "        background-color: #E8F0FE;\n",
              "        border: none;\n",
              "        border-radius: 50%;\n",
              "        cursor: pointer;\n",
              "        display: none;\n",
              "        fill: #1967D2;\n",
              "        height: 32px;\n",
              "        padding: 0 0 0 0;\n",
              "        width: 32px;\n",
              "      }\n",
              "\n",
              "      .colab-df-generate:hover {\n",
              "        background-color: #E2EBFA;\n",
              "        box-shadow: 0px 1px 2px rgba(60, 64, 67, 0.3), 0px 1px 3px 1px rgba(60, 64, 67, 0.15);\n",
              "        fill: #174EA6;\n",
              "      }\n",
              "\n",
              "      [theme=dark] .colab-df-generate {\n",
              "        background-color: #3B4455;\n",
              "        fill: #D2E3FC;\n",
              "      }\n",
              "\n",
              "      [theme=dark] .colab-df-generate:hover {\n",
              "        background-color: #434B5C;\n",
              "        box-shadow: 0px 1px 3px 1px rgba(0, 0, 0, 0.15);\n",
              "        filter: drop-shadow(0px 1px 2px rgba(0, 0, 0, 0.3));\n",
              "        fill: #FFFFFF;\n",
              "      }\n",
              "    </style>\n",
              "    <button class=\"colab-df-generate\" onclick=\"generateWithVariable('evaluation_df')\"\n",
              "            title=\"Generate code using this dataframe.\"\n",
              "            style=\"display:none;\">\n",
              "\n",
              "  <svg xmlns=\"http://www.w3.org/2000/svg\" height=\"24px\"viewBox=\"0 0 24 24\"\n",
              "       width=\"24px\">\n",
              "    <path d=\"M7,19H8.4L18.45,9,17,7.55,7,17.6ZM5,21V16.75L18.45,3.32a2,2,0,0,1,2.83,0l1.4,1.43a1.91,1.91,0,0,1,.58,1.4,1.91,1.91,0,0,1-.58,1.4L9.25,21ZM18.45,9,17,7.55Zm-12,3A5.31,5.31,0,0,0,4.9,8.1,5.31,5.31,0,0,0,1,6.5,5.31,5.31,0,0,0,4.9,4.9,5.31,5.31,0,0,0,6.5,1,5.31,5.31,0,0,0,8.1,4.9,5.31,5.31,0,0,0,12,6.5,5.46,5.46,0,0,0,6.5,12Z\"/>\n",
              "  </svg>\n",
              "    </button>\n",
              "    <script>\n",
              "      (() => {\n",
              "      const buttonEl =\n",
              "        document.querySelector('#id_52cea25f-e9cd-45d4-b9c3-812b47f4ec06 button.colab-df-generate');\n",
              "      buttonEl.style.display =\n",
              "        google.colab.kernel.accessAllowed ? 'block' : 'none';\n",
              "\n",
              "      buttonEl.onclick = () => {\n",
              "        google.colab.notebook.generateWithVariable('evaluation_df');\n",
              "      }\n",
              "      })();\n",
              "    </script>\n",
              "  </div>\n",
              "\n",
              "    </div>\n",
              "  </div>\n"
            ],
            "application/vnd.google.colaboratory.intrinsic+json": {
              "type": "dataframe",
              "variable_name": "evaluation_df",
              "summary": "{\n  \"name\": \"evaluation_df\",\n  \"rows\": 128,\n  \"fields\": [\n    {\n      \"column\": \"performance metric & model\",\n      \"properties\": {\n        \"dtype\": \"string\",\n        \"num_unique_values\": 128,\n        \"samples\": [\n          \"LSTM  F1 bow test\",\n          \"Logistic Regression Accuracy bow val\",\n          \"LSTM F1 tf val\"\n        ],\n        \"semantic_type\": \"\",\n        \"description\": \"\"\n      }\n    },\n    {\n      \"column\": \"results\",\n      \"properties\": {\n        \"dtype\": \"number\",\n        \"std\": 0.19409815885114312,\n        \"min\": 0.3317692730953475,\n        \"max\": 0.9113390674369999,\n        \"num_unique_values\": 93,\n        \"samples\": [\n          0.714,\n          0.5591445112727317,\n          0.905\n        ],\n        \"semantic_type\": \"\",\n        \"description\": \"\"\n      }\n    }\n  ]\n}"
            }
          },
          "metadata": {},
          "execution_count": 89
        }
      ]
    }
  ]
}